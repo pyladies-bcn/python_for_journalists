{
 "metadata": {
  "celltoolbar": "Slideshow",
  "name": "",
  "signature": "sha256:c8a38590932ef76fd570df11dcaade1518ef97931529558e16696db18a5f9775"
 },
 "nbformat": 3,
 "nbformat_minor": 0,
 "worksheets": [
  {
   "cells": [
    {
     "cell_type": "markdown",
     "metadata": {
      "slideshow": {
       "slide_type": "slide"
      }
     },
     "source": [
      "<center>\n",
      "\n",
      "<img src=\"https://raw.githubusercontent.com/pyladies-bcn/pyladies_latex_template/master/pyladies.png\" WIDTH=600> \n",
      "\n",
      "<h1>\n",
      "WORSHOP<br>\n",
      "\"Python for Journalists\"<br>\n",
      "</h1>\n",
      "\n",
      "<dl>\n",
      "<dt><br></dt>\n",
      "<dt>Cristina Ram\u00f3n @crisodisy</dt>\n",
      "<dt>N\u00faria Pujol @llevaNEUS</dt>\n",
      "<dt>Laura P\u00e9rez @lpmayos</dt>\n",
      "</dl> \n",
      "\n",
      "</center>"
     ]
    },
    {
     "cell_type": "markdown",
     "metadata": {
      "slideshow": {
       "slide_type": "slide"
      }
     },
     "source": [
      "In this session we are going to teach you how to use Python with 3 examples that solve represenative everyday journalists tasks related to data management.\n",
      "\n",
      "* Cleaning .CSV files with messy data \n",
      "* Obtain statistics from data in .CSV files \n",
      "* Introduction about how to obtain information from Twitter"
     ]
    },
    {
     "cell_type": "markdown",
     "metadata": {
      "slideshow": {
       "slide_type": "subslide"
      }
     },
     "source": [
      "##0. Download all required files "
     ]
    },
    {
     "cell_type": "markdown",
     "metadata": {
      "slideshow": {
       "slide_type": "subslide"
      }
     },
     "source": [
      "All required files are in PyLadiesBCN GitHub online repository and can be donwloaded easily:\n",
      "\n",
      "* Go to [https://github.com/pyladies-bcn/python_for_journalists](https://github.com/pyladies-bcn/python_for_journalists)\n",
      "* Push 'Download Zip' button to download it.\n",
      "* Unzip files in your computer.\n",
      "* Open IPython Notebook in the same directory."
     ]
    },
    {
     "cell_type": "markdown",
     "metadata": {
      "slideshow": {
       "slide_type": "slide"
      }
     },
     "source": [
      "##1. Cleaning messy data"
     ]
    },
    {
     "cell_type": "markdown",
     "metadata": {
      "slideshow": {
       "slide_type": "fragment"
      }
     },
     "source": [
      "Data is usually messy and not ready to be analysed. We will to \u201cclean\u201d it before we can start working with.  \n",
      "For this exercise we are going to use a real data frame: the evolution of broadband lines in Spain.   \n",
      "Data is obtained from CNMCData [http://data.cnmc.es/datagraph/](http://data.cnmc.es/datagraph/)."
     ]
    },
    {
     "cell_type": "markdown",
     "metadata": {
      "slideshow": {
       "slide_type": "subslide"
      }
     },
     "source": [
      "###1.1 Check that we have all necessary files in current directory"
     ]
    },
    {
     "cell_type": "markdown",
     "metadata": {
      "slideshow": {
       "slide_type": "fragment"
      }
     },
     "source": [
      "First of all, we have to ensure that all files we downloded from PyLadiesBCN repository are in the working directory and all data files are available.  \n",
      "In this exercice we are going to work with data stored in **\"01_data.csv\"**."
     ]
    },
    {
     "cell_type": "markdown",
     "metadata": {
      "slideshow": {
       "slide_type": "fragment"
      }
     },
     "source": [
      "We have to import Python os module because this module has files and directories functionalities."
     ]
    },
    {
     "cell_type": "code",
     "collapsed": false,
     "input": [
      "import os"
     ],
     "language": "python",
     "metadata": {
      "slideshow": {
       "slide_type": "fragment"
      }
     },
     "outputs": [],
     "prompt_number": 1
    },
    {
     "cell_type": "code",
     "collapsed": false,
     "input": [
      "print os.getcwd()"
     ],
     "language": "python",
     "metadata": {
      "slideshow": {
       "slide_type": "fragment"
      }
     },
     "outputs": [
      {
       "output_type": "stream",
       "stream": "stdout",
       "text": [
        "/home/nuria/Projectes/Python_workshops/201503_PyhtonPeriodistes\n"
       ]
      }
     ],
     "prompt_number": 2
    },
    {
     "cell_type": "code",
     "collapsed": false,
     "input": [
      "print os.listdir('.')"
     ],
     "language": "python",
     "metadata": {
      "slideshow": {
       "slide_type": "fragment"
      }
     },
     "outputs": [
      {
       "output_type": "stream",
       "stream": "stdout",
       "text": [
        "['twitter_keys.db', '01_tutorial_csv_limpiardatos.py', '02_tutorial_csv_estadisticas.py', '._crosstab_tipo_06.csv', 'crosstab_tipo_06.csv', 'Instruccions_python_periodistes.txt', '02_data_kiva_loans.csv', 'mi_timeline.csv', '03_tutorial_twitter.py', 'tutorial_csv_limpiardatos.py', '01_data.csv', 'prestamos_kiva.csv', 'mi_busqueda.csv', 'Python_Periodistes.slides.html', '.ipynb_checkpoints', 'Python_Periodistes.ipynb', 'tutorial_csv_estadisticas.py']\n"
       ]
      }
     ],
     "prompt_number": 3
    },
    {
     "cell_type": "markdown",
     "metadata": {
      "slideshow": {
       "slide_type": "subslide"
      }
     },
     "source": [
      "###1.2 Load .csv in a dataframe after to import pandas library"
     ]
    },
    {
     "cell_type": "markdown",
     "metadata": {
      "slideshow": {
       "slide_type": "fragment"
      }
     },
     "source": [
      "Pandas is a Python module especialized to work on data structures (.csv files, databases etc.) providing statictics and plotting functionalities. "
     ]
    },
    {
     "cell_type": "code",
     "collapsed": false,
     "input": [
      "import pandas as pd "
     ],
     "language": "python",
     "metadata": {
      "slideshow": {
       "slide_type": "fragment"
      }
     },
     "outputs": [],
     "prompt_number": 4
    },
    {
     "cell_type": "code",
     "collapsed": false,
     "input": [
      "#We call 'pandas' functions with pd + dot + name_of_function\n",
      "raw_data = pd.read_csv(\"01_data.csv\")"
     ],
     "language": "python",
     "metadata": {
      "slideshow": {
       "slide_type": "fragment"
      }
     },
     "outputs": [],
     "prompt_number": 5
    },
    {
     "cell_type": "markdown",
     "metadata": {
      "slideshow": {
       "slide_type": "subslide"
      }
     },
     "source": [
      "Take a look at data obteined from our .csv file!"
     ]
    },
    {
     "cell_type": "code",
     "collapsed": false,
     "input": [
      "#Let's show the content of the dataframe\n",
      "raw_data "
     ],
     "language": "python",
     "metadata": {
      "slideshow": {
       "slide_type": "fragment"
      }
     },
     "outputs": [
      {
       "html": [
        "<div style=\"max-height:1000px;max-width:1500px;overflow:auto;\">\n",
        "<table border=\"1\" class=\"dataframe\">\n",
        "  <thead>\n",
        "    <tr style=\"text-align: right;\">\n",
        "      <th></th>\n",
        "      <th>Unnamed: 0</th>\n",
        "      <th>Unnamed: 1</th>\n",
        "      <th>Unnamed: 2</th>\n",
        "      <th>Unnamed: 3</th>\n",
        "      <th>Unnamed: 4</th>\n",
        "      <th>Unnamed: 5</th>\n",
        "      <th>Unnamed: 6</th>\n",
        "      <th>Unnamed: 7</th>\n",
        "      <th>Unnamed: 8</th>\n",
        "      <th>Unnamed: 9</th>\n",
        "      <th>Unnamed: 10</th>\n",
        "      <th>Unnamed: 11</th>\n",
        "      <th>Unnamed: 12</th>\n",
        "      <th>Unnamed: 13</th>\n",
        "      <th>Unnamed: 14</th>\n",
        "      <th>Unnamed: 15</th>\n",
        "    </tr>\n",
        "  </thead>\n",
        "  <tbody>\n",
        "    <tr>\n",
        "      <th>0 </th>\n",
        "      <td> 3. BANDA ANCHA FIJA MINORISTA   -   b) Datos p...</td>\n",
        "      <td>      NaN</td>\n",
        "      <td>      NaN</td>\n",
        "      <td>      NaN</td>\n",
        "      <td>      NaN</td>\n",
        "      <td>      NaN</td>\n",
        "      <td>      NaN</td>\n",
        "      <td>      NaN</td>\n",
        "      <td>      NaN</td>\n",
        "      <td>      NaN</td>\n",
        "      <td>      NaN</td>\n",
        "      <td>      NaN</td>\n",
        "      <td>      NaN</td>\n",
        "      <td>      NaN</td>\n",
        "      <td>NaN</td>\n",
        "      <td>NaN</td>\n",
        "    </tr>\n",
        "    <tr>\n",
        "      <th>1 </th>\n",
        "      <td> 15. L\u00edneas de banda ancha fija por tipo de ope...</td>\n",
        "      <td>      NaN</td>\n",
        "      <td>      NaN</td>\n",
        "      <td>      NaN</td>\n",
        "      <td>      NaN</td>\n",
        "      <td>      NaN</td>\n",
        "      <td>      NaN</td>\n",
        "      <td>      NaN</td>\n",
        "      <td>      NaN</td>\n",
        "      <td>      NaN</td>\n",
        "      <td>      NaN</td>\n",
        "      <td>      NaN</td>\n",
        "      <td>      NaN</td>\n",
        "      <td>      NaN</td>\n",
        "      <td>NaN</td>\n",
        "      <td>NaN</td>\n",
        "    </tr>\n",
        "    <tr>\n",
        "      <th>2 </th>\n",
        "      <td>                                               NaN</td>\n",
        "      <td>      NaN</td>\n",
        "      <td>      NaN</td>\n",
        "      <td>      NaN</td>\n",
        "      <td>      NaN</td>\n",
        "      <td>      NaN</td>\n",
        "      <td>      NaN</td>\n",
        "      <td>      NaN</td>\n",
        "      <td>      NaN</td>\n",
        "      <td>      NaN</td>\n",
        "      <td>      NaN</td>\n",
        "      <td>      NaN</td>\n",
        "      <td>      NaN</td>\n",
        "      <td>      NaN</td>\n",
        "      <td>NaN</td>\n",
        "      <td>NaN</td>\n",
        "    </tr>\n",
        "    <tr>\n",
        "      <th>3 </th>\n",
        "      <td>                                               NaN</td>\n",
        "      <td> Nov-2013</td>\n",
        "      <td> Dic-2013</td>\n",
        "      <td> Ene-2014</td>\n",
        "      <td> Feb-2014</td>\n",
        "      <td> Mar-2014</td>\n",
        "      <td> Abr-2014</td>\n",
        "      <td> May-2014</td>\n",
        "      <td> Jun-2014</td>\n",
        "      <td> Jul-2014</td>\n",
        "      <td> Ago-2014</td>\n",
        "      <td> Sep-2014</td>\n",
        "      <td> Oct-2014</td>\n",
        "      <td> Nov-2014</td>\n",
        "      <td>NaN</td>\n",
        "      <td>NaN</td>\n",
        "    </tr>\n",
        "    <tr>\n",
        "      <th>4 </th>\n",
        "      <td>                                        Telef\u00f3nica</td>\n",
        "      <td>  5702755</td>\n",
        "      <td>  5711891</td>\n",
        "      <td>  5718376</td>\n",
        "      <td>  5723195</td>\n",
        "      <td>  5724311</td>\n",
        "      <td>  5711636</td>\n",
        "      <td>  5713011</td>\n",
        "      <td>  5724807</td>\n",
        "      <td>  5731881</td>\n",
        "      <td>  5725277</td>\n",
        "      <td>  5735733</td>\n",
        "      <td>  5742624</td>\n",
        "      <td>  5743931</td>\n",
        "      <td>NaN</td>\n",
        "      <td>NaN</td>\n",
        "    </tr>\n",
        "    <tr>\n",
        "      <th>5 </th>\n",
        "      <td>                               Operadores de cable</td>\n",
        "      <td>  2133232</td>\n",
        "      <td>  2129033</td>\n",
        "      <td>  2140364</td>\n",
        "      <td>  2150652</td>\n",
        "      <td>  2162984</td>\n",
        "      <td>  2169792</td>\n",
        "      <td>  2175578</td>\n",
        "      <td>  2173819</td>\n",
        "      <td>  2159384</td>\n",
        "      <td>  2155431</td>\n",
        "      <td>  2187137</td>\n",
        "      <td>  2215603</td>\n",
        "      <td>  2229438</td>\n",
        "      <td>NaN</td>\n",
        "      <td>NaN</td>\n",
        "    </tr>\n",
        "    <tr>\n",
        "      <th>6 </th>\n",
        "      <td>                                             Resto</td>\n",
        "      <td>  4335457</td>\n",
        "      <td>  4378659</td>\n",
        "      <td>  4439370</td>\n",
        "      <td>  4493150</td>\n",
        "      <td>  4540297</td>\n",
        "      <td>  4579294</td>\n",
        "      <td>  4612435</td>\n",
        "      <td>  4665818</td>\n",
        "      <td>  4688414</td>\n",
        "      <td>  4737807</td>\n",
        "      <td>  4801011</td>\n",
        "      <td>  4865076</td>\n",
        "      <td>  4917294</td>\n",
        "      <td>NaN</td>\n",
        "      <td>NaN</td>\n",
        "    </tr>\n",
        "    <tr>\n",
        "      <th>7 </th>\n",
        "      <td>                                             Total</td>\n",
        "      <td> 12171444</td>\n",
        "      <td> 12219583</td>\n",
        "      <td> 12298110</td>\n",
        "      <td> 12366997</td>\n",
        "      <td> 12427592</td>\n",
        "      <td> 12460722</td>\n",
        "      <td> 12501024</td>\n",
        "      <td> 12564444</td>\n",
        "      <td> 12579679</td>\n",
        "      <td> 12618515</td>\n",
        "      <td> 12723881</td>\n",
        "      <td> 12823303</td>\n",
        "      <td> 12890663</td>\n",
        "      <td>NaN</td>\n",
        "      <td>NaN</td>\n",
        "    </tr>\n",
        "    <tr>\n",
        "      <th>8 </th>\n",
        "      <td>                                               NaN</td>\n",
        "      <td>      NaN</td>\n",
        "      <td>      NaN</td>\n",
        "      <td>      NaN</td>\n",
        "      <td>      NaN</td>\n",
        "      <td>      NaN</td>\n",
        "      <td>      NaN</td>\n",
        "      <td>      NaN</td>\n",
        "      <td>      NaN</td>\n",
        "      <td>      NaN</td>\n",
        "      <td>      NaN</td>\n",
        "      <td>      NaN</td>\n",
        "      <td>      NaN</td>\n",
        "      <td>      NaN</td>\n",
        "      <td>NaN</td>\n",
        "      <td>NaN</td>\n",
        "    </tr>\n",
        "    <tr>\n",
        "      <th>9 </th>\n",
        "      <td>                                               NaN</td>\n",
        "      <td>      NaN</td>\n",
        "      <td>      NaN</td>\n",
        "      <td>      NaN</td>\n",
        "      <td>      NaN</td>\n",
        "      <td>      NaN</td>\n",
        "      <td>      NaN</td>\n",
        "      <td>      NaN</td>\n",
        "      <td>      NaN</td>\n",
        "      <td>      NaN</td>\n",
        "      <td>      NaN</td>\n",
        "      <td>      NaN</td>\n",
        "      <td>      NaN</td>\n",
        "      <td>      NaN</td>\n",
        "      <td>NaN</td>\n",
        "      <td>NaN</td>\n",
        "    </tr>\n",
        "    <tr>\n",
        "      <th>10</th>\n",
        "      <td>                                               NaN</td>\n",
        "      <td>      NaN</td>\n",
        "      <td>      NaN</td>\n",
        "      <td>      NaN</td>\n",
        "      <td>      NaN</td>\n",
        "      <td>      NaN</td>\n",
        "      <td>      NaN</td>\n",
        "      <td>      NaN</td>\n",
        "      <td>      NaN</td>\n",
        "      <td>      NaN</td>\n",
        "      <td>      NaN</td>\n",
        "      <td>      NaN</td>\n",
        "      <td>      NaN</td>\n",
        "      <td>      NaN</td>\n",
        "      <td>NaN</td>\n",
        "      <td>NaN</td>\n",
        "    </tr>\n",
        "    <tr>\n",
        "      <th>11</th>\n",
        "      <td>                   \u00daltima actualizaci\u00f3n 26/01/2015</td>\n",
        "      <td>      NaN</td>\n",
        "      <td>      NaN</td>\n",
        "      <td>      NaN</td>\n",
        "      <td>      NaN</td>\n",
        "      <td>      NaN</td>\n",
        "      <td>      NaN</td>\n",
        "      <td>      NaN</td>\n",
        "      <td>      NaN</td>\n",
        "      <td>      NaN</td>\n",
        "      <td>      NaN</td>\n",
        "      <td>      NaN</td>\n",
        "      <td>      NaN</td>\n",
        "      <td>      NaN</td>\n",
        "      <td>NaN</td>\n",
        "      <td>NaN</td>\n",
        "    </tr>\n",
        "    <tr>\n",
        "      <th>12</th>\n",
        "      <td>                    Extracci\u00f3n de datos 02/02/2015</td>\n",
        "      <td>      NaN</td>\n",
        "      <td>      NaN</td>\n",
        "      <td>      NaN</td>\n",
        "      <td>      NaN</td>\n",
        "      <td>      NaN</td>\n",
        "      <td>      NaN</td>\n",
        "      <td>      NaN</td>\n",
        "      <td>      NaN</td>\n",
        "      <td>      NaN</td>\n",
        "      <td>      NaN</td>\n",
        "      <td>      NaN</td>\n",
        "      <td>      NaN</td>\n",
        "      <td>      NaN</td>\n",
        "      <td>NaN</td>\n",
        "      <td>NaN</td>\n",
        "    </tr>\n",
        "    <tr>\n",
        "      <th>13</th>\n",
        "      <td> Comisi\u00f3n Nacional de los Mercados y de la Comp...</td>\n",
        "      <td>      NaN</td>\n",
        "      <td>      NaN</td>\n",
        "      <td>      NaN</td>\n",
        "      <td>      NaN</td>\n",
        "      <td>      NaN</td>\n",
        "      <td>      NaN</td>\n",
        "      <td>      NaN</td>\n",
        "      <td>      NaN</td>\n",
        "      <td>      NaN</td>\n",
        "      <td>      NaN</td>\n",
        "      <td>      NaN</td>\n",
        "      <td>      NaN</td>\n",
        "      <td>      NaN</td>\n",
        "      <td>NaN</td>\n",
        "      <td>NaN</td>\n",
        "    </tr>\n",
        "    <tr>\n",
        "      <th>14</th>\n",
        "      <td> La difusi\u00f3n de informaci\u00f3n que se realiza por ...</td>\n",
        "      <td>      NaN</td>\n",
        "      <td>      NaN</td>\n",
        "      <td>      NaN</td>\n",
        "      <td>      NaN</td>\n",
        "      <td>      NaN</td>\n",
        "      <td>      NaN</td>\n",
        "      <td>      NaN</td>\n",
        "      <td>      NaN</td>\n",
        "      <td>      NaN</td>\n",
        "      <td>      NaN</td>\n",
        "      <td>      NaN</td>\n",
        "      <td>      NaN</td>\n",
        "      <td>      NaN</td>\n",
        "      <td>NaN</td>\n",
        "      <td>NaN</td>\n",
        "    </tr>\n",
        "  </tbody>\n",
        "</table>\n",
        "</div>"
       ],
       "metadata": {},
       "output_type": "pyout",
       "prompt_number": 6,
       "text": [
        "                                           Unnamed: 0 Unnamed: 1 Unnamed: 2  \\\n",
        "0   3. BANDA ANCHA FIJA MINORISTA   -   b) Datos p...        NaN        NaN   \n",
        "1   15. L\u00edneas de banda ancha fija por tipo de ope...        NaN        NaN   \n",
        "2                                                 NaN        NaN        NaN   \n",
        "3                                                 NaN   Nov-2013   Dic-2013   \n",
        "4                                          Telef\u00f3nica    5702755    5711891   \n",
        "5                                 Operadores de cable    2133232    2129033   \n",
        "6                                               Resto    4335457    4378659   \n",
        "7                                               Total   12171444   12219583   \n",
        "8                                                 NaN        NaN        NaN   \n",
        "9                                                 NaN        NaN        NaN   \n",
        "10                                                NaN        NaN        NaN   \n",
        "11                    \u00daltima actualizaci\u00f3n 26/01/2015        NaN        NaN   \n",
        "12                     Extracci\u00f3n de datos 02/02/2015        NaN        NaN   \n",
        "13  Comisi\u00f3n Nacional de los Mercados y de la Comp...        NaN        NaN   \n",
        "14  La difusi\u00f3n de informaci\u00f3n que se realiza por ...        NaN        NaN   \n",
        "\n",
        "   Unnamed: 3 Unnamed: 4 Unnamed: 5 Unnamed: 6 Unnamed: 7 Unnamed: 8  \\\n",
        "0         NaN        NaN        NaN        NaN        NaN        NaN   \n",
        "1         NaN        NaN        NaN        NaN        NaN        NaN   \n",
        "2         NaN        NaN        NaN        NaN        NaN        NaN   \n",
        "3    Ene-2014   Feb-2014   Mar-2014   Abr-2014   May-2014   Jun-2014   \n",
        "4     5718376    5723195    5724311    5711636    5713011    5724807   \n",
        "5     2140364    2150652    2162984    2169792    2175578    2173819   \n",
        "6     4439370    4493150    4540297    4579294    4612435    4665818   \n",
        "7    12298110   12366997   12427592   12460722   12501024   12564444   \n",
        "8         NaN        NaN        NaN        NaN        NaN        NaN   \n",
        "9         NaN        NaN        NaN        NaN        NaN        NaN   \n",
        "10        NaN        NaN        NaN        NaN        NaN        NaN   \n",
        "11        NaN        NaN        NaN        NaN        NaN        NaN   \n",
        "12        NaN        NaN        NaN        NaN        NaN        NaN   \n",
        "13        NaN        NaN        NaN        NaN        NaN        NaN   \n",
        "14        NaN        NaN        NaN        NaN        NaN        NaN   \n",
        "\n",
        "   Unnamed: 9 Unnamed: 10 Unnamed: 11 Unnamed: 12 Unnamed: 13  Unnamed: 14  \\\n",
        "0         NaN         NaN         NaN         NaN         NaN          NaN   \n",
        "1         NaN         NaN         NaN         NaN         NaN          NaN   \n",
        "2         NaN         NaN         NaN         NaN         NaN          NaN   \n",
        "3    Jul-2014    Ago-2014    Sep-2014    Oct-2014    Nov-2014          NaN   \n",
        "4     5731881     5725277     5735733     5742624     5743931          NaN   \n",
        "5     2159384     2155431     2187137     2215603     2229438          NaN   \n",
        "6     4688414     4737807     4801011     4865076     4917294          NaN   \n",
        "7    12579679    12618515    12723881    12823303    12890663          NaN   \n",
        "8         NaN         NaN         NaN         NaN         NaN          NaN   \n",
        "9         NaN         NaN         NaN         NaN         NaN          NaN   \n",
        "10        NaN         NaN         NaN         NaN         NaN          NaN   \n",
        "11        NaN         NaN         NaN         NaN         NaN          NaN   \n",
        "12        NaN         NaN         NaN         NaN         NaN          NaN   \n",
        "13        NaN         NaN         NaN         NaN         NaN          NaN   \n",
        "14        NaN         NaN         NaN         NaN         NaN          NaN   \n",
        "\n",
        "    Unnamed: 15  \n",
        "0           NaN  \n",
        "1           NaN  \n",
        "2           NaN  \n",
        "3           NaN  \n",
        "4           NaN  \n",
        "5           NaN  \n",
        "6           NaN  \n",
        "7           NaN  \n",
        "8           NaN  \n",
        "9           NaN  \n",
        "10          NaN  \n",
        "11          NaN  \n",
        "12          NaN  \n",
        "13          NaN  \n",
        "14          NaN  "
       ]
      }
     ],
     "prompt_number": 6
    },
    {
     "cell_type": "markdown",
     "metadata": {
      "slideshow": {
       "slide_type": "subslide"
      }
     },
     "source": [
      "###1.3 Delete useless data"
     ]
    },
    {
     "cell_type": "markdown",
     "metadata": {
      "slideshow": {
       "slide_type": "fragment"
      }
     },
     "source": [
      "This is a real example, so the data is messy. We'll have to \"clean\" the dataframe first.  \n",
      "For example, the 2 last columns are empty, so we'll delete them and the first 3 rows and the 7 last rows are also useless. "
     ]
    },
    {
     "cell_type": "code",
     "collapsed": false,
     "input": [
      "del raw_data[\"Unnamed: 14\"] #\"Del\" is for \"delete\""
     ],
     "language": "python",
     "metadata": {
      "slideshow": {
       "slide_type": "fragment"
      }
     },
     "outputs": [],
     "prompt_number": 7
    },
    {
     "cell_type": "code",
     "collapsed": false,
     "input": [
      "del raw_data[\"Unnamed: 15\"]"
     ],
     "language": "python",
     "metadata": {
      "slideshow": {
       "slide_type": "fragment"
      }
     },
     "outputs": [],
     "prompt_number": 8
    },
    {
     "cell_type": "code",
     "collapsed": false,
     "input": [
      "#Drop is the method for eliminating rows\n",
      "raw_data = raw_data.drop([0, 1, 2, 8, 9, 10, 11, 12, 13, 14])"
     ],
     "language": "python",
     "metadata": {
      "slideshow": {
       "slide_type": "fragment"
      }
     },
     "outputs": [],
     "prompt_number": 9
    },
    {
     "cell_type": "markdown",
     "metadata": {
      "slideshow": {
       "slide_type": "subslide"
      }
     },
     "source": [
      "Let's take a look at data after cleaning useless data:"
     ]
    },
    {
     "cell_type": "code",
     "collapsed": false,
     "input": [
      "raw_data"
     ],
     "language": "python",
     "metadata": {
      "slideshow": {
       "slide_type": "fragment"
      }
     },
     "outputs": [
      {
       "html": [
        "<div style=\"max-height:1000px;max-width:1500px;overflow:auto;\">\n",
        "<table border=\"1\" class=\"dataframe\">\n",
        "  <thead>\n",
        "    <tr style=\"text-align: right;\">\n",
        "      <th></th>\n",
        "      <th>Unnamed: 0</th>\n",
        "      <th>Unnamed: 1</th>\n",
        "      <th>Unnamed: 2</th>\n",
        "      <th>Unnamed: 3</th>\n",
        "      <th>Unnamed: 4</th>\n",
        "      <th>Unnamed: 5</th>\n",
        "      <th>Unnamed: 6</th>\n",
        "      <th>Unnamed: 7</th>\n",
        "      <th>Unnamed: 8</th>\n",
        "      <th>Unnamed: 9</th>\n",
        "      <th>Unnamed: 10</th>\n",
        "      <th>Unnamed: 11</th>\n",
        "      <th>Unnamed: 12</th>\n",
        "      <th>Unnamed: 13</th>\n",
        "    </tr>\n",
        "  </thead>\n",
        "  <tbody>\n",
        "    <tr>\n",
        "      <th>3</th>\n",
        "      <td>                 NaN</td>\n",
        "      <td> Nov-2013</td>\n",
        "      <td> Dic-2013</td>\n",
        "      <td> Ene-2014</td>\n",
        "      <td> Feb-2014</td>\n",
        "      <td> Mar-2014</td>\n",
        "      <td> Abr-2014</td>\n",
        "      <td> May-2014</td>\n",
        "      <td> Jun-2014</td>\n",
        "      <td> Jul-2014</td>\n",
        "      <td> Ago-2014</td>\n",
        "      <td> Sep-2014</td>\n",
        "      <td> Oct-2014</td>\n",
        "      <td> Nov-2014</td>\n",
        "    </tr>\n",
        "    <tr>\n",
        "      <th>4</th>\n",
        "      <td>          Telef\u00f3nica</td>\n",
        "      <td>  5702755</td>\n",
        "      <td>  5711891</td>\n",
        "      <td>  5718376</td>\n",
        "      <td>  5723195</td>\n",
        "      <td>  5724311</td>\n",
        "      <td>  5711636</td>\n",
        "      <td>  5713011</td>\n",
        "      <td>  5724807</td>\n",
        "      <td>  5731881</td>\n",
        "      <td>  5725277</td>\n",
        "      <td>  5735733</td>\n",
        "      <td>  5742624</td>\n",
        "      <td>  5743931</td>\n",
        "    </tr>\n",
        "    <tr>\n",
        "      <th>5</th>\n",
        "      <td> Operadores de cable</td>\n",
        "      <td>  2133232</td>\n",
        "      <td>  2129033</td>\n",
        "      <td>  2140364</td>\n",
        "      <td>  2150652</td>\n",
        "      <td>  2162984</td>\n",
        "      <td>  2169792</td>\n",
        "      <td>  2175578</td>\n",
        "      <td>  2173819</td>\n",
        "      <td>  2159384</td>\n",
        "      <td>  2155431</td>\n",
        "      <td>  2187137</td>\n",
        "      <td>  2215603</td>\n",
        "      <td>  2229438</td>\n",
        "    </tr>\n",
        "    <tr>\n",
        "      <th>6</th>\n",
        "      <td>               Resto</td>\n",
        "      <td>  4335457</td>\n",
        "      <td>  4378659</td>\n",
        "      <td>  4439370</td>\n",
        "      <td>  4493150</td>\n",
        "      <td>  4540297</td>\n",
        "      <td>  4579294</td>\n",
        "      <td>  4612435</td>\n",
        "      <td>  4665818</td>\n",
        "      <td>  4688414</td>\n",
        "      <td>  4737807</td>\n",
        "      <td>  4801011</td>\n",
        "      <td>  4865076</td>\n",
        "      <td>  4917294</td>\n",
        "    </tr>\n",
        "    <tr>\n",
        "      <th>7</th>\n",
        "      <td>               Total</td>\n",
        "      <td> 12171444</td>\n",
        "      <td> 12219583</td>\n",
        "      <td> 12298110</td>\n",
        "      <td> 12366997</td>\n",
        "      <td> 12427592</td>\n",
        "      <td> 12460722</td>\n",
        "      <td> 12501024</td>\n",
        "      <td> 12564444</td>\n",
        "      <td> 12579679</td>\n",
        "      <td> 12618515</td>\n",
        "      <td> 12723881</td>\n",
        "      <td> 12823303</td>\n",
        "      <td> 12890663</td>\n",
        "    </tr>\n",
        "  </tbody>\n",
        "</table>\n",
        "</div>"
       ],
       "metadata": {},
       "output_type": "pyout",
       "prompt_number": 10,
       "text": [
        "            Unnamed: 0 Unnamed: 1 Unnamed: 2 Unnamed: 3 Unnamed: 4 Unnamed: 5  \\\n",
        "3                  NaN   Nov-2013   Dic-2013   Ene-2014   Feb-2014   Mar-2014   \n",
        "4           Telef\u00f3nica    5702755    5711891    5718376    5723195    5724311   \n",
        "5  Operadores de cable    2133232    2129033    2140364    2150652    2162984   \n",
        "6                Resto    4335457    4378659    4439370    4493150    4540297   \n",
        "7                Total   12171444   12219583   12298110   12366997   12427592   \n",
        "\n",
        "  Unnamed: 6 Unnamed: 7 Unnamed: 8 Unnamed: 9 Unnamed: 10 Unnamed: 11  \\\n",
        "3   Abr-2014   May-2014   Jun-2014   Jul-2014    Ago-2014    Sep-2014   \n",
        "4    5711636    5713011    5724807    5731881     5725277     5735733   \n",
        "5    2169792    2175578    2173819    2159384     2155431     2187137   \n",
        "6    4579294    4612435    4665818    4688414     4737807     4801011   \n",
        "7   12460722   12501024   12564444   12579679    12618515    12723881   \n",
        "\n",
        "  Unnamed: 12 Unnamed: 13  \n",
        "3    Oct-2014    Nov-2014  \n",
        "4     5742624     5743931  \n",
        "5     2215603     2229438  \n",
        "6     4865076     4917294  \n",
        "7    12823303    12890663  "
       ]
      }
     ],
     "prompt_number": 10
    },
    {
     "cell_type": "markdown",
     "metadata": {
      "slideshow": {
       "slide_type": "subslide"
      }
     },
     "source": [
      "###1.4 Rename columns and rows"
     ]
    },
    {
     "cell_type": "markdown",
     "metadata": {
      "slideshow": {
       "slide_type": "fragment"
      }
     },
     "source": [
      "Dataframes have an index: some values that identify each row.  \n",
      "Also, months should be the names of the columns, instead of \"Unnamed\" in this case."
     ]
    },
    {
     "cell_type": "code",
     "collapsed": false,
     "input": [
      "#We select row 3, with the months in it, and we save it in the variable \"meses\" \n",
      "meses = pd.Series(raw_data.ix[3]) "
     ],
     "language": "python",
     "metadata": {
      "slideshow": {
       "slide_type": "fragment"
      }
     },
     "outputs": [],
     "prompt_number": 11
    },
    {
     "cell_type": "code",
     "collapsed": false,
     "input": [
      "meses[\"Unnamed: 0\"] = \"fecha\""
     ],
     "language": "python",
     "metadata": {
      "slideshow": {
       "slide_type": "fragment"
      }
     },
     "outputs": [],
     "prompt_number": 12
    },
    {
     "cell_type": "code",
     "collapsed": false,
     "input": [
      "#We assign the variable meses as the name of columns\n",
      "raw_data.columns = meses "
     ],
     "language": "python",
     "metadata": {
      "slideshow": {
       "slide_type": "fragment"
      }
     },
     "outputs": [],
     "prompt_number": 13
    },
    {
     "cell_type": "code",
     "collapsed": false,
     "input": [
      "raw_data = raw_data.drop(3)"
     ],
     "language": "python",
     "metadata": {
      "slideshow": {
       "slide_type": "subslide"
      }
     },
     "outputs": [],
     "prompt_number": 16
    },
    {
     "cell_type": "code",
     "collapsed": false,
     "input": [
      "raw_data"
     ],
     "language": "python",
     "metadata": {
      "slideshow": {
       "slide_type": "fragment"
      }
     },
     "outputs": [
      {
       "html": [
        "<div style=\"max-height:1000px;max-width:1500px;overflow:auto;\">\n",
        "<table border=\"1\" class=\"dataframe\">\n",
        "  <thead>\n",
        "    <tr style=\"text-align: right;\">\n",
        "      <th>3</th>\n",
        "      <th>fecha</th>\n",
        "      <th>Nov-2013</th>\n",
        "      <th>Dic-2013</th>\n",
        "      <th>Ene-2014</th>\n",
        "      <th>Feb-2014</th>\n",
        "      <th>Mar-2014</th>\n",
        "      <th>Abr-2014</th>\n",
        "      <th>May-2014</th>\n",
        "      <th>Jun-2014</th>\n",
        "      <th>Jul-2014</th>\n",
        "      <th>Ago-2014</th>\n",
        "      <th>Sep-2014</th>\n",
        "      <th>Oct-2014</th>\n",
        "      <th>Nov-2014</th>\n",
        "    </tr>\n",
        "  </thead>\n",
        "  <tbody>\n",
        "    <tr>\n",
        "      <th>4</th>\n",
        "      <td>          Telef\u00f3nica</td>\n",
        "      <td>  5702755</td>\n",
        "      <td>  5711891</td>\n",
        "      <td>  5718376</td>\n",
        "      <td>  5723195</td>\n",
        "      <td>  5724311</td>\n",
        "      <td>  5711636</td>\n",
        "      <td>  5713011</td>\n",
        "      <td>  5724807</td>\n",
        "      <td>  5731881</td>\n",
        "      <td>  5725277</td>\n",
        "      <td>  5735733</td>\n",
        "      <td>  5742624</td>\n",
        "      <td>  5743931</td>\n",
        "    </tr>\n",
        "    <tr>\n",
        "      <th>5</th>\n",
        "      <td> Operadores de cable</td>\n",
        "      <td>  2133232</td>\n",
        "      <td>  2129033</td>\n",
        "      <td>  2140364</td>\n",
        "      <td>  2150652</td>\n",
        "      <td>  2162984</td>\n",
        "      <td>  2169792</td>\n",
        "      <td>  2175578</td>\n",
        "      <td>  2173819</td>\n",
        "      <td>  2159384</td>\n",
        "      <td>  2155431</td>\n",
        "      <td>  2187137</td>\n",
        "      <td>  2215603</td>\n",
        "      <td>  2229438</td>\n",
        "    </tr>\n",
        "    <tr>\n",
        "      <th>6</th>\n",
        "      <td>               Resto</td>\n",
        "      <td>  4335457</td>\n",
        "      <td>  4378659</td>\n",
        "      <td>  4439370</td>\n",
        "      <td>  4493150</td>\n",
        "      <td>  4540297</td>\n",
        "      <td>  4579294</td>\n",
        "      <td>  4612435</td>\n",
        "      <td>  4665818</td>\n",
        "      <td>  4688414</td>\n",
        "      <td>  4737807</td>\n",
        "      <td>  4801011</td>\n",
        "      <td>  4865076</td>\n",
        "      <td>  4917294</td>\n",
        "    </tr>\n",
        "    <tr>\n",
        "      <th>7</th>\n",
        "      <td>               Total</td>\n",
        "      <td> 12171444</td>\n",
        "      <td> 12219583</td>\n",
        "      <td> 12298110</td>\n",
        "      <td> 12366997</td>\n",
        "      <td> 12427592</td>\n",
        "      <td> 12460722</td>\n",
        "      <td> 12501024</td>\n",
        "      <td> 12564444</td>\n",
        "      <td> 12579679</td>\n",
        "      <td> 12618515</td>\n",
        "      <td> 12723881</td>\n",
        "      <td> 12823303</td>\n",
        "      <td> 12890663</td>\n",
        "    </tr>\n",
        "  </tbody>\n",
        "</table>\n",
        "</div>"
       ],
       "metadata": {},
       "output_type": "pyout",
       "prompt_number": 17,
       "text": [
        "3                fecha  Nov-2013  Dic-2013  Ene-2014  Feb-2014  Mar-2014  \\\n",
        "4           Telef\u00f3nica   5702755   5711891   5718376   5723195   5724311   \n",
        "5  Operadores de cable   2133232   2129033   2140364   2150652   2162984   \n",
        "6                Resto   4335457   4378659   4439370   4493150   4540297   \n",
        "7                Total  12171444  12219583  12298110  12366997  12427592   \n",
        "\n",
        "3  Abr-2014  May-2014  Jun-2014  Jul-2014  Ago-2014  Sep-2014  Oct-2014  \\\n",
        "4   5711636   5713011   5724807   5731881   5725277   5735733   5742624   \n",
        "5   2169792   2175578   2173819   2159384   2155431   2187137   2215603   \n",
        "6   4579294   4612435   4665818   4688414   4737807   4801011   4865076   \n",
        "7  12460722  12501024  12564444  12579679  12618515  12723881  12823303   \n",
        "\n",
        "3  Nov-2014  \n",
        "4   5743931  \n",
        "5   2229438  \n",
        "6   4917294  \n",
        "7  12890663  "
       ]
      }
     ],
     "prompt_number": 17
    },
    {
     "cell_type": "code",
     "collapsed": false,
     "input": [
      "print raw_data.index #The index is a series of numbers"
     ],
     "language": "python",
     "metadata": {
      "slideshow": {
       "slide_type": "subslide"
      }
     },
     "outputs": [
      {
       "output_type": "stream",
       "stream": "stdout",
       "text": [
        "Int64Index([4, 5, 6, 7], dtype='int64')\n"
       ]
      }
     ],
     "prompt_number": 18
    },
    {
     "cell_type": "markdown",
     "metadata": {
      "slideshow": {
       "slide_type": "fragment"
      }
     },
     "source": [
      "These indexes doesn't give us significant information about data contained in each row. In this case, should be more useful having company names as our index."
     ]
    },
    {
     "cell_type": "code",
     "collapsed": false,
     "input": [
      "empresas = [\"Telef\u00f3nica\", \"Cable\", \"Resto\", \"Total\"]"
     ],
     "language": "python",
     "metadata": {
      "slideshow": {
       "slide_type": "fragment"
      }
     },
     "outputs": [],
     "prompt_number": 19
    },
    {
     "cell_type": "code",
     "collapsed": false,
     "input": [
      "#We set the variable \"empresas\" as our index\n",
      "raw_data.index = empresas"
     ],
     "language": "python",
     "metadata": {
      "slideshow": {
       "slide_type": "fragment"
      }
     },
     "outputs": [],
     "prompt_number": 20
    },
    {
     "cell_type": "code",
     "collapsed": false,
     "input": [
      "raw_data"
     ],
     "language": "python",
     "metadata": {
      "slideshow": {
       "slide_type": "subslide"
      }
     },
     "outputs": [
      {
       "html": [
        "<div style=\"max-height:1000px;max-width:1500px;overflow:auto;\">\n",
        "<table border=\"1\" class=\"dataframe\">\n",
        "  <thead>\n",
        "    <tr style=\"text-align: right;\">\n",
        "      <th>3</th>\n",
        "      <th>fecha</th>\n",
        "      <th>Nov-2013</th>\n",
        "      <th>Dic-2013</th>\n",
        "      <th>Ene-2014</th>\n",
        "      <th>Feb-2014</th>\n",
        "      <th>Mar-2014</th>\n",
        "      <th>Abr-2014</th>\n",
        "      <th>May-2014</th>\n",
        "      <th>Jun-2014</th>\n",
        "      <th>Jul-2014</th>\n",
        "      <th>Ago-2014</th>\n",
        "      <th>Sep-2014</th>\n",
        "      <th>Oct-2014</th>\n",
        "      <th>Nov-2014</th>\n",
        "    </tr>\n",
        "  </thead>\n",
        "  <tbody>\n",
        "    <tr>\n",
        "      <th>Telef\u00f3nica</th>\n",
        "      <td>          Telef\u00f3nica</td>\n",
        "      <td>  5702755</td>\n",
        "      <td>  5711891</td>\n",
        "      <td>  5718376</td>\n",
        "      <td>  5723195</td>\n",
        "      <td>  5724311</td>\n",
        "      <td>  5711636</td>\n",
        "      <td>  5713011</td>\n",
        "      <td>  5724807</td>\n",
        "      <td>  5731881</td>\n",
        "      <td>  5725277</td>\n",
        "      <td>  5735733</td>\n",
        "      <td>  5742624</td>\n",
        "      <td>  5743931</td>\n",
        "    </tr>\n",
        "    <tr>\n",
        "      <th>Cable</th>\n",
        "      <td> Operadores de cable</td>\n",
        "      <td>  2133232</td>\n",
        "      <td>  2129033</td>\n",
        "      <td>  2140364</td>\n",
        "      <td>  2150652</td>\n",
        "      <td>  2162984</td>\n",
        "      <td>  2169792</td>\n",
        "      <td>  2175578</td>\n",
        "      <td>  2173819</td>\n",
        "      <td>  2159384</td>\n",
        "      <td>  2155431</td>\n",
        "      <td>  2187137</td>\n",
        "      <td>  2215603</td>\n",
        "      <td>  2229438</td>\n",
        "    </tr>\n",
        "    <tr>\n",
        "      <th>Resto</th>\n",
        "      <td>               Resto</td>\n",
        "      <td>  4335457</td>\n",
        "      <td>  4378659</td>\n",
        "      <td>  4439370</td>\n",
        "      <td>  4493150</td>\n",
        "      <td>  4540297</td>\n",
        "      <td>  4579294</td>\n",
        "      <td>  4612435</td>\n",
        "      <td>  4665818</td>\n",
        "      <td>  4688414</td>\n",
        "      <td>  4737807</td>\n",
        "      <td>  4801011</td>\n",
        "      <td>  4865076</td>\n",
        "      <td>  4917294</td>\n",
        "    </tr>\n",
        "    <tr>\n",
        "      <th>Total</th>\n",
        "      <td>               Total</td>\n",
        "      <td> 12171444</td>\n",
        "      <td> 12219583</td>\n",
        "      <td> 12298110</td>\n",
        "      <td> 12366997</td>\n",
        "      <td> 12427592</td>\n",
        "      <td> 12460722</td>\n",
        "      <td> 12501024</td>\n",
        "      <td> 12564444</td>\n",
        "      <td> 12579679</td>\n",
        "      <td> 12618515</td>\n",
        "      <td> 12723881</td>\n",
        "      <td> 12823303</td>\n",
        "      <td> 12890663</td>\n",
        "    </tr>\n",
        "  </tbody>\n",
        "</table>\n",
        "</div>"
       ],
       "metadata": {},
       "output_type": "pyout",
       "prompt_number": 21,
       "text": [
        "3                         fecha  Nov-2013  Dic-2013  Ene-2014  Feb-2014  \\\n",
        "Telef\u00f3nica           Telef\u00f3nica   5702755   5711891   5718376   5723195   \n",
        "Cable       Operadores de cable   2133232   2129033   2140364   2150652   \n",
        "Resto                     Resto   4335457   4378659   4439370   4493150   \n",
        "Total                     Total  12171444  12219583  12298110  12366997   \n",
        "\n",
        "3           Mar-2014  Abr-2014  May-2014  Jun-2014  Jul-2014  Ago-2014  \\\n",
        "Telef\u00f3nica   5724311   5711636   5713011   5724807   5731881   5725277   \n",
        "Cable        2162984   2169792   2175578   2173819   2159384   2155431   \n",
        "Resto        4540297   4579294   4612435   4665818   4688414   4737807   \n",
        "Total       12427592  12460722  12501024  12564444  12579679  12618515   \n",
        "\n",
        "3           Sep-2014  Oct-2014  Nov-2014  \n",
        "Telef\u00f3nica   5735733   5742624   5743931  \n",
        "Cable        2187137   2215603   2229438  \n",
        "Resto        4801011   4865076   4917294  \n",
        "Total       12723881  12823303  12890663  "
       ]
      }
     ],
     "prompt_number": 21
    },
    {
     "cell_type": "code",
     "collapsed": false,
     "input": [
      "del raw_data[\"fecha\"] "
     ],
     "language": "python",
     "metadata": {
      "slideshow": {
       "slide_type": "fragment"
      }
     },
     "outputs": [],
     "prompt_number": 22
    },
    {
     "cell_type": "code",
     "collapsed": false,
     "input": [
      "raw_data.index"
     ],
     "language": "python",
     "metadata": {
      "slideshow": {
       "slide_type": "fragment"
      }
     },
     "outputs": [
      {
       "metadata": {},
       "output_type": "pyout",
       "prompt_number": 24,
       "text": [
        "Index([u'Telef\u00f3nica', u'Cable', u'Resto', u'Total'], dtype='object')"
       ]
      }
     ],
     "prompt_number": 24
    },
    {
     "cell_type": "code",
     "collapsed": false,
     "input": [
      "raw_data"
     ],
     "language": "python",
     "metadata": {
      "slideshow": {
       "slide_type": "fragment"
      }
     },
     "outputs": []
    },
    {
     "cell_type": "markdown",
     "metadata": {
      "slideshow": {
       "slide_type": "subslide"
      }
     },
     "source": [
      "###1.5 Set correct data type"
     ]
    },
    {
     "cell_type": "markdown",
     "metadata": {
      "slideshow": {
       "slide_type": "fragment"
      }
     },
     "source": [
      "Actually, python doesn't understand that the values inside the dataframe are numbers.\n",
      "So we first need to transform them into numbers. We will do that with a \"for\" and an \"if\"."
     ]
    },
    {
     "cell_type": "code",
     "collapsed": false,
     "input": [
      "print raw_data.dtypes #current types are \"object\", not numbers"
     ],
     "language": "python",
     "metadata": {
      "slideshow": {
       "slide_type": "fragment"
      }
     },
     "outputs": [
      {
       "output_type": "stream",
       "stream": "stdout",
       "text": [
        "3\n",
        "Nov-2013    object\n",
        "Dic-2013    object\n",
        "Ene-2014    object\n",
        "Feb-2014    object\n",
        "Mar-2014    object\n",
        "Abr-2014    object\n",
        "May-2014    object\n",
        "Jun-2014    object\n",
        "Jul-2014    object\n",
        "Ago-2014    object\n",
        "Sep-2014    object\n",
        "Oct-2014    object\n",
        "Nov-2014    object\n",
        "dtype: object\n"
       ]
      }
     ],
     "prompt_number": 25
    },
    {
     "cell_type": "code",
     "collapsed": false,
     "input": [
      "for columna in raw_data.columns:\n",
      "    if raw_data[columna].dtypes == object:\n",
      "        raw_data[columna] = raw_data[columna].astype(int)"
     ],
     "language": "python",
     "metadata": {
      "slideshow": {
       "slide_type": "subslide"
      }
     },
     "outputs": [],
     "prompt_number": 26
    },
    {
     "cell_type": "code",
     "collapsed": false,
     "input": [
      "print raw_data.dtypes #Now they are all integers"
     ],
     "language": "python",
     "metadata": {
      "slideshow": {
       "slide_type": "fragment"
      }
     },
     "outputs": [
      {
       "output_type": "stream",
       "stream": "stdout",
       "text": [
        "3\n",
        "Nov-2013    int32\n",
        "Dic-2013    int32\n",
        "Ene-2014    int32\n",
        "Feb-2014    int32\n",
        "Mar-2014    int32\n",
        "Abr-2014    int32\n",
        "May-2014    int32\n",
        "Jun-2014    int32\n",
        "Jul-2014    int32\n",
        "Ago-2014    int32\n",
        "Sep-2014    int32\n",
        "Oct-2014    int32\n",
        "Nov-2014    int32\n",
        "dtype: object\n"
       ]
      }
     ],
     "prompt_number": 27
    },
    {
     "cell_type": "markdown",
     "metadata": {
      "slideshow": {
       "slide_type": "subslide"
      }
     },
     "source": [
      "###1.6 Transposing Data"
     ]
    },
    {
     "cell_type": "markdown",
     "metadata": {
      "slideshow": {
       "slide_type": "fragment"
      }
     },
     "source": [
      "Maybe we want to have the months as rows and the name of the companies as columns. \n",
      "We are going to rotate the dataframe: to transpose."
     ]
    },
    {
     "cell_type": "code",
     "collapsed": false,
     "input": [
      "#T is for transpose.\n",
      "df = raw_data.T #We save the new dataframe with another name"
     ],
     "language": "python",
     "metadata": {
      "slideshow": {
       "slide_type": "fragment"
      }
     },
     "outputs": [],
     "prompt_number": 28
    },
    {
     "cell_type": "code",
     "collapsed": false,
     "input": [
      "df"
     ],
     "language": "python",
     "metadata": {
      "slideshow": {
       "slide_type": "fragment"
      }
     },
     "outputs": [
      {
       "html": [
        "<div style=\"max-height:1000px;max-width:1500px;overflow:auto;\">\n",
        "<table border=\"1\" class=\"dataframe\">\n",
        "  <thead>\n",
        "    <tr style=\"text-align: right;\">\n",
        "      <th></th>\n",
        "      <th>Telef\u00f3nica</th>\n",
        "      <th>Cable</th>\n",
        "      <th>Resto</th>\n",
        "      <th>Total</th>\n",
        "    </tr>\n",
        "    <tr>\n",
        "      <th>3</th>\n",
        "      <th></th>\n",
        "      <th></th>\n",
        "      <th></th>\n",
        "      <th></th>\n",
        "    </tr>\n",
        "  </thead>\n",
        "  <tbody>\n",
        "    <tr>\n",
        "      <th>Nov-2013</th>\n",
        "      <td> 5702755</td>\n",
        "      <td> 2133232</td>\n",
        "      <td> 4335457</td>\n",
        "      <td> 12171444</td>\n",
        "    </tr>\n",
        "    <tr>\n",
        "      <th>Dic-2013</th>\n",
        "      <td> 5711891</td>\n",
        "      <td> 2129033</td>\n",
        "      <td> 4378659</td>\n",
        "      <td> 12219583</td>\n",
        "    </tr>\n",
        "    <tr>\n",
        "      <th>Ene-2014</th>\n",
        "      <td> 5718376</td>\n",
        "      <td> 2140364</td>\n",
        "      <td> 4439370</td>\n",
        "      <td> 12298110</td>\n",
        "    </tr>\n",
        "    <tr>\n",
        "      <th>Feb-2014</th>\n",
        "      <td> 5723195</td>\n",
        "      <td> 2150652</td>\n",
        "      <td> 4493150</td>\n",
        "      <td> 12366997</td>\n",
        "    </tr>\n",
        "    <tr>\n",
        "      <th>Mar-2014</th>\n",
        "      <td> 5724311</td>\n",
        "      <td> 2162984</td>\n",
        "      <td> 4540297</td>\n",
        "      <td> 12427592</td>\n",
        "    </tr>\n",
        "    <tr>\n",
        "      <th>Abr-2014</th>\n",
        "      <td> 5711636</td>\n",
        "      <td> 2169792</td>\n",
        "      <td> 4579294</td>\n",
        "      <td> 12460722</td>\n",
        "    </tr>\n",
        "    <tr>\n",
        "      <th>May-2014</th>\n",
        "      <td> 5713011</td>\n",
        "      <td> 2175578</td>\n",
        "      <td> 4612435</td>\n",
        "      <td> 12501024</td>\n",
        "    </tr>\n",
        "    <tr>\n",
        "      <th>Jun-2014</th>\n",
        "      <td> 5724807</td>\n",
        "      <td> 2173819</td>\n",
        "      <td> 4665818</td>\n",
        "      <td> 12564444</td>\n",
        "    </tr>\n",
        "    <tr>\n",
        "      <th>Jul-2014</th>\n",
        "      <td> 5731881</td>\n",
        "      <td> 2159384</td>\n",
        "      <td> 4688414</td>\n",
        "      <td> 12579679</td>\n",
        "    </tr>\n",
        "    <tr>\n",
        "      <th>Ago-2014</th>\n",
        "      <td> 5725277</td>\n",
        "      <td> 2155431</td>\n",
        "      <td> 4737807</td>\n",
        "      <td> 12618515</td>\n",
        "    </tr>\n",
        "    <tr>\n",
        "      <th>Sep-2014</th>\n",
        "      <td> 5735733</td>\n",
        "      <td> 2187137</td>\n",
        "      <td> 4801011</td>\n",
        "      <td> 12723881</td>\n",
        "    </tr>\n",
        "    <tr>\n",
        "      <th>Oct-2014</th>\n",
        "      <td> 5742624</td>\n",
        "      <td> 2215603</td>\n",
        "      <td> 4865076</td>\n",
        "      <td> 12823303</td>\n",
        "    </tr>\n",
        "    <tr>\n",
        "      <th>Nov-2014</th>\n",
        "      <td> 5743931</td>\n",
        "      <td> 2229438</td>\n",
        "      <td> 4917294</td>\n",
        "      <td> 12890663</td>\n",
        "    </tr>\n",
        "  </tbody>\n",
        "</table>\n",
        "</div>"
       ],
       "metadata": {},
       "output_type": "pyout",
       "prompt_number": 29,
       "text": [
        "          Telef\u00f3nica    Cable    Resto     Total\n",
        "3                                               \n",
        "Nov-2013     5702755  2133232  4335457  12171444\n",
        "Dic-2013     5711891  2129033  4378659  12219583\n",
        "Ene-2014     5718376  2140364  4439370  12298110\n",
        "Feb-2014     5723195  2150652  4493150  12366997\n",
        "Mar-2014     5724311  2162984  4540297  12427592\n",
        "Abr-2014     5711636  2169792  4579294  12460722\n",
        "May-2014     5713011  2175578  4612435  12501024\n",
        "Jun-2014     5724807  2173819  4665818  12564444\n",
        "Jul-2014     5731881  2159384  4688414  12579679\n",
        "Ago-2014     5725277  2155431  4737807  12618515\n",
        "Sep-2014     5735733  2187137  4801011  12723881\n",
        "Oct-2014     5742624  2215603  4865076  12823303\n",
        "Nov-2014     5743931  2229438  4917294  12890663"
       ]
      }
     ],
     "prompt_number": 29
    },
    {
     "cell_type": "markdown",
     "metadata": {
      "slideshow": {
       "slide_type": "subslide"
      }
     },
     "source": [
      "###1.7 Working with data "
     ]
    },
    {
     "cell_type": "markdown",
     "metadata": {
      "slideshow": {
       "slide_type": "fragment"
      }
     },
     "source": [
      "How do we select rows or columns?"
     ]
    },
    {
     "cell_type": "code",
     "collapsed": false,
     "input": [
      "df[0:3] #First 3 rows"
     ],
     "language": "python",
     "metadata": {
      "slideshow": {
       "slide_type": "fragment"
      }
     },
     "outputs": [
      {
       "html": [
        "<div style=\"max-height:1000px;max-width:1500px;overflow:auto;\">\n",
        "<table border=\"1\" class=\"dataframe\">\n",
        "  <thead>\n",
        "    <tr style=\"text-align: right;\">\n",
        "      <th></th>\n",
        "      <th>Telef\u00f3nica</th>\n",
        "      <th>Cable</th>\n",
        "      <th>Resto</th>\n",
        "      <th>Total</th>\n",
        "    </tr>\n",
        "    <tr>\n",
        "      <th>3</th>\n",
        "      <th></th>\n",
        "      <th></th>\n",
        "      <th></th>\n",
        "      <th></th>\n",
        "    </tr>\n",
        "  </thead>\n",
        "  <tbody>\n",
        "    <tr>\n",
        "      <th>Nov-2013</th>\n",
        "      <td> 5702755</td>\n",
        "      <td> 2133232</td>\n",
        "      <td> 4335457</td>\n",
        "      <td> 12171444</td>\n",
        "    </tr>\n",
        "    <tr>\n",
        "      <th>Dic-2013</th>\n",
        "      <td> 5711891</td>\n",
        "      <td> 2129033</td>\n",
        "      <td> 4378659</td>\n",
        "      <td> 12219583</td>\n",
        "    </tr>\n",
        "    <tr>\n",
        "      <th>Ene-2014</th>\n",
        "      <td> 5718376</td>\n",
        "      <td> 2140364</td>\n",
        "      <td> 4439370</td>\n",
        "      <td> 12298110</td>\n",
        "    </tr>\n",
        "  </tbody>\n",
        "</table>\n",
        "</div>"
       ],
       "metadata": {},
       "output_type": "pyout",
       "prompt_number": 30,
       "text": [
        "          Telef\u00f3nica    Cable    Resto     Total\n",
        "3                                               \n",
        "Nov-2013     5702755  2133232  4335457  12171444\n",
        "Dic-2013     5711891  2129033  4378659  12219583\n",
        "Ene-2014     5718376  2140364  4439370  12298110"
       ]
      }
     ],
     "prompt_number": 30
    },
    {
     "cell_type": "code",
     "collapsed": false,
     "input": [
      "df.ix[:3] #Another way to do the same"
     ],
     "language": "python",
     "metadata": {
      "slideshow": {
       "slide_type": "fragment"
      }
     },
     "outputs": [
      {
       "html": [
        "<div style=\"max-height:1000px;max-width:1500px;overflow:auto;\">\n",
        "<table border=\"1\" class=\"dataframe\">\n",
        "  <thead>\n",
        "    <tr style=\"text-align: right;\">\n",
        "      <th></th>\n",
        "      <th>Telef\u00f3nica</th>\n",
        "      <th>Cable</th>\n",
        "      <th>Resto</th>\n",
        "      <th>Total</th>\n",
        "    </tr>\n",
        "    <tr>\n",
        "      <th>3</th>\n",
        "      <th></th>\n",
        "      <th></th>\n",
        "      <th></th>\n",
        "      <th></th>\n",
        "    </tr>\n",
        "  </thead>\n",
        "  <tbody>\n",
        "    <tr>\n",
        "      <th>Nov-2013</th>\n",
        "      <td> 5702755</td>\n",
        "      <td> 2133232</td>\n",
        "      <td> 4335457</td>\n",
        "      <td> 12171444</td>\n",
        "    </tr>\n",
        "    <tr>\n",
        "      <th>Dic-2013</th>\n",
        "      <td> 5711891</td>\n",
        "      <td> 2129033</td>\n",
        "      <td> 4378659</td>\n",
        "      <td> 12219583</td>\n",
        "    </tr>\n",
        "    <tr>\n",
        "      <th>Ene-2014</th>\n",
        "      <td> 5718376</td>\n",
        "      <td> 2140364</td>\n",
        "      <td> 4439370</td>\n",
        "      <td> 12298110</td>\n",
        "    </tr>\n",
        "  </tbody>\n",
        "</table>\n",
        "</div>"
       ],
       "metadata": {},
       "output_type": "pyout",
       "prompt_number": 50,
       "text": [
        "          Telef\u00f3nica    Cable    Resto     Total\n",
        "3                                               \n",
        "Nov-2013     5702755  2133232  4335457  12171444\n",
        "Dic-2013     5711891  2129033  4378659  12219583\n",
        "Ene-2014     5718376  2140364  4439370  12298110"
       ]
      }
     ],
     "prompt_number": 50
    },
    {
     "cell_type": "code",
     "collapsed": false,
     "input": [
      "df.ix[0:3, 0:2] #First 3 rows and first 2 columns"
     ],
     "language": "python",
     "metadata": {
      "slideshow": {
       "slide_type": "subslide"
      }
     },
     "outputs": [
      {
       "html": [
        "<div style=\"max-height:1000px;max-width:1500px;overflow:auto;\">\n",
        "<table border=\"1\" class=\"dataframe\">\n",
        "  <thead>\n",
        "    <tr style=\"text-align: right;\">\n",
        "      <th></th>\n",
        "      <th>Telef\u00f3nica</th>\n",
        "      <th>Cable</th>\n",
        "    </tr>\n",
        "    <tr>\n",
        "      <th>3</th>\n",
        "      <th></th>\n",
        "      <th></th>\n",
        "    </tr>\n",
        "  </thead>\n",
        "  <tbody>\n",
        "    <tr>\n",
        "      <th>Nov-2013</th>\n",
        "      <td> 5702755</td>\n",
        "      <td> 2133232</td>\n",
        "    </tr>\n",
        "    <tr>\n",
        "      <th>Dic-2013</th>\n",
        "      <td> 5711891</td>\n",
        "      <td> 2129033</td>\n",
        "    </tr>\n",
        "    <tr>\n",
        "      <th>Ene-2014</th>\n",
        "      <td> 5718376</td>\n",
        "      <td> 2140364</td>\n",
        "    </tr>\n",
        "  </tbody>\n",
        "</table>\n",
        "</div>"
       ],
       "metadata": {},
       "output_type": "pyout",
       "prompt_number": 31,
       "text": [
        "          Telef\u00f3nica    Cable\n",
        "3                            \n",
        "Nov-2013     5702755  2133232\n",
        "Dic-2013     5711891  2129033\n",
        "Ene-2014     5718376  2140364"
       ]
      }
     ],
     "prompt_number": 31
    },
    {
     "cell_type": "code",
     "collapsed": false,
     "input": [
      "#We can select a column by its name\n",
      "df[\"Total\"]"
     ],
     "language": "python",
     "metadata": {
      "slideshow": {
       "slide_type": "fragment"
      }
     },
     "outputs": [
      {
       "metadata": {},
       "output_type": "pyout",
       "prompt_number": 32,
       "text": [
        "3\n",
        "Nov-2013    12171444\n",
        "Dic-2013    12219583\n",
        "Ene-2014    12298110\n",
        "Feb-2014    12366997\n",
        "Mar-2014    12427592\n",
        "Abr-2014    12460722\n",
        "May-2014    12501024\n",
        "Jun-2014    12564444\n",
        "Jul-2014    12579679\n",
        "Ago-2014    12618515\n",
        "Sep-2014    12723881\n",
        "Oct-2014    12823303\n",
        "Nov-2014    12890663\n",
        "Name: Total, dtype: int32"
       ]
      }
     ],
     "prompt_number": 32
    },
    {
     "cell_type": "markdown",
     "metadata": {
      "slideshow": {
       "slide_type": "subslide"
      }
     },
     "source": [
      "How do we change their values?"
     ]
    },
    {
     "cell_type": "code",
     "collapsed": false,
     "input": [
      "#We select with conditions\n",
      "df[df[\"Telef\u00f3nica\"] > 5740000]"
     ],
     "language": "python",
     "metadata": {
      "slideshow": {
       "slide_type": "fragment"
      }
     },
     "outputs": [
      {
       "html": [
        "<div style=\"max-height:1000px;max-width:1500px;overflow:auto;\">\n",
        "<table border=\"1\" class=\"dataframe\">\n",
        "  <thead>\n",
        "    <tr style=\"text-align: right;\">\n",
        "      <th></th>\n",
        "      <th>Telef\u00f3nica</th>\n",
        "      <th>Cable</th>\n",
        "      <th>Resto</th>\n",
        "      <th>Total</th>\n",
        "    </tr>\n",
        "    <tr>\n",
        "      <th>3</th>\n",
        "      <th></th>\n",
        "      <th></th>\n",
        "      <th></th>\n",
        "      <th></th>\n",
        "    </tr>\n",
        "  </thead>\n",
        "  <tbody>\n",
        "    <tr>\n",
        "      <th>Oct-2014</th>\n",
        "      <td> 5742624</td>\n",
        "      <td> 2215603</td>\n",
        "      <td> 4865076</td>\n",
        "      <td> 12823303</td>\n",
        "    </tr>\n",
        "    <tr>\n",
        "      <th>Nov-2014</th>\n",
        "      <td> 5743931</td>\n",
        "      <td> 2229438</td>\n",
        "      <td> 4917294</td>\n",
        "      <td> 12890663</td>\n",
        "    </tr>\n",
        "  </tbody>\n",
        "</table>\n",
        "</div>"
       ],
       "metadata": {},
       "output_type": "pyout",
       "prompt_number": 33,
       "text": [
        "          Telef\u00f3nica    Cable    Resto     Total\n",
        "3                                               \n",
        "Oct-2014     5742624  2215603  4865076  12823303\n",
        "Nov-2014     5743931  2229438  4917294  12890663"
       ]
      }
     ],
     "prompt_number": 33
    },
    {
     "cell_type": "code",
     "collapsed": false,
     "input": [
      "df.ix[\"Nov-2013\", \"Telef\u00f3nica\"] #We access to a cell"
     ],
     "language": "python",
     "metadata": {
      "slideshow": {
       "slide_type": "fragment"
      }
     },
     "outputs": [
      {
       "metadata": {},
       "output_type": "pyout",
       "prompt_number": 34,
       "text": [
        "5702755"
       ]
      }
     ],
     "prompt_number": 34
    },
    {
     "cell_type": "code",
     "collapsed": false,
     "input": [
      "#We can modify the value of that cell\n",
      "df.ix[\"Nov-2013\", \"Telef\u00f3nica\"] = 200 "
     ],
     "language": "python",
     "metadata": {
      "slideshow": {
       "slide_type": "subslide"
      }
     },
     "outputs": [],
     "prompt_number": 35
    },
    {
     "cell_type": "code",
     "collapsed": false,
     "input": [
      "df"
     ],
     "language": "python",
     "metadata": {
      "slideshow": {
       "slide_type": "fragment"
      }
     },
     "outputs": [
      {
       "html": [
        "<div style=\"max-height:1000px;max-width:1500px;overflow:auto;\">\n",
        "<table border=\"1\" class=\"dataframe\">\n",
        "  <thead>\n",
        "    <tr style=\"text-align: right;\">\n",
        "      <th></th>\n",
        "      <th>Telef\u00f3nica</th>\n",
        "      <th>Cable</th>\n",
        "      <th>Resto</th>\n",
        "      <th>Total</th>\n",
        "    </tr>\n",
        "    <tr>\n",
        "      <th>3</th>\n",
        "      <th></th>\n",
        "      <th></th>\n",
        "      <th></th>\n",
        "      <th></th>\n",
        "    </tr>\n",
        "  </thead>\n",
        "  <tbody>\n",
        "    <tr>\n",
        "      <th>Nov-2013</th>\n",
        "      <td>     200</td>\n",
        "      <td> 2133232</td>\n",
        "      <td> 4335457</td>\n",
        "      <td> 12171444</td>\n",
        "    </tr>\n",
        "    <tr>\n",
        "      <th>Dic-2013</th>\n",
        "      <td> 5711891</td>\n",
        "      <td> 2129033</td>\n",
        "      <td> 4378659</td>\n",
        "      <td> 12219583</td>\n",
        "    </tr>\n",
        "    <tr>\n",
        "      <th>Ene-2014</th>\n",
        "      <td> 5718376</td>\n",
        "      <td> 2140364</td>\n",
        "      <td> 4439370</td>\n",
        "      <td> 12298110</td>\n",
        "    </tr>\n",
        "    <tr>\n",
        "      <th>Feb-2014</th>\n",
        "      <td> 5723195</td>\n",
        "      <td> 2150652</td>\n",
        "      <td> 4493150</td>\n",
        "      <td> 12366997</td>\n",
        "    </tr>\n",
        "    <tr>\n",
        "      <th>Mar-2014</th>\n",
        "      <td> 5724311</td>\n",
        "      <td> 2162984</td>\n",
        "      <td> 4540297</td>\n",
        "      <td> 12427592</td>\n",
        "    </tr>\n",
        "    <tr>\n",
        "      <th>Abr-2014</th>\n",
        "      <td> 5711636</td>\n",
        "      <td> 2169792</td>\n",
        "      <td> 4579294</td>\n",
        "      <td> 12460722</td>\n",
        "    </tr>\n",
        "    <tr>\n",
        "      <th>May-2014</th>\n",
        "      <td> 5713011</td>\n",
        "      <td> 2175578</td>\n",
        "      <td> 4612435</td>\n",
        "      <td> 12501024</td>\n",
        "    </tr>\n",
        "    <tr>\n",
        "      <th>Jun-2014</th>\n",
        "      <td> 5724807</td>\n",
        "      <td> 2173819</td>\n",
        "      <td> 4665818</td>\n",
        "      <td> 12564444</td>\n",
        "    </tr>\n",
        "    <tr>\n",
        "      <th>Jul-2014</th>\n",
        "      <td> 5731881</td>\n",
        "      <td> 2159384</td>\n",
        "      <td> 4688414</td>\n",
        "      <td> 12579679</td>\n",
        "    </tr>\n",
        "    <tr>\n",
        "      <th>Ago-2014</th>\n",
        "      <td> 5725277</td>\n",
        "      <td> 2155431</td>\n",
        "      <td> 4737807</td>\n",
        "      <td> 12618515</td>\n",
        "    </tr>\n",
        "    <tr>\n",
        "      <th>Sep-2014</th>\n",
        "      <td> 5735733</td>\n",
        "      <td> 2187137</td>\n",
        "      <td> 4801011</td>\n",
        "      <td> 12723881</td>\n",
        "    </tr>\n",
        "    <tr>\n",
        "      <th>Oct-2014</th>\n",
        "      <td> 5742624</td>\n",
        "      <td> 2215603</td>\n",
        "      <td> 4865076</td>\n",
        "      <td> 12823303</td>\n",
        "    </tr>\n",
        "    <tr>\n",
        "      <th>Nov-2014</th>\n",
        "      <td> 5743931</td>\n",
        "      <td> 2229438</td>\n",
        "      <td> 4917294</td>\n",
        "      <td> 12890663</td>\n",
        "    </tr>\n",
        "  </tbody>\n",
        "</table>\n",
        "</div>"
       ],
       "metadata": {},
       "output_type": "pyout",
       "prompt_number": 36,
       "text": [
        "          Telef\u00f3nica    Cable    Resto     Total\n",
        "3                                               \n",
        "Nov-2013         200  2133232  4335457  12171444\n",
        "Dic-2013     5711891  2129033  4378659  12219583\n",
        "Ene-2014     5718376  2140364  4439370  12298110\n",
        "Feb-2014     5723195  2150652  4493150  12366997\n",
        "Mar-2014     5724311  2162984  4540297  12427592\n",
        "Abr-2014     5711636  2169792  4579294  12460722\n",
        "May-2014     5713011  2175578  4612435  12501024\n",
        "Jun-2014     5724807  2173819  4665818  12564444\n",
        "Jul-2014     5731881  2159384  4688414  12579679\n",
        "Ago-2014     5725277  2155431  4737807  12618515\n",
        "Sep-2014     5735733  2187137  4801011  12723881\n",
        "Oct-2014     5742624  2215603  4865076  12823303\n",
        "Nov-2014     5743931  2229438  4917294  12890663"
       ]
      }
     ],
     "prompt_number": 36
    },
    {
     "cell_type": "markdown",
     "metadata": {
      "slideshow": {
       "slide_type": "subslide"
      }
     },
     "source": [
      "###1.8 Give cells real date format"
     ]
    },
    {
     "cell_type": "markdown",
     "metadata": {
      "slideshow": {
       "slide_type": "fragment"
      }
     },
     "source": [
      "Python doesn't know that \"Nov-2013\", \"Dic-2013\"... are dates. So we are going to change that. "
     ]
    },
    {
     "cell_type": "markdown",
     "metadata": {
      "slideshow": {
       "slide_type": "fragment"
      }
     },
     "source": [
      "We create a range of dates from november'13, with 13 periods and monthly frequency and we save it as \"fechas\"."
     ]
    },
    {
     "cell_type": "code",
     "collapsed": false,
     "input": [
      "fechas = pd.date_range(\"11/2013\", periods=13, freq=\"M\")"
     ],
     "language": "python",
     "metadata": {
      "slideshow": {
       "slide_type": "fragment"
      }
     },
     "outputs": [],
     "prompt_number": 37
    },
    {
     "cell_type": "markdown",
     "metadata": {
      "slideshow": {
       "slide_type": "fragment"
      }
     },
     "source": [
      "We set \"fechas\" as the index of our dataframe"
     ]
    },
    {
     "cell_type": "code",
     "collapsed": false,
     "input": [
      "df.index = fechas"
     ],
     "language": "python",
     "metadata": {
      "slideshow": {
       "slide_type": "fragment"
      }
     },
     "outputs": [],
     "prompt_number": 38
    },
    {
     "cell_type": "code",
     "collapsed": false,
     "input": [
      "df"
     ],
     "language": "python",
     "metadata": {
      "slideshow": {
       "slide_type": "subslide"
      }
     },
     "outputs": [
      {
       "html": [
        "<div style=\"max-height:1000px;max-width:1500px;overflow:auto;\">\n",
        "<table border=\"1\" class=\"dataframe\">\n",
        "  <thead>\n",
        "    <tr style=\"text-align: right;\">\n",
        "      <th></th>\n",
        "      <th>Telef\u00f3nica</th>\n",
        "      <th>Cable</th>\n",
        "      <th>Resto</th>\n",
        "      <th>Total</th>\n",
        "    </tr>\n",
        "  </thead>\n",
        "  <tbody>\n",
        "    <tr>\n",
        "      <th>2013-11-30</th>\n",
        "      <td>     200</td>\n",
        "      <td> 2133232</td>\n",
        "      <td> 4335457</td>\n",
        "      <td> 12171444</td>\n",
        "    </tr>\n",
        "    <tr>\n",
        "      <th>2013-12-31</th>\n",
        "      <td> 5711891</td>\n",
        "      <td> 2129033</td>\n",
        "      <td> 4378659</td>\n",
        "      <td> 12219583</td>\n",
        "    </tr>\n",
        "    <tr>\n",
        "      <th>2014-01-31</th>\n",
        "      <td> 5718376</td>\n",
        "      <td> 2140364</td>\n",
        "      <td> 4439370</td>\n",
        "      <td> 12298110</td>\n",
        "    </tr>\n",
        "    <tr>\n",
        "      <th>2014-02-28</th>\n",
        "      <td> 5723195</td>\n",
        "      <td> 2150652</td>\n",
        "      <td> 4493150</td>\n",
        "      <td> 12366997</td>\n",
        "    </tr>\n",
        "    <tr>\n",
        "      <th>2014-03-31</th>\n",
        "      <td> 5724311</td>\n",
        "      <td> 2162984</td>\n",
        "      <td> 4540297</td>\n",
        "      <td> 12427592</td>\n",
        "    </tr>\n",
        "    <tr>\n",
        "      <th>2014-04-30</th>\n",
        "      <td> 5711636</td>\n",
        "      <td> 2169792</td>\n",
        "      <td> 4579294</td>\n",
        "      <td> 12460722</td>\n",
        "    </tr>\n",
        "    <tr>\n",
        "      <th>2014-05-31</th>\n",
        "      <td> 5713011</td>\n",
        "      <td> 2175578</td>\n",
        "      <td> 4612435</td>\n",
        "      <td> 12501024</td>\n",
        "    </tr>\n",
        "    <tr>\n",
        "      <th>2014-06-30</th>\n",
        "      <td> 5724807</td>\n",
        "      <td> 2173819</td>\n",
        "      <td> 4665818</td>\n",
        "      <td> 12564444</td>\n",
        "    </tr>\n",
        "    <tr>\n",
        "      <th>2014-07-31</th>\n",
        "      <td> 5731881</td>\n",
        "      <td> 2159384</td>\n",
        "      <td> 4688414</td>\n",
        "      <td> 12579679</td>\n",
        "    </tr>\n",
        "    <tr>\n",
        "      <th>2014-08-31</th>\n",
        "      <td> 5725277</td>\n",
        "      <td> 2155431</td>\n",
        "      <td> 4737807</td>\n",
        "      <td> 12618515</td>\n",
        "    </tr>\n",
        "    <tr>\n",
        "      <th>2014-09-30</th>\n",
        "      <td> 5735733</td>\n",
        "      <td> 2187137</td>\n",
        "      <td> 4801011</td>\n",
        "      <td> 12723881</td>\n",
        "    </tr>\n",
        "    <tr>\n",
        "      <th>2014-10-31</th>\n",
        "      <td> 5742624</td>\n",
        "      <td> 2215603</td>\n",
        "      <td> 4865076</td>\n",
        "      <td> 12823303</td>\n",
        "    </tr>\n",
        "    <tr>\n",
        "      <th>2014-11-30</th>\n",
        "      <td> 5743931</td>\n",
        "      <td> 2229438</td>\n",
        "      <td> 4917294</td>\n",
        "      <td> 12890663</td>\n",
        "    </tr>\n",
        "  </tbody>\n",
        "</table>\n",
        "</div>"
       ],
       "metadata": {},
       "output_type": "pyout",
       "prompt_number": 39,
       "text": [
        "            Telef\u00f3nica    Cable    Resto     Total\n",
        "2013-11-30         200  2133232  4335457  12171444\n",
        "2013-12-31     5711891  2129033  4378659  12219583\n",
        "2014-01-31     5718376  2140364  4439370  12298110\n",
        "2014-02-28     5723195  2150652  4493150  12366997\n",
        "2014-03-31     5724311  2162984  4540297  12427592\n",
        "2014-04-30     5711636  2169792  4579294  12460722\n",
        "2014-05-31     5713011  2175578  4612435  12501024\n",
        "2014-06-30     5724807  2173819  4665818  12564444\n",
        "2014-07-31     5731881  2159384  4688414  12579679\n",
        "2014-08-31     5725277  2155431  4737807  12618515\n",
        "2014-09-30     5735733  2187137  4801011  12723881\n",
        "2014-10-31     5742624  2215603  4865076  12823303\n",
        "2014-11-30     5743931  2229438  4917294  12890663"
       ]
      }
     ],
     "prompt_number": 39
    },
    {
     "cell_type": "markdown",
     "metadata": {
      "slideshow": {
       "slide_type": "slide"
      }
     },
     "source": [
      "##2. Statistics"
     ]
    },
    {
     "cell_type": "markdown",
     "metadata": {
      "slideshow": {
       "slide_type": "fragment"
      }
     },
     "source": [
      "Python is useful for working with big data frames. Now we want to do some basic statistics with our data. The data frame is obtained from KIVA, a web for lending money to entrepreneurs in the developing world. Our data is a small sample of 20.000 loans, but you can access to the whole dataset at [http://build.kiva.org/docs/](http://build.kiva.org/docs/)"
     ]
    },
    {
     "cell_type": "markdown",
     "metadata": {
      "slideshow": {
       "slide_type": "fragment"
      }
     },
     "source": [
      "In this exercice we are going to use data in the c.sv file named **\"02_data_kiva_loans.csv\"**. As in the last exercice we have to ensure that this file is available in our working directory."
     ]
    },
    {
     "cell_type": "code",
     "collapsed": false,
     "input": [
      "print os.listdir('.')"
     ],
     "language": "python",
     "metadata": {
      "slideshow": {
       "slide_type": "fragment"
      }
     },
     "outputs": [
      {
       "output_type": "stream",
       "stream": "stdout",
       "text": [
        "['twitter_keys.db', '01_tutorial_csv_limpiardatos.py', '02_tutorial_csv_estadisticas.py', '._crosstab_tipo_06.csv', 'crosstab_tipo_06.csv', 'Instruccions_python_periodistes.txt', '02_data_kiva_loans.csv', 'mi_timeline.csv', '03_tutorial_twitter.py', 'tutorial_csv_limpiardatos.py', '01_data.csv', 'prestamos_kiva.csv', 'mi_busqueda.csv', 'Python_Periodistes.slides.html', '.ipynb_checkpoints', 'Python_Periodistes.ipynb', 'tutorial_csv_estadisticas.py']\n"
       ]
      }
     ],
     "prompt_number": 40
    },
    {
     "cell_type": "markdown",
     "metadata": {
      "slideshow": {
       "slide_type": "subslide"
      }
     },
     "source": [
      "###2.1 Load data from .csv file"
     ]
    },
    {
     "cell_type": "code",
     "collapsed": false,
     "input": [
      "df = pd.read_csv(\"02_data_kiva_loans.csv\")"
     ],
     "language": "python",
     "metadata": {
      "slideshow": {
       "slide_type": "fragment"
      }
     },
     "outputs": [],
     "prompt_number": 97
    },
    {
     "cell_type": "code",
     "collapsed": false,
     "input": [
      "df.head()"
     ],
     "language": "python",
     "metadata": {
      "slideshow": {
       "slide_type": "fragment"
      }
     },
     "outputs": [
      {
       "html": [
        "<div style=\"max-height:1000px;max-width:1500px;overflow:auto;\">\n",
        "<table border=\"1\" class=\"dataframe\">\n",
        "  <thead>\n",
        "    <tr style=\"text-align: right;\">\n",
        "      <th></th>\n",
        "      <th>actividad</th>\n",
        "      <th>cantidad</th>\n",
        "      <th>estatus</th>\n",
        "      <th>pais</th>\n",
        "      <th>genero</th>\n",
        "    </tr>\n",
        "  </thead>\n",
        "  <tbody>\n",
        "    <tr>\n",
        "      <th>0</th>\n",
        "      <td>              Beauty Salon</td>\n",
        "      <td>  625</td>\n",
        "      <td> in_repayment</td>\n",
        "      <td>       Kenya</td>\n",
        "      <td> F</td>\n",
        "    </tr>\n",
        "    <tr>\n",
        "      <th>1</th>\n",
        "      <td>                   Farming</td>\n",
        "      <td> 3200</td>\n",
        "      <td> in_repayment</td>\n",
        "      <td>       India</td>\n",
        "      <td> F</td>\n",
        "    </tr>\n",
        "    <tr>\n",
        "      <th>2</th>\n",
        "      <td> Personal Housing Expenses</td>\n",
        "      <td>  800</td>\n",
        "      <td>         paid</td>\n",
        "      <td>   Nicaragua</td>\n",
        "      <td> F</td>\n",
        "    </tr>\n",
        "    <tr>\n",
        "      <th>3</th>\n",
        "      <td>                      Pigs</td>\n",
        "      <td>  225</td>\n",
        "      <td>         paid</td>\n",
        "      <td> Philippines</td>\n",
        "      <td> F</td>\n",
        "    </tr>\n",
        "    <tr>\n",
        "      <th>4</th>\n",
        "      <td>                   Cobbler</td>\n",
        "      <td>  275</td>\n",
        "      <td>         paid</td>\n",
        "      <td>    Pakistan</td>\n",
        "      <td> F</td>\n",
        "    </tr>\n",
        "  </tbody>\n",
        "</table>\n",
        "</div>"
       ],
       "metadata": {},
       "output_type": "pyout",
       "prompt_number": 98,
       "text": [
        "                   actividad  cantidad       estatus         pais genero\n",
        "0               Beauty Salon       625  in_repayment        Kenya      F\n",
        "1                    Farming      3200  in_repayment        India      F\n",
        "2  Personal Housing Expenses       800          paid    Nicaragua      F\n",
        "3                       Pigs       225          paid  Philippines      F\n",
        "4                    Cobbler       275          paid     Pakistan      F"
       ]
      }
     ],
     "prompt_number": 98
    },
    {
     "cell_type": "code",
     "collapsed": false,
     "input": [
      "df.columns, df.shape #data dimensions (rows, columns)"
     ],
     "language": "python",
     "metadata": {
      "slideshow": {
       "slide_type": "fragment"
      }
     },
     "outputs": [
      {
       "metadata": {},
       "output_type": "pyout",
       "prompt_number": 99,
       "text": [
        "(Index([u'actividad', u'cantidad', u'estatus', u'pais', u'genero'], dtype='object'),\n",
        " (20000, 5))"
       ]
      }
     ],
     "prompt_number": 99
    },
    {
     "cell_type": "markdown",
     "metadata": {
      "slideshow": {
       "slide_type": "subslide"
      }
     },
     "source": [
      "###2.2 Some basic operations"
     ]
    },
    {
     "cell_type": "markdown",
     "metadata": {
      "slideshow": {
       "slide_type": "fragment"
      }
     },
     "source": [
      "In this section we are going to find what is the country with more loans."
     ]
    },
    {
     "cell_type": "markdown",
     "metadata": {
      "slideshow": {
       "slide_type": "fragment"
      }
     },
     "source": [
      "First of all, we have to count number of loans per country."
     ]
    },
    {
     "cell_type": "code",
     "collapsed": false,
     "input": [
      "print df.pais.value_counts()"
     ],
     "language": "python",
     "metadata": {
      "slideshow": {
       "slide_type": "fragment"
      }
     },
     "outputs": [
      {
       "output_type": "stream",
       "stream": "stdout",
       "text": [
        "Philippines     3621\n",
        "Kenya           1714\n",
        "El Salvador     1217\n",
        "Peru            1007\n",
        "Cambodia         979\n",
        "Pakistan         875\n",
        "Uganda           730\n",
        "Nicaragua        697\n",
        "Tajikistan       683\n",
        "Colombia         455\n",
        "Liberia          418\n",
        "Vietnam          373\n",
        "Sierra Leone     372\n",
        "Mali             371\n",
        "Zimbabwe         351\n",
        "...\n",
        "Burkina Faso    24\n",
        "Zambia          24\n",
        "Timor-Leste     23\n",
        "Belize          18\n",
        "Suriname        17\n",
        "Haiti           13\n",
        "Bulgaria        11\n",
        "Congo           11\n",
        "Afghanistan      8\n",
        "Israel           6\n",
        "Thailand         6\n",
        "Moldova          4\n",
        "Brazil           2\n",
        "Panama           1\n",
        "Mauritania       1\n",
        "Length: 69, dtype: int64\n"
       ]
      }
     ],
     "prompt_number": 45
    },
    {
     "cell_type": "markdown",
     "metadata": {
      "slideshow": {
       "slide_type": "subslide"
      }
     },
     "source": [
      "And plot the results (we only plot the 10 first contries with more loans)."
     ]
    },
    {
     "cell_type": "code",
     "collapsed": false,
     "input": [
      "%matplotlib inline\n",
      "df.pais.value_counts()[:10].plot(kind=\"bar\")"
     ],
     "language": "python",
     "metadata": {
      "slideshow": {
       "slide_type": "fragment"
      }
     },
     "outputs": [
      {
       "metadata": {},
       "output_type": "pyout",
       "prompt_number": 46,
       "text": [
        "<matplotlib.axes.AxesSubplot at 0xae7f026c>"
       ]
      },
      {
       "metadata": {},
       "output_type": "display_data",
       "png": "[encoded data removed]",
       "text": [
        "<matplotlib.figure.Figure at 0xaeaab2ac>"
       ]
      }
     ],
     "prompt_number": 46
    },
    {
     "cell_type": "markdown",
     "metadata": {
      "slideshow": {
       "slide_type": "subslide"
      }
     },
     "source": [
      "To answer the same question we can use other Python modules. In this case, we are going to use collentions module. "
     ]
    },
    {
     "cell_type": "code",
     "collapsed": false,
     "input": [
      "import collections"
     ],
     "language": "python",
     "metadata": {
      "slideshow": {
       "slide_type": "fragment"
      }
     },
     "outputs": [],
     "prompt_number": 47
    },
    {
     "cell_type": "code",
     "collapsed": false,
     "input": [
      "cuenta_paises = collections.Counter(df[\"pais\"])"
     ],
     "language": "python",
     "metadata": {
      "slideshow": {
       "slide_type": "fragment"
      }
     },
     "outputs": [],
     "prompt_number": 48
    },
    {
     "cell_type": "code",
     "collapsed": false,
     "input": [
      "cuenta_paises"
     ],
     "language": "python",
     "metadata": {
      "slideshow": {
       "slide_type": "fragment"
      }
     },
     "outputs": [
      {
       "metadata": {},
       "output_type": "pyout",
       "prompt_number": 49,
       "text": [
        "Counter({'Philippines': 3621, 'Kenya': 1714, 'El Salvador': 1217, 'Peru': 1007, 'Cambodia': 979, 'Pakistan': 875, 'Uganda': 730, 'Nicaragua': 697, 'Tajikistan': 683, 'Colombia': 455, 'Liberia': 418, 'Vietnam': 373, 'Sierra Leone': 372, 'Mali': 371, 'Zimbabwe': 351, 'Ecuador': 345, 'India': 344, 'Indonesia': 343, 'Honduras': 339, 'Samoa': 311, 'Paraguay': 300, 'Armenia': 270, 'Bolivia': 269, 'Tanzania': 242, 'Ghana': 232, 'Kyrgyzstan': 200, 'Senegal': 190, 'Azerbaijan': 188, 'Palestine': 186, 'Guatemala': 183, 'Mexico': 168, 'Togo': 166, 'Jordan': 142, 'Yemen': 137, 'Iraq': 124, 'Nigeria': 118, 'Lebanon': 110, 'The Democratic Republic of the Congo': 103, 'Albania': 98, 'Mozambique': 93, 'Dominican Republic': 79, 'Cameroon': 74, 'Mongolia': 69, 'Benin': 66, 'Ukraine': 66, 'Rwanda': 65, 'Kosovo': 65, 'Burundi': 62, 'Georgia': 53, 'Costa Rica': 44, 'Bosnia and Herzegovina': 38, 'United States': 34, 'Nepal': 27, 'Turkey': 25, 'Burkina Faso': 24, 'Zambia': 24, 'Timor-Leste': 23, 'Belize': 18, 'Suriname': 17, 'Haiti': 13, 'Bulgaria': 11, 'Congo': 11, 'Afghanistan': 8, 'Israel': 6, 'Thailand': 6, 'Moldova': 4, 'Brazil': 2, 'Mauritania': 1, 'Panama': 1})"
       ]
      }
     ],
     "prompt_number": 49
    },
    {
     "cell_type": "code",
     "collapsed": false,
     "input": [
      "cuenta_paises = collections.Counter(df[\"pais\"]).most_common(10)"
     ],
     "language": "python",
     "metadata": {
      "slideshow": {
       "slide_type": "subslide"
      }
     },
     "outputs": [],
     "prompt_number": 50
    },
    {
     "cell_type": "code",
     "collapsed": false,
     "input": [
      "cuenta_paises"
     ],
     "language": "python",
     "metadata": {
      "slideshow": {
       "slide_type": "fragment"
      }
     },
     "outputs": [
      {
       "metadata": {},
       "output_type": "pyout",
       "prompt_number": 51,
       "text": [
        "[('Philippines', 3621),\n",
        " ('Kenya', 1714),\n",
        " ('El Salvador', 1217),\n",
        " ('Peru', 1007),\n",
        " ('Cambodia', 979),\n",
        " ('Pakistan', 875),\n",
        " ('Uganda', 730),\n",
        " ('Nicaragua', 697),\n",
        " ('Tajikistan', 683),\n",
        " ('Colombia', 455)]"
       ]
      }
     ],
     "prompt_number": 51
    },
    {
     "cell_type": "markdown",
     "metadata": {
      "slideshow": {
       "slide_type": "subslide"
      }
     },
     "source": [
      "Finally, we are goint to look for which activity is more common in our loans \"database\"."
     ]
    },
    {
     "cell_type": "code",
     "collapsed": false,
     "input": [
      "top_actividades = collections.Counter(df[\"actividad\"]).most_common()"
     ],
     "language": "python",
     "metadata": {
      "slideshow": {
       "slide_type": "fragment"
      }
     },
     "outputs": [],
     "prompt_number": 52
    },
    {
     "cell_type": "code",
     "collapsed": false,
     "input": [
      "top_actividades"
     ],
     "language": "python",
     "metadata": {
      "slideshow": {
       "slide_type": "fragment"
      }
     },
     "outputs": [
      {
       "metadata": {},
       "output_type": "pyout",
       "prompt_number": 53,
       "text": [
        "[('Farming', 1718),\n",
        " ('General Store', 1633),\n",
        " ('Retail', 1021),\n",
        " ('Personal Housing Expenses', 981),\n",
        " ('Agriculture', 930),\n",
        " ('Food Production/Sales', 903),\n",
        " ('Clothing Sales', 887),\n",
        " ('Fruits & Vegetables', 586),\n",
        " ('Higher education costs', 572),\n",
        " ('Food Market', 557),\n",
        " ('Pigs', 535),\n",
        " ('Grocery Store', 464),\n",
        " ('Livestock', 401),\n",
        " ('Services', 365),\n",
        " ('Fish Selling', 362),\n",
        " ('Animal Sales', 332),\n",
        " ('Sewing', 330),\n",
        " ('Food Stall', 305),\n",
        " ('Poultry', 274),\n",
        " ('Fishing', 252),\n",
        " ('Cattle', 252),\n",
        " ('Food', 249),\n",
        " ('Motorcycle Transport', 232),\n",
        " ('Restaurant', 214),\n",
        " ('Tailoring', 199),\n",
        " ('Dairy', 199),\n",
        " ('Charcoal Sales', 199),\n",
        " ('Beauty Salon', 197),\n",
        " ('Used Clothing', 181),\n",
        " ('Cereals', 168),\n",
        " ('Cosmetics Sales', 168),\n",
        " ('Phone Use Sales', 159),\n",
        " ('Bakery', 147),\n",
        " ('Manufacturing', 145),\n",
        " ('Home Products Sales', 142),\n",
        " ('Home Energy', 139),\n",
        " ('Rickshaw', 129),\n",
        " ('Clothing', 125),\n",
        " ('Shoe Sales', 117),\n",
        " ('Transportation', 115),\n",
        " ('Primary/secondary school costs', 114),\n",
        " ('Crafts', 110),\n",
        " ('Personal Purchases', 108),\n",
        " ('Fuel/Firewood', 106),\n",
        " ('Farm Supplies', 100),\n",
        " ('Soft Drinks', 100),\n",
        " ('Construction', 98),\n",
        " ('Cloth & Dressmaking Supplies', 98),\n",
        " ('Personal Products Sales', 93),\n",
        " ('Construction Supplies', 93),\n",
        " ('Milk Sales', 89),\n",
        " ('Taxi', 86),\n",
        " ('Weaving', 74),\n",
        " ('Cafe', 73),\n",
        " ('Embroidery', 70),\n",
        " ('Education provider', 68),\n",
        " ('Butcher Shop', 67),\n",
        " ('Vehicle', 59),\n",
        " ('Furniture Making', 57),\n",
        " ('Auto Repair', 53),\n",
        " ('Personal Medical Expenses', 52),\n",
        " ('Pharmacy', 49),\n",
        " ('Home Appliances', 49),\n",
        " ('Spare Parts', 43),\n",
        " ('Pub', 43),\n",
        " ('Liquor Store / Off-License', 43),\n",
        " ('Arts', 42),\n",
        " ('Textiles', 42),\n",
        " ('Barber Shop', 40),\n",
        " ('Jewelry', 38),\n",
        " ('Property', 36),\n",
        " ('Recycled Materials', 34),\n",
        " ('Hardware', 34),\n",
        " ('Metal Shop', 32),\n",
        " ('Blacksmith', 30),\n",
        " ('Electronics Sales', 29),\n",
        " ('Carpentry', 28),\n",
        " ('Mobile Phones', 28),\n",
        " ('Health', 26),\n",
        " ('Flowers', 26),\n",
        " ('Internet Cafe', 25),\n",
        " ('Electrical Goods', 25),\n",
        " ('Natural Medicines', 24),\n",
        " ('Land Rental', 22),\n",
        " ('Plastics Sales', 21),\n",
        " ('Catering', 21),\n",
        " ('Vehicle Repairs', 21),\n",
        " ('Motorcycle Repair', 19),\n",
        " ('Water Distribution', 18),\n",
        " ('Office Supplies', 18),\n",
        " ('Bookstore', 17),\n",
        " ('Cobbler', 17),\n",
        " ('Bricks', 17),\n",
        " ('Used Shoes', 16),\n",
        " ('Knitting', 15),\n",
        " ('Perfumes', 15),\n",
        " ('Electronics Repair', 15),\n",
        " ('Phone Accessories', 15),\n",
        " ('Renewable Energy Products', 14),\n",
        " ('Consumer Goods', 14),\n",
        " ('Laundry', 14),\n",
        " ('Wholesale', 13),\n",
        " ('Timber Sales', 13),\n",
        " ('Waste Management', 13),\n",
        " ('Printing', 13),\n",
        " ('Traveling Sales', 12),\n",
        " ('Wedding Expenses', 11),\n",
        " ('Computers', 11),\n",
        " ('Decorations Sales', 10),\n",
        " ('Bicycle Repair', 10),\n",
        " ('Photography', 9),\n",
        " ('Medical Clinic', 9),\n",
        " ('Hotel', 9),\n",
        " ('Cheese Making', 9),\n",
        " ('Phone Repair', 9),\n",
        " ('Utilities', 8),\n",
        " ('Electrician', 8),\n",
        " ('Recycling', 8),\n",
        " ('Entertainment', 7),\n",
        " ('Games', 7),\n",
        " ('Goods Distribution', 6),\n",
        " ('Machine Shop', 6),\n",
        " ('Machinery Rental', 6),\n",
        " ('Souvenir Sales', 5),\n",
        " ('Quarrying', 5),\n",
        " ('Movie Tapes & DVDs', 5),\n",
        " ('Secretarial Services', 4),\n",
        " ('Tourism', 4),\n",
        " ('Paper Sales', 4),\n",
        " ('Veterinary Sales', 4),\n",
        " ('Dental', 4),\n",
        " ('Cement', 4),\n",
        " ('Musical Instruments', 3),\n",
        " ('Funeral Expenses', 3),\n",
        " ('Party Supplies', 3),\n",
        " ('Upholstery', 3),\n",
        " ('Call Center', 3),\n",
        " ('Religious Articles', 2),\n",
        " ('Music Discs & Tapes', 2),\n",
        " ('Well digging', 2),\n",
        " ('Musical Performance', 2),\n",
        " ('Child Care', 2),\n",
        " ('Air Conditioning', 1),\n",
        " ('Balut-Making', 1)]"
       ]
      }
     ],
     "prompt_number": 53
    },
    {
     "cell_type": "code",
     "collapsed": false,
     "input": [
      "top_10_actividades = collections.Counter(df[\"actividad\"]).most_common(10)"
     ],
     "language": "python",
     "metadata": {
      "slideshow": {
       "slide_type": "subslide"
      }
     },
     "outputs": [],
     "prompt_number": 54
    },
    {
     "cell_type": "code",
     "collapsed": false,
     "input": [
      "top_10_actividades"
     ],
     "language": "python",
     "metadata": {
      "slideshow": {
       "slide_type": "fragment"
      }
     },
     "outputs": [
      {
       "metadata": {},
       "output_type": "pyout",
       "prompt_number": 55,
       "text": [
        "[('Farming', 1718),\n",
        " ('General Store', 1633),\n",
        " ('Retail', 1021),\n",
        " ('Personal Housing Expenses', 981),\n",
        " ('Agriculture', 930),\n",
        " ('Food Production/Sales', 903),\n",
        " ('Clothing Sales', 887),\n",
        " ('Fruits & Vegetables', 586),\n",
        " ('Higher education costs', 572),\n",
        " ('Food Market', 557)]"
       ]
      }
     ],
     "prompt_number": 55
    },
    {
     "cell_type": "markdown",
     "metadata": {
      "slideshow": {
       "slide_type": "subslide"
      }
     },
     "source": [
      "###2.3 Data Statistics"
     ]
    },
    {
     "cell_type": "markdown",
     "metadata": {
      "slideshow": {
       "slide_type": "fragment"
      }
     },
     "source": [
      "One of the more interesting information that we can obtain from data are statistics. We can calculate what's the average loan, how much money has people lent or  what's the maximum loan.  \n",
      "Let's do some basic stats!!"
     ]
    },
    {
     "cell_type": "markdown",
     "metadata": {
      "slideshow": {
       "slide_type": "fragment"
      }
     },
     "source": [
      "With describe() we have the basic statistics: mean, standard deviation, maximun, count..."
     ]
    },
    {
     "cell_type": "code",
     "collapsed": false,
     "input": [
      "df.describe()"
     ],
     "language": "python",
     "metadata": {
      "slideshow": {
       "slide_type": "fragment"
      }
     },
     "outputs": [
      {
       "html": [
        "<div style=\"max-height:1000px;max-width:1500px;overflow:auto;\">\n",
        "<table border=\"1\" class=\"dataframe\">\n",
        "  <thead>\n",
        "    <tr style=\"text-align: right;\">\n",
        "      <th></th>\n",
        "      <th>cantidad</th>\n",
        "    </tr>\n",
        "  </thead>\n",
        "  <tbody>\n",
        "    <tr>\n",
        "      <th>count</th>\n",
        "      <td> 20000.000000</td>\n",
        "    </tr>\n",
        "    <tr>\n",
        "      <th>mean</th>\n",
        "      <td>   851.070000</td>\n",
        "    </tr>\n",
        "    <tr>\n",
        "      <th>std</th>\n",
        "      <td>  1123.433113</td>\n",
        "    </tr>\n",
        "    <tr>\n",
        "      <th>min</th>\n",
        "      <td>     0.000000</td>\n",
        "    </tr>\n",
        "    <tr>\n",
        "      <th>25%</th>\n",
        "      <td>   300.000000</td>\n",
        "    </tr>\n",
        "    <tr>\n",
        "      <th>50%</th>\n",
        "      <td>   525.000000</td>\n",
        "    </tr>\n",
        "    <tr>\n",
        "      <th>75%</th>\n",
        "      <td>  1000.000000</td>\n",
        "    </tr>\n",
        "    <tr>\n",
        "      <th>max</th>\n",
        "      <td> 50000.000000</td>\n",
        "    </tr>\n",
        "  </tbody>\n",
        "</table>\n",
        "</div>"
       ],
       "metadata": {},
       "output_type": "pyout",
       "prompt_number": 56,
       "text": [
        "           cantidad\n",
        "count  20000.000000\n",
        "mean     851.070000\n",
        "std     1123.433113\n",
        "min        0.000000\n",
        "25%      300.000000\n",
        "50%      525.000000\n",
        "75%     1000.000000\n",
        "max    50000.000000"
       ]
      }
     ],
     "prompt_number": 56
    },
    {
     "cell_type": "markdown",
     "metadata": {
      "slideshow": {
       "slide_type": "subslide"
      }
     },
     "source": [
      "With sum() we will know the total money lent."
     ]
    },
    {
     "cell_type": "code",
     "collapsed": false,
     "input": [
      "df.cantidad.sum()"
     ],
     "language": "python",
     "metadata": {
      "slideshow": {
       "slide_type": "fragment"
      }
     },
     "outputs": [
      {
       "metadata": {},
       "output_type": "pyout",
       "prompt_number": 57,
       "text": [
        "17021400"
       ]
      }
     ],
     "prompt_number": 57
    },
    {
     "cell_type": "markdown",
     "metadata": {
      "slideshow": {
       "slide_type": "fragment"
      }
     },
     "source": [
      "Mean, Max, min, variance, standard deviation... "
     ]
    },
    {
     "cell_type": "code",
     "collapsed": false,
     "input": [
      "df.cantidad.mean()"
     ],
     "language": "python",
     "metadata": {
      "slideshow": {
       "slide_type": "fragment"
      }
     },
     "outputs": [
      {
       "metadata": {},
       "output_type": "pyout",
       "prompt_number": 58,
       "text": [
        "851.07000000000005"
       ]
      }
     ],
     "prompt_number": 58
    },
    {
     "cell_type": "code",
     "collapsed": false,
     "input": [
      "df.cantidad.max()"
     ],
     "language": "python",
     "metadata": {
      "slideshow": {
       "slide_type": "fragment"
      }
     },
     "outputs": [
      {
       "metadata": {},
       "output_type": "pyout",
       "prompt_number": 59,
       "text": [
        "50000"
       ]
      }
     ],
     "prompt_number": 59
    },
    {
     "cell_type": "code",
     "collapsed": false,
     "input": [
      "df.cantidad.min()"
     ],
     "language": "python",
     "metadata": {
      "slideshow": {
       "slide_type": "subslide"
      }
     },
     "outputs": [
      {
       "metadata": {},
       "output_type": "pyout",
       "prompt_number": 60,
       "text": [
        "0"
       ]
      }
     ],
     "prompt_number": 60
    },
    {
     "cell_type": "code",
     "collapsed": false,
     "input": [
      "df.cantidad.var()"
     ],
     "language": "python",
     "metadata": {
      "slideshow": {
       "slide_type": "fragment"
      }
     },
     "outputs": [
      {
       "metadata": {},
       "output_type": "pyout",
       "prompt_number": 61,
       "text": [
        "1262101.9601980099"
       ]
      }
     ],
     "prompt_number": 61
    },
    {
     "cell_type": "code",
     "collapsed": false,
     "input": [
      "df.cantidad.std()"
     ],
     "language": "python",
     "metadata": {
      "slideshow": {
       "slide_type": "fragment"
      }
     },
     "outputs": [
      {
       "metadata": {},
       "output_type": "pyout",
       "prompt_number": 62,
       "text": [
        "1123.4331133618991"
       ]
      }
     ],
     "prompt_number": 62
    },
    {
     "cell_type": "markdown",
     "metadata": {
      "slideshow": {
       "slide_type": "fragment"
      }
     },
     "source": [
      "For more advanced statistics, the Scypy module provides everything you may need."
     ]
    },
    {
     "cell_type": "markdown",
     "metadata": {
      "slideshow": {
       "slide_type": "subslide"
      }
     },
     "source": [
      "###2.4 Grouping by"
     ]
    },
    {
     "cell_type": "markdown",
     "metadata": {
      "slideshow": {
       "slide_type": "fragment"
      }
     },
     "source": [
      "Groupby is powerful method from Pandas module. Using it we can obtain data grouped by rules defined for us."
     ]
    },
    {
     "cell_type": "code",
     "collapsed": false,
     "input": [
      "df_gen = df.groupby([\"genero\"])"
     ],
     "language": "python",
     "metadata": {
      "slideshow": {
       "slide_type": "fragment"
      }
     },
     "outputs": [],
     "prompt_number": 63
    },
    {
     "cell_type": "code",
     "collapsed": false,
     "input": [
      "df_gen.describe()"
     ],
     "language": "python",
     "metadata": {
      "slideshow": {
       "slide_type": "fragment"
      }
     },
     "outputs": [
      {
       "html": [
        "<div style=\"max-height:1000px;max-width:1500px;overflow:auto;\">\n",
        "<table border=\"1\" class=\"dataframe\">\n",
        "  <thead>\n",
        "    <tr style=\"text-align: right;\">\n",
        "      <th></th>\n",
        "      <th></th>\n",
        "      <th>cantidad</th>\n",
        "    </tr>\n",
        "    <tr>\n",
        "      <th>genero</th>\n",
        "      <th></th>\n",
        "      <th></th>\n",
        "    </tr>\n",
        "  </thead>\n",
        "  <tbody>\n",
        "    <tr>\n",
        "      <th rowspan=\"8\" valign=\"top\">F</th>\n",
        "      <th>count</th>\n",
        "      <td> 15442.000000</td>\n",
        "    </tr>\n",
        "    <tr>\n",
        "      <th>mean</th>\n",
        "      <td>   817.209558</td>\n",
        "    </tr>\n",
        "    <tr>\n",
        "      <th>std</th>\n",
        "      <td>   987.171669</td>\n",
        "    </tr>\n",
        "    <tr>\n",
        "      <th>min</th>\n",
        "      <td>     0.000000</td>\n",
        "    </tr>\n",
        "    <tr>\n",
        "      <th>25%</th>\n",
        "      <td>   300.000000</td>\n",
        "    </tr>\n",
        "    <tr>\n",
        "      <th>50%</th>\n",
        "      <td>   500.000000</td>\n",
        "    </tr>\n",
        "    <tr>\n",
        "      <th>75%</th>\n",
        "      <td>   950.000000</td>\n",
        "    </tr>\n",
        "    <tr>\n",
        "      <th>max</th>\n",
        "      <td> 20000.000000</td>\n",
        "    </tr>\n",
        "    <tr>\n",
        "      <th rowspan=\"8\" valign=\"top\">M</th>\n",
        "      <th>count</th>\n",
        "      <td>  4558.000000</td>\n",
        "    </tr>\n",
        "    <tr>\n",
        "      <th>mean</th>\n",
        "      <td>   965.785432</td>\n",
        "    </tr>\n",
        "    <tr>\n",
        "      <th>std</th>\n",
        "      <td>  1489.905632</td>\n",
        "    </tr>\n",
        "    <tr>\n",
        "      <th>min</th>\n",
        "      <td>     0.000000</td>\n",
        "    </tr>\n",
        "    <tr>\n",
        "      <th>25%</th>\n",
        "      <td>   400.000000</td>\n",
        "    </tr>\n",
        "    <tr>\n",
        "      <th>50%</th>\n",
        "      <td>   700.000000</td>\n",
        "    </tr>\n",
        "    <tr>\n",
        "      <th>75%</th>\n",
        "      <td>  1125.000000</td>\n",
        "    </tr>\n",
        "    <tr>\n",
        "      <th>max</th>\n",
        "      <td> 50000.000000</td>\n",
        "    </tr>\n",
        "  </tbody>\n",
        "</table>\n",
        "</div>"
       ],
       "metadata": {},
       "output_type": "pyout",
       "prompt_number": 64,
       "text": [
        "                  cantidad\n",
        "genero                    \n",
        "F      count  15442.000000\n",
        "       mean     817.209558\n",
        "       std      987.171669\n",
        "       min        0.000000\n",
        "       25%      300.000000\n",
        "       50%      500.000000\n",
        "       75%      950.000000\n",
        "       max    20000.000000\n",
        "M      count   4558.000000\n",
        "       mean     965.785432\n",
        "       std     1489.905632\n",
        "       min        0.000000\n",
        "       25%      400.000000\n",
        "       50%      700.000000\n",
        "       75%     1125.000000\n",
        "       max    50000.000000"
       ]
      }
     ],
     "prompt_number": 64
    },
    {
     "cell_type": "code",
     "collapsed": false,
     "input": [
      "df_gen_estatus = df.groupby([\"genero\", \"estatus\"])"
     ],
     "language": "python",
     "metadata": {
      "slideshow": {
       "slide_type": "subslide"
      }
     },
     "outputs": [],
     "prompt_number": 65
    },
    {
     "cell_type": "code",
     "collapsed": false,
     "input": [
      "df_gen_estatus.count()"
     ],
     "language": "python",
     "metadata": {
      "slideshow": {
       "slide_type": "fragment"
      }
     },
     "outputs": [
      {
       "html": [
        "<div style=\"max-height:1000px;max-width:1500px;overflow:auto;\">\n",
        "<table border=\"1\" class=\"dataframe\">\n",
        "  <thead>\n",
        "    <tr style=\"text-align: right;\">\n",
        "      <th></th>\n",
        "      <th></th>\n",
        "      <th>actividad</th>\n",
        "      <th>cantidad</th>\n",
        "      <th>pais</th>\n",
        "    </tr>\n",
        "    <tr>\n",
        "      <th>genero</th>\n",
        "      <th>estatus</th>\n",
        "      <th></th>\n",
        "      <th></th>\n",
        "      <th></th>\n",
        "    </tr>\n",
        "  </thead>\n",
        "  <tbody>\n",
        "    <tr>\n",
        "      <th rowspan=\"7\" valign=\"top\">F</th>\n",
        "      <th>defaulted</th>\n",
        "      <td>  126</td>\n",
        "      <td>  126</td>\n",
        "      <td>  126</td>\n",
        "    </tr>\n",
        "    <tr>\n",
        "      <th>deleted</th>\n",
        "      <td>   15</td>\n",
        "      <td>   15</td>\n",
        "      <td>   15</td>\n",
        "    </tr>\n",
        "    <tr>\n",
        "      <th>expired</th>\n",
        "      <td>  141</td>\n",
        "      <td>  141</td>\n",
        "      <td>  141</td>\n",
        "    </tr>\n",
        "    <tr>\n",
        "      <th>in_repayment</th>\n",
        "      <td> 7686</td>\n",
        "      <td> 7686</td>\n",
        "      <td> 7686</td>\n",
        "    </tr>\n",
        "    <tr>\n",
        "      <th>inactive_expired</th>\n",
        "      <td>    2</td>\n",
        "      <td>    2</td>\n",
        "      <td>    2</td>\n",
        "    </tr>\n",
        "    <tr>\n",
        "      <th>paid</th>\n",
        "      <td> 7446</td>\n",
        "      <td> 7446</td>\n",
        "      <td> 7446</td>\n",
        "    </tr>\n",
        "    <tr>\n",
        "      <th>refunded</th>\n",
        "      <td>   26</td>\n",
        "      <td>   26</td>\n",
        "      <td>   26</td>\n",
        "    </tr>\n",
        "    <tr>\n",
        "      <th rowspan=\"7\" valign=\"top\">M</th>\n",
        "      <th>defaulted</th>\n",
        "      <td>   36</td>\n",
        "      <td>   36</td>\n",
        "      <td>   36</td>\n",
        "    </tr>\n",
        "    <tr>\n",
        "      <th>deleted</th>\n",
        "      <td>    3</td>\n",
        "      <td>    3</td>\n",
        "      <td>    3</td>\n",
        "    </tr>\n",
        "    <tr>\n",
        "      <th>expired</th>\n",
        "      <td>  257</td>\n",
        "      <td>  257</td>\n",
        "      <td>  257</td>\n",
        "    </tr>\n",
        "    <tr>\n",
        "      <th>in_repayment</th>\n",
        "      <td> 2500</td>\n",
        "      <td> 2500</td>\n",
        "      <td> 2500</td>\n",
        "    </tr>\n",
        "    <tr>\n",
        "      <th>inactive_expired</th>\n",
        "      <td>    1</td>\n",
        "      <td>    1</td>\n",
        "      <td>    1</td>\n",
        "    </tr>\n",
        "    <tr>\n",
        "      <th>paid</th>\n",
        "      <td> 1736</td>\n",
        "      <td> 1736</td>\n",
        "      <td> 1736</td>\n",
        "    </tr>\n",
        "    <tr>\n",
        "      <th>refunded</th>\n",
        "      <td>   25</td>\n",
        "      <td>   25</td>\n",
        "      <td>   25</td>\n",
        "    </tr>\n",
        "  </tbody>\n",
        "</table>\n",
        "</div>"
       ],
       "metadata": {},
       "output_type": "pyout",
       "prompt_number": 66,
       "text": [
        "                         actividad  cantidad  pais\n",
        "genero estatus                                    \n",
        "F      defaulted               126       126   126\n",
        "       deleted                  15        15    15\n",
        "       expired                 141       141   141\n",
        "       in_repayment           7686      7686  7686\n",
        "       inactive_expired          2         2     2\n",
        "       paid                   7446      7446  7446\n",
        "       refunded                 26        26    26\n",
        "M      defaulted                36        36    36\n",
        "       deleted                   3         3     3\n",
        "       expired                 257       257   257\n",
        "       in_repayment           2500      2500  2500\n",
        "       inactive_expired          1         1     1\n",
        "       paid                   1736      1736  1736\n",
        "       refunded                 25        25    25"
       ]
      }
     ],
     "prompt_number": 66
    },
    {
     "cell_type": "markdown",
     "metadata": {
      "slideshow": {
       "slide_type": "subslide"
      }
     },
     "source": [
      "###2.5 Complex operations"
     ]
    },
    {
     "cell_type": "markdown",
     "metadata": {
      "slideshow": {
       "slide_type": "fragment"
      }
     },
     "source": [
      "Finally we want to know more about loans, especially about defaulted loans. We want to know, for example, which countries have more defaults."
     ]
    },
    {
     "cell_type": "markdown",
     "metadata": {
      "slideshow": {
       "slide_type": "fragment"
      }
     },
     "source": [
      "There are only 162 defaulted loans over 20.000 loans. Let's see where!"
     ]
    },
    {
     "cell_type": "code",
     "collapsed": false,
     "input": [
      "defaulted = df[df[\"estatus\"]==\"defaulted\"]"
     ],
     "language": "python",
     "metadata": {
      "slideshow": {
       "slide_type": "subslide"
      }
     },
     "outputs": [],
     "prompt_number": 67
    },
    {
     "cell_type": "code",
     "collapsed": false,
     "input": [
      "defaulted"
     ],
     "language": "python",
     "metadata": {
      "slideshow": {
       "slide_type": "fragment"
      }
     },
     "outputs": [
      {
       "html": [
        "<div style=\"max-height:1000px;max-width:1500px;overflow:auto;\">\n",
        "<table border=\"1\" class=\"dataframe\">\n",
        "  <thead>\n",
        "    <tr style=\"text-align: right;\">\n",
        "      <th></th>\n",
        "      <th>actividad</th>\n",
        "      <th>cantidad</th>\n",
        "      <th>estatus</th>\n",
        "      <th>pais</th>\n",
        "      <th>genero</th>\n",
        "    </tr>\n",
        "  </thead>\n",
        "  <tbody>\n",
        "    <tr>\n",
        "      <th>1546 </th>\n",
        "      <td>                  Retail</td>\n",
        "      <td>  975</td>\n",
        "      <td> defaulted</td>\n",
        "      <td> Dominican Republic</td>\n",
        "      <td> F</td>\n",
        "    </tr>\n",
        "    <tr>\n",
        "      <th>1607 </th>\n",
        "      <td>     Fruits &amp; Vegetables</td>\n",
        "      <td> 1425</td>\n",
        "      <td> defaulted</td>\n",
        "      <td> Dominican Republic</td>\n",
        "      <td> F</td>\n",
        "    </tr>\n",
        "    <tr>\n",
        "      <th>1612 </th>\n",
        "      <td>           Grocery Store</td>\n",
        "      <td> 1025</td>\n",
        "      <td> defaulted</td>\n",
        "      <td> Dominican Republic</td>\n",
        "      <td> F</td>\n",
        "    </tr>\n",
        "    <tr>\n",
        "      <th>1739 </th>\n",
        "      <td>             Agriculture</td>\n",
        "      <td>  750</td>\n",
        "      <td> defaulted</td>\n",
        "      <td>               Togo</td>\n",
        "      <td> M</td>\n",
        "    </tr>\n",
        "    <tr>\n",
        "      <th>1742 </th>\n",
        "      <td>               Carpentry</td>\n",
        "      <td>  750</td>\n",
        "      <td> defaulted</td>\n",
        "      <td>               Togo</td>\n",
        "      <td> M</td>\n",
        "    </tr>\n",
        "    <tr>\n",
        "      <th>1744 </th>\n",
        "      <td>             Food Market</td>\n",
        "      <td>  500</td>\n",
        "      <td> defaulted</td>\n",
        "      <td>               Togo</td>\n",
        "      <td> F</td>\n",
        "    </tr>\n",
        "    <tr>\n",
        "      <th>1746 </th>\n",
        "      <td>          Clothing Sales</td>\n",
        "      <td>  500</td>\n",
        "      <td> defaulted</td>\n",
        "      <td>               Togo</td>\n",
        "      <td> F</td>\n",
        "    </tr>\n",
        "    <tr>\n",
        "      <th>1773 </th>\n",
        "      <td>           Grocery Store</td>\n",
        "      <td> 1350</td>\n",
        "      <td> defaulted</td>\n",
        "      <td> Dominican Republic</td>\n",
        "      <td> F</td>\n",
        "    </tr>\n",
        "    <tr>\n",
        "      <th>1777 </th>\n",
        "      <td>     Fruits &amp; Vegetables</td>\n",
        "      <td> 1000</td>\n",
        "      <td> defaulted</td>\n",
        "      <td> Dominican Republic</td>\n",
        "      <td> F</td>\n",
        "    </tr>\n",
        "    <tr>\n",
        "      <th>3376 </th>\n",
        "      <td>                    Taxi</td>\n",
        "      <td> 1075</td>\n",
        "      <td> defaulted</td>\n",
        "      <td>               Peru</td>\n",
        "      <td> M</td>\n",
        "    </tr>\n",
        "    <tr>\n",
        "      <th>3501 </th>\n",
        "      <td>     Musical Instruments</td>\n",
        "      <td> 1000</td>\n",
        "      <td> defaulted</td>\n",
        "      <td>           Colombia</td>\n",
        "      <td> M</td>\n",
        "    </tr>\n",
        "    <tr>\n",
        "      <th>4294 </th>\n",
        "      <td>     Home Products Sales</td>\n",
        "      <td>  550</td>\n",
        "      <td> defaulted</td>\n",
        "      <td>               Peru</td>\n",
        "      <td> M</td>\n",
        "    </tr>\n",
        "    <tr>\n",
        "      <th>7430 </th>\n",
        "      <td>           Grocery Store</td>\n",
        "      <td> 1125</td>\n",
        "      <td> defaulted</td>\n",
        "      <td> Dominican Republic</td>\n",
        "      <td> F</td>\n",
        "    </tr>\n",
        "    <tr>\n",
        "      <th>7433 </th>\n",
        "      <td>   Food Production/Sales</td>\n",
        "      <td> 1100</td>\n",
        "      <td> defaulted</td>\n",
        "      <td> Dominican Republic</td>\n",
        "      <td> F</td>\n",
        "    </tr>\n",
        "    <tr>\n",
        "      <th>7438 </th>\n",
        "      <td>   Food Production/Sales</td>\n",
        "      <td> 1675</td>\n",
        "      <td> defaulted</td>\n",
        "      <td> Dominican Republic</td>\n",
        "      <td> F</td>\n",
        "    </tr>\n",
        "    <tr>\n",
        "      <th>7487 </th>\n",
        "      <td>          Clothing Sales</td>\n",
        "      <td> 1450</td>\n",
        "      <td> defaulted</td>\n",
        "      <td> Dominican Republic</td>\n",
        "      <td> F</td>\n",
        "    </tr>\n",
        "    <tr>\n",
        "      <th>7488 </th>\n",
        "      <td>          Clothing Sales</td>\n",
        "      <td> 1500</td>\n",
        "      <td> defaulted</td>\n",
        "      <td> Dominican Republic</td>\n",
        "      <td> F</td>\n",
        "    </tr>\n",
        "    <tr>\n",
        "      <th>8353 </th>\n",
        "      <td>   Food Production/Sales</td>\n",
        "      <td>  350</td>\n",
        "      <td> defaulted</td>\n",
        "      <td>        El Salvador</td>\n",
        "      <td> F</td>\n",
        "    </tr>\n",
        "    <tr>\n",
        "      <th>9030 </th>\n",
        "      <td>        Waste Management</td>\n",
        "      <td> 1150</td>\n",
        "      <td> defaulted</td>\n",
        "      <td>              Kenya</td>\n",
        "      <td> M</td>\n",
        "    </tr>\n",
        "    <tr>\n",
        "      <th>10028</th>\n",
        "      <td>     Fruits &amp; Vegetables</td>\n",
        "      <td> 1025</td>\n",
        "      <td> defaulted</td>\n",
        "      <td>           Colombia</td>\n",
        "      <td> F</td>\n",
        "    </tr>\n",
        "    <tr>\n",
        "      <th>10131</th>\n",
        "      <td>                  Sewing</td>\n",
        "      <td>  525</td>\n",
        "      <td> defaulted</td>\n",
        "      <td>           Colombia</td>\n",
        "      <td> F</td>\n",
        "    </tr>\n",
        "    <tr>\n",
        "      <th>11726</th>\n",
        "      <td> Personal Products Sales</td>\n",
        "      <td>  775</td>\n",
        "      <td> defaulted</td>\n",
        "      <td>           Colombia</td>\n",
        "      <td> F</td>\n",
        "    </tr>\n",
        "    <tr>\n",
        "      <th>11791</th>\n",
        "      <td>                  Dental</td>\n",
        "      <td>  375</td>\n",
        "      <td> defaulted</td>\n",
        "      <td>           Colombia</td>\n",
        "      <td> M</td>\n",
        "    </tr>\n",
        "    <tr>\n",
        "      <th>12328</th>\n",
        "      <td>                Services</td>\n",
        "      <td> 2750</td>\n",
        "      <td> defaulted</td>\n",
        "      <td>      United States</td>\n",
        "      <td> M</td>\n",
        "    </tr>\n",
        "    <tr>\n",
        "      <th>12554</th>\n",
        "      <td>                    Cafe</td>\n",
        "      <td> 1200</td>\n",
        "      <td> defaulted</td>\n",
        "      <td> Dominican Republic</td>\n",
        "      <td> F</td>\n",
        "    </tr>\n",
        "    <tr>\n",
        "      <th>12555</th>\n",
        "      <td>              Shoe Sales</td>\n",
        "      <td> 1175</td>\n",
        "      <td> defaulted</td>\n",
        "      <td> Dominican Republic</td>\n",
        "      <td> F</td>\n",
        "    </tr>\n",
        "    <tr>\n",
        "      <th>12565</th>\n",
        "      <td>   Food Production/Sales</td>\n",
        "      <td> 1475</td>\n",
        "      <td> defaulted</td>\n",
        "      <td> Dominican Republic</td>\n",
        "      <td> F</td>\n",
        "    </tr>\n",
        "    <tr>\n",
        "      <th>12636</th>\n",
        "      <td>            Construction</td>\n",
        "      <td>  825</td>\n",
        "      <td> defaulted</td>\n",
        "      <td>              Kenya</td>\n",
        "      <td> F</td>\n",
        "    </tr>\n",
        "    <tr>\n",
        "      <th>12642</th>\n",
        "      <td>               Computers</td>\n",
        "      <td>  700</td>\n",
        "      <td> defaulted</td>\n",
        "      <td>              Kenya</td>\n",
        "      <td> M</td>\n",
        "    </tr>\n",
        "    <tr>\n",
        "      <th>12646</th>\n",
        "      <td>                    Taxi</td>\n",
        "      <td>  950</td>\n",
        "      <td> defaulted</td>\n",
        "      <td>              Kenya</td>\n",
        "      <td> M</td>\n",
        "    </tr>\n",
        "    <tr>\n",
        "      <th>...</th>\n",
        "      <td>...</td>\n",
        "      <td>...</td>\n",
        "      <td>...</td>\n",
        "      <td>...</td>\n",
        "      <td>...</td>\n",
        "    </tr>\n",
        "    <tr>\n",
        "      <th>18318</th>\n",
        "      <td>               Bookstore</td>\n",
        "      <td>  250</td>\n",
        "      <td> defaulted</td>\n",
        "      <td>              Kenya</td>\n",
        "      <td> M</td>\n",
        "    </tr>\n",
        "    <tr>\n",
        "      <th>18356</th>\n",
        "      <td>           Used Clothing</td>\n",
        "      <td>  250</td>\n",
        "      <td> defaulted</td>\n",
        "      <td>              Kenya</td>\n",
        "      <td> F</td>\n",
        "    </tr>\n",
        "    <tr>\n",
        "      <th>18357</th>\n",
        "      <td>            Phone Repair</td>\n",
        "      <td>  300</td>\n",
        "      <td> defaulted</td>\n",
        "      <td>              Kenya</td>\n",
        "      <td> M</td>\n",
        "    </tr>\n",
        "    <tr>\n",
        "      <th>18358</th>\n",
        "      <td>                 Cobbler</td>\n",
        "      <td>  300</td>\n",
        "      <td> defaulted</td>\n",
        "      <td>              Kenya</td>\n",
        "      <td> M</td>\n",
        "    </tr>\n",
        "    <tr>\n",
        "      <th>18423</th>\n",
        "      <td>         Office Supplies</td>\n",
        "      <td> 1075</td>\n",
        "      <td> defaulted</td>\n",
        "      <td>            Ecuador</td>\n",
        "      <td> M</td>\n",
        "    </tr>\n",
        "    <tr>\n",
        "      <th>18438</th>\n",
        "      <td>                 Farming</td>\n",
        "      <td>  300</td>\n",
        "      <td> defaulted</td>\n",
        "      <td>              Kenya</td>\n",
        "      <td> F</td>\n",
        "    </tr>\n",
        "    <tr>\n",
        "      <th>18439</th>\n",
        "      <td>                 Farming</td>\n",
        "      <td> 1200</td>\n",
        "      <td> defaulted</td>\n",
        "      <td>              Kenya</td>\n",
        "      <td> F</td>\n",
        "    </tr>\n",
        "    <tr>\n",
        "      <th>18440</th>\n",
        "      <td>                 Farming</td>\n",
        "      <td>  100</td>\n",
        "      <td> defaulted</td>\n",
        "      <td>              Kenya</td>\n",
        "      <td> F</td>\n",
        "    </tr>\n",
        "    <tr>\n",
        "      <th>18441</th>\n",
        "      <td>                 Farming</td>\n",
        "      <td>   75</td>\n",
        "      <td> defaulted</td>\n",
        "      <td>              Kenya</td>\n",
        "      <td> F</td>\n",
        "    </tr>\n",
        "    <tr>\n",
        "      <th>18442</th>\n",
        "      <td>                 Farming</td>\n",
        "      <td>  100</td>\n",
        "      <td> defaulted</td>\n",
        "      <td>              Kenya</td>\n",
        "      <td> F</td>\n",
        "    </tr>\n",
        "    <tr>\n",
        "      <th>18443</th>\n",
        "      <td>                 Farming</td>\n",
        "      <td>  150</td>\n",
        "      <td> defaulted</td>\n",
        "      <td>              Kenya</td>\n",
        "      <td> F</td>\n",
        "    </tr>\n",
        "    <tr>\n",
        "      <th>18446</th>\n",
        "      <td>           General Store</td>\n",
        "      <td>  725</td>\n",
        "      <td> defaulted</td>\n",
        "      <td>              Kenya</td>\n",
        "      <td> F</td>\n",
        "    </tr>\n",
        "    <tr>\n",
        "      <th>18459</th>\n",
        "      <td>             Food Market</td>\n",
        "      <td>  150</td>\n",
        "      <td> defaulted</td>\n",
        "      <td>              Kenya</td>\n",
        "      <td> F</td>\n",
        "    </tr>\n",
        "    <tr>\n",
        "      <th>18460</th>\n",
        "      <td>                 Farming</td>\n",
        "      <td>  150</td>\n",
        "      <td> defaulted</td>\n",
        "      <td>              Kenya</td>\n",
        "      <td> F</td>\n",
        "    </tr>\n",
        "    <tr>\n",
        "      <th>18461</th>\n",
        "      <td>                 Farming</td>\n",
        "      <td>  150</td>\n",
        "      <td> defaulted</td>\n",
        "      <td>              Kenya</td>\n",
        "      <td> F</td>\n",
        "    </tr>\n",
        "    <tr>\n",
        "      <th>18462</th>\n",
        "      <td>                 Farming</td>\n",
        "      <td>  150</td>\n",
        "      <td> defaulted</td>\n",
        "      <td>              Kenya</td>\n",
        "      <td> F</td>\n",
        "    </tr>\n",
        "    <tr>\n",
        "      <th>18463</th>\n",
        "      <td>                 Farming</td>\n",
        "      <td>  150</td>\n",
        "      <td> defaulted</td>\n",
        "      <td>              Kenya</td>\n",
        "      <td> F</td>\n",
        "    </tr>\n",
        "    <tr>\n",
        "      <th>18464</th>\n",
        "      <td>                 Farming</td>\n",
        "      <td>  150</td>\n",
        "      <td> defaulted</td>\n",
        "      <td>              Kenya</td>\n",
        "      <td> F</td>\n",
        "    </tr>\n",
        "    <tr>\n",
        "      <th>18465</th>\n",
        "      <td>                 Farming</td>\n",
        "      <td>  150</td>\n",
        "      <td> defaulted</td>\n",
        "      <td>              Kenya</td>\n",
        "      <td> F</td>\n",
        "    </tr>\n",
        "    <tr>\n",
        "      <th>18466</th>\n",
        "      <td>                 Farming</td>\n",
        "      <td>  150</td>\n",
        "      <td> defaulted</td>\n",
        "      <td>              Kenya</td>\n",
        "      <td> F</td>\n",
        "    </tr>\n",
        "    <tr>\n",
        "      <th>18467</th>\n",
        "      <td>                 Farming</td>\n",
        "      <td>  150</td>\n",
        "      <td> defaulted</td>\n",
        "      <td>              Kenya</td>\n",
        "      <td> F</td>\n",
        "    </tr>\n",
        "    <tr>\n",
        "      <th>18468</th>\n",
        "      <td>                 Farming</td>\n",
        "      <td>  150</td>\n",
        "      <td> defaulted</td>\n",
        "      <td>              Kenya</td>\n",
        "      <td> F</td>\n",
        "    </tr>\n",
        "    <tr>\n",
        "      <th>18469</th>\n",
        "      <td>                 Farming</td>\n",
        "      <td>  150</td>\n",
        "      <td> defaulted</td>\n",
        "      <td>              Kenya</td>\n",
        "      <td> F</td>\n",
        "    </tr>\n",
        "    <tr>\n",
        "      <th>18470</th>\n",
        "      <td>            Beauty Salon</td>\n",
        "      <td>  225</td>\n",
        "      <td> defaulted</td>\n",
        "      <td>              Kenya</td>\n",
        "      <td> F</td>\n",
        "    </tr>\n",
        "    <tr>\n",
        "      <th>18471</th>\n",
        "      <td>                 Farming</td>\n",
        "      <td>  150</td>\n",
        "      <td> defaulted</td>\n",
        "      <td>              Kenya</td>\n",
        "      <td> F</td>\n",
        "    </tr>\n",
        "    <tr>\n",
        "      <th>18473</th>\n",
        "      <td>                 Farming</td>\n",
        "      <td>  150</td>\n",
        "      <td> defaulted</td>\n",
        "      <td>              Kenya</td>\n",
        "      <td> F</td>\n",
        "    </tr>\n",
        "    <tr>\n",
        "      <th>18474</th>\n",
        "      <td>   Food Production/Sales</td>\n",
        "      <td>   75</td>\n",
        "      <td> defaulted</td>\n",
        "      <td>              Kenya</td>\n",
        "      <td> F</td>\n",
        "    </tr>\n",
        "    <tr>\n",
        "      <th>18527</th>\n",
        "      <td>            Beauty Salon</td>\n",
        "      <td>  425</td>\n",
        "      <td> defaulted</td>\n",
        "      <td> Dominican Republic</td>\n",
        "      <td> F</td>\n",
        "    </tr>\n",
        "    <tr>\n",
        "      <th>18528</th>\n",
        "      <td>                Clothing</td>\n",
        "      <td>  425</td>\n",
        "      <td> defaulted</td>\n",
        "      <td> Dominican Republic</td>\n",
        "      <td> F</td>\n",
        "    </tr>\n",
        "    <tr>\n",
        "      <th>18530</th>\n",
        "      <td>                Clothing</td>\n",
        "      <td>  500</td>\n",
        "      <td> defaulted</td>\n",
        "      <td> Dominican Republic</td>\n",
        "      <td> F</td>\n",
        "    </tr>\n",
        "  </tbody>\n",
        "</table>\n",
        "<p>162 rows \u00d7 5 columns</p>\n",
        "</div>"
       ],
       "metadata": {},
       "output_type": "pyout",
       "prompt_number": 68,
       "text": [
        "                     actividad  cantidad    estatus                pais genero\n",
        "1546                    Retail       975  defaulted  Dominican Republic      F\n",
        "1607       Fruits & Vegetables      1425  defaulted  Dominican Republic      F\n",
        "1612             Grocery Store      1025  defaulted  Dominican Republic      F\n",
        "1739               Agriculture       750  defaulted                Togo      M\n",
        "1742                 Carpentry       750  defaulted                Togo      M\n",
        "1744               Food Market       500  defaulted                Togo      F\n",
        "1746            Clothing Sales       500  defaulted                Togo      F\n",
        "1773             Grocery Store      1350  defaulted  Dominican Republic      F\n",
        "1777       Fruits & Vegetables      1000  defaulted  Dominican Republic      F\n",
        "3376                      Taxi      1075  defaulted                Peru      M\n",
        "3501       Musical Instruments      1000  defaulted            Colombia      M\n",
        "4294       Home Products Sales       550  defaulted                Peru      M\n",
        "7430             Grocery Store      1125  defaulted  Dominican Republic      F\n",
        "7433     Food Production/Sales      1100  defaulted  Dominican Republic      F\n",
        "7438     Food Production/Sales      1675  defaulted  Dominican Republic      F\n",
        "7487            Clothing Sales      1450  defaulted  Dominican Republic      F\n",
        "7488            Clothing Sales      1500  defaulted  Dominican Republic      F\n",
        "8353     Food Production/Sales       350  defaulted         El Salvador      F\n",
        "9030          Waste Management      1150  defaulted               Kenya      M\n",
        "10028      Fruits & Vegetables      1025  defaulted            Colombia      F\n",
        "10131                   Sewing       525  defaulted            Colombia      F\n",
        "11726  Personal Products Sales       775  defaulted            Colombia      F\n",
        "11791                   Dental       375  defaulted            Colombia      M\n",
        "12328                 Services      2750  defaulted       United States      M\n",
        "12554                     Cafe      1200  defaulted  Dominican Republic      F\n",
        "12555               Shoe Sales      1175  defaulted  Dominican Republic      F\n",
        "12565    Food Production/Sales      1475  defaulted  Dominican Republic      F\n",
        "12636             Construction       825  defaulted               Kenya      F\n",
        "12642                Computers       700  defaulted               Kenya      M\n",
        "12646                     Taxi       950  defaulted               Kenya      M\n",
        "...                        ...       ...        ...                 ...    ...\n",
        "18318                Bookstore       250  defaulted               Kenya      M\n",
        "18356            Used Clothing       250  defaulted               Kenya      F\n",
        "18357             Phone Repair       300  defaulted               Kenya      M\n",
        "18358                  Cobbler       300  defaulted               Kenya      M\n",
        "18423          Office Supplies      1075  defaulted             Ecuador      M\n",
        "18438                  Farming       300  defaulted               Kenya      F\n",
        "18439                  Farming      1200  defaulted               Kenya      F\n",
        "18440                  Farming       100  defaulted               Kenya      F\n",
        "18441                  Farming        75  defaulted               Kenya      F\n",
        "18442                  Farming       100  defaulted               Kenya      F\n",
        "18443                  Farming       150  defaulted               Kenya      F\n",
        "18446            General Store       725  defaulted               Kenya      F\n",
        "18459              Food Market       150  defaulted               Kenya      F\n",
        "18460                  Farming       150  defaulted               Kenya      F\n",
        "18461                  Farming       150  defaulted               Kenya      F\n",
        "18462                  Farming       150  defaulted               Kenya      F\n",
        "18463                  Farming       150  defaulted               Kenya      F\n",
        "18464                  Farming       150  defaulted               Kenya      F\n",
        "18465                  Farming       150  defaulted               Kenya      F\n",
        "18466                  Farming       150  defaulted               Kenya      F\n",
        "18467                  Farming       150  defaulted               Kenya      F\n",
        "18468                  Farming       150  defaulted               Kenya      F\n",
        "18469                  Farming       150  defaulted               Kenya      F\n",
        "18470             Beauty Salon       225  defaulted               Kenya      F\n",
        "18471                  Farming       150  defaulted               Kenya      F\n",
        "18473                  Farming       150  defaulted               Kenya      F\n",
        "18474    Food Production/Sales        75  defaulted               Kenya      F\n",
        "18527             Beauty Salon       425  defaulted  Dominican Republic      F\n",
        "18528                 Clothing       425  defaulted  Dominican Republic      F\n",
        "18530                 Clothing       500  defaulted  Dominican Republic      F\n",
        "\n",
        "[162 rows x 5 columns]"
       ]
      }
     ],
     "prompt_number": 68
    },
    {
     "cell_type": "markdown",
     "metadata": {
      "slideshow": {
       "slide_type": "subslide"
      }
     },
     "source": [
      "We save the countries with defaulted loans into a dictionary (Counter)."
     ]
    },
    {
     "cell_type": "code",
     "collapsed": false,
     "input": [
      "dict_impagos = collections.Counter(defaulted[\"pais\"]) \n",
      "dict_impagos"
     ],
     "language": "python",
     "metadata": {
      "slideshow": {
       "slide_type": "fragment"
      }
     },
     "outputs": [
      {
       "metadata": {},
       "output_type": "pyout",
       "prompt_number": 69,
       "text": [
        "Counter({'Kenya': 118, 'Dominican Republic': 25, 'Colombia': 5, 'Togo': 4, 'Mexico': 3, 'Peru': 2, 'United States': 2, 'El Salvador': 1, 'Zimbabwe': 1, 'Ecuador': 1})"
       ]
      }
     ],
     "prompt_number": 69
    },
    {
     "cell_type": "markdown",
     "metadata": {
      "slideshow": {
       "slide_type": "fragment"
      }
     },
     "source": [
      "And the general count of countries into another dictionary (Counter)."
     ]
    },
    {
     "cell_type": "code",
     "collapsed": false,
     "input": [
      "dict_paises = collections.Counter(df[\"pais\"])\n",
      "dict_paises"
     ],
     "language": "python",
     "metadata": {
      "slideshow": {
       "slide_type": "fragment"
      }
     },
     "outputs": [
      {
       "metadata": {},
       "output_type": "pyout",
       "prompt_number": 70,
       "text": [
        "Counter({'Philippines': 3621, 'Kenya': 1714, 'El Salvador': 1217, 'Peru': 1007, 'Cambodia': 979, 'Pakistan': 875, 'Uganda': 730, 'Nicaragua': 697, 'Tajikistan': 683, 'Colombia': 455, 'Liberia': 418, 'Vietnam': 373, 'Sierra Leone': 372, 'Mali': 371, 'Zimbabwe': 351, 'Ecuador': 345, 'India': 344, 'Indonesia': 343, 'Honduras': 339, 'Samoa': 311, 'Paraguay': 300, 'Armenia': 270, 'Bolivia': 269, 'Tanzania': 242, 'Ghana': 232, 'Kyrgyzstan': 200, 'Senegal': 190, 'Azerbaijan': 188, 'Palestine': 186, 'Guatemala': 183, 'Mexico': 168, 'Togo': 166, 'Jordan': 142, 'Yemen': 137, 'Iraq': 124, 'Nigeria': 118, 'Lebanon': 110, 'The Democratic Republic of the Congo': 103, 'Albania': 98, 'Mozambique': 93, 'Dominican Republic': 79, 'Cameroon': 74, 'Mongolia': 69, 'Benin': 66, 'Ukraine': 66, 'Rwanda': 65, 'Kosovo': 65, 'Burundi': 62, 'Georgia': 53, 'Costa Rica': 44, 'Bosnia and Herzegovina': 38, 'United States': 34, 'Nepal': 27, 'Turkey': 25, 'Burkina Faso': 24, 'Zambia': 24, 'Timor-Leste': 23, 'Belize': 18, 'Suriname': 17, 'Haiti': 13, 'Bulgaria': 11, 'Congo': 11, 'Afghanistan': 8, 'Israel': 6, 'Thailand': 6, 'Moldova': 4, 'Brazil': 2, 'Mauritania': 1, 'Panama': 1})"
       ]
      }
     ],
     "prompt_number": 70
    },
    {
     "cell_type": "markdown",
     "metadata": {
      "slideshow": {
       "slide_type": "subslide"
      }
     },
     "source": [
      "With a loop we will make the calculation: defaulted loans over total loans in that country"
     ]
    },
    {
     "cell_type": "code",
     "collapsed": false,
     "input": [
      "for i in dict_paises.keys():\n",
      "    if i in dict_impagos.keys():\n",
      "        impago = float(dict_impagos[i])\n",
      "        total = float(dict_paises[i])\n",
      "        porcentaje = (impago/total)*100\n",
      "        print i , round(porcentaje, 2), \"%\""
     ],
     "language": "python",
     "metadata": {
      "slideshow": {
       "slide_type": "fragment"
      }
     },
     "outputs": [
      {
       "output_type": "stream",
       "stream": "stdout",
       "text": [
        "Peru 0.2 %\n",
        "Ecuador 0.29 %\n",
        "El Salvador 0.08 %\n",
        "Togo 2.41 %\n",
        "Zimbabwe 0.28 %\n",
        "Dominican Republic 31.65 %\n",
        "Colombia 1.1 %\n",
        "United States 5.88 %\n",
        "Mexico 1.79 %\n",
        "Kenya 6.88 %\n"
       ]
      }
     ],
     "prompt_number": 71
    },
    {
     "cell_type": "markdown",
     "metadata": {
      "slideshow": {
       "slide_type": "fragment"
      }
     },
     "source": [
      "Dominican Republic is a clear outlier!"
     ]
    },
    {
     "cell_type": "markdown",
     "metadata": {
      "slideshow": {
       "slide_type": "slide"
      }
     },
     "source": [
      "##3. Basic Twitter"
     ]
    },
    {
     "cell_type": "markdown",
     "metadata": {
      "slideshow": {
       "slide_type": "fragment"
      }
     },
     "source": [
      "We are going to use Python to access the Twitter API. You will need a Twitter Account and register an app at Twitter website: [https://apps.twitter.com/](https://apps.twitter.com/). With Python we will read and save our timeline and we will search a keyword and save the results. "
     ]
    },
    {
     "cell_type": "markdown",
     "metadata": {
      "slideshow": {
       "slide_type": "fragment"
      }
     },
     "source": [
      "We have to follow this simple steps:  \n",
      "    \n",
      "* Go to apps.twitter.com\n",
      "* Log in (you need to have a twitter account)\n",
      "* Create a new app\n",
      "* Get consumer key and consumer secret\n",
      "* Get access token and access token secret\n",
      "\n",
      "Search will be rate limited at 180 queries per 15 minute window for the time \n",
      "being, but we may adjust that over time. "
     ]
    },
    {
     "cell_type": "markdown",
     "metadata": {
      "slideshow": {
       "slide_type": "subslide"
      }
     },
     "source": [
      "###3.1 Read our timeline and save results in a dataframe"
     ]
    },
    {
     "cell_type": "code",
     "collapsed": false,
     "input": [
      "import shelve"
     ],
     "language": "python",
     "metadata": {
      "slideshow": {
       "slide_type": "skip"
      }
     },
     "outputs": [],
     "prompt_number": 72
    },
    {
     "cell_type": "code",
     "collapsed": false,
     "input": [
      "s = shelve.open('twitter_keys.db', flag='r')"
     ],
     "language": "python",
     "metadata": {
      "slideshow": {
       "slide_type": "skip"
      }
     },
     "outputs": [],
     "prompt_number": 73
    },
    {
     "cell_type": "markdown",
     "metadata": {
      "slideshow": {
       "slide_type": "fragment"
      }
     },
     "source": [
      "Import all necessary Python modules:"
     ]
    },
    {
     "cell_type": "code",
     "collapsed": false,
     "input": [
      "import tweepy\n",
      "import json\n",
      "import pandas as pd\n",
      "import csv"
     ],
     "language": "python",
     "metadata": {
      "slideshow": {
       "slide_type": "fragment"
      }
     },
     "outputs": [],
     "prompt_number": 75
    },
    {
     "cell_type": "markdown",
     "metadata": {
      "slideshow": {
       "slide_type": "fragment"
      }
     },
     "source": [
      "Asign following variables with keys values obtained after your registration in twitter as developers. "
     ]
    },
    {
     "cell_type": "code",
     "collapsed": false,
     "input": [
      "consumer_key = s['Consumer_Key'] #<= your Consumer Key\n",
      "consumer_secret = s['Consumer_Secret'] #<= your Consumer Secret\n",
      "access_token = s['Access_Token'] #<= your Access Token\n",
      "access_token_secret = s['Access_Token_secret'] #<= your Access Token Secret"
     ],
     "language": "python",
     "metadata": {
      "slideshow": {
       "slide_type": "fragment"
      }
     },
     "outputs": [],
     "prompt_number": 76
    },
    {
     "cell_type": "code",
     "collapsed": false,
     "input": [
      "auth = tweepy.OAuthHandler(consumer_key, consumer_secret)\n",
      "auth.set_access_token(access_token, access_token_secret)"
     ],
     "language": "python",
     "metadata": {
      "slideshow": {
       "slide_type": "fragment"
      }
     },
     "outputs": [],
     "prompt_number": 77
    },
    {
     "cell_type": "code",
     "collapsed": false,
     "input": [
      "api = tweepy.API(auth)"
     ],
     "language": "python",
     "metadata": {
      "slideshow": {
       "slide_type": "fragment"
      }
     },
     "outputs": [],
     "prompt_number": 78
    },
    {
     "cell_type": "markdown",
     "metadata": {
      "slideshow": {
       "slide_type": "subslide"
      }
     },
     "source": [
      "Geting last 10 tweets in your timeline."
     ]
    },
    {
     "cell_type": "code",
     "collapsed": false,
     "input": [
      "timeline = api.home_timeline(count = 10)"
     ],
     "language": "python",
     "metadata": {
      "slideshow": {
       "slide_type": "fragment"
      }
     },
     "outputs": [],
     "prompt_number": 79
    },
    {
     "cell_type": "code",
     "collapsed": false,
     "input": [
      "usuarios = []\n",
      "screen_name = []\n",
      "texto = []\n",
      "retweet_count = []"
     ],
     "language": "python",
     "metadata": {
      "slideshow": {
       "slide_type": "fragment"
      }
     },
     "outputs": [],
     "prompt_number": 80
    },
    {
     "cell_type": "code",
     "collapsed": false,
     "input": [
      "for i in range(len(timeline)):\n",
      "    usuarios.append(timeline[i].user.name)\n",
      "    screen_name.append(timeline[i].user.screen_name)\n",
      "    texto.append(timeline[i].text)\n",
      "    retweet_count.append(timeline[i].retweet_count)"
     ],
     "language": "python",
     "metadata": {
      "slideshow": {
       "slide_type": "fragment"
      }
     },
     "outputs": [],
     "prompt_number": 81
    },
    {
     "cell_type": "markdown",
     "metadata": {
      "slideshow": {
       "slide_type": "subslide"
      }
     },
     "source": [
      "With this information we create a DataFrame.  \n",
      "We have work with this data strutures in previous exercices."
     ]
    },
    {
     "cell_type": "code",
     "collapsed": false,
     "input": [
      "df = pd.DataFrame(usuarios)\n",
      "df[\"user\"] = usuarios\n",
      "df[\"screen_name\"] = screen_name\n",
      "df[\"rt\"] = retweet_count\n",
      "df[\"text\"] = texto \n",
      "del df[0]"
     ],
     "language": "python",
     "metadata": {
      "slideshow": {
       "slide_type": "fragment"
      }
     },
     "outputs": [],
     "prompt_number": 82
    },
    {
     "cell_type": "code",
     "collapsed": false,
     "input": [
      "df"
     ],
     "language": "python",
     "metadata": {
      "slideshow": {
       "slide_type": "fragment"
      }
     },
     "outputs": [
      {
       "html": [
        "<div style=\"max-height:1000px;max-width:1500px;overflow:auto;\">\n",
        "<table border=\"1\" class=\"dataframe\">\n",
        "  <thead>\n",
        "    <tr style=\"text-align: right;\">\n",
        "      <th></th>\n",
        "      <th>user</th>\n",
        "      <th>screen_name</th>\n",
        "      <th>rt</th>\n",
        "      <th>text</th>\n",
        "    </tr>\n",
        "  </thead>\n",
        "  <tbody>\n",
        "    <tr>\n",
        "      <th>0</th>\n",
        "      <td>       devscopia</td>\n",
        "      <td>       devscopia</td>\n",
        "      <td>   0</td>\n",
        "      <td>    WordPress JSON REST API http://t.co/4G2YNTQJSH</td>\n",
        "    </tr>\n",
        "    <tr>\n",
        "      <th>1</th>\n",
        "      <td>       TED Talks</td>\n",
        "      <td>        TEDTalks</td>\n",
        "      <td>  81</td>\n",
        "      <td> 10 research tips for finding answers online: h...</td>\n",
        "    </tr>\n",
        "    <tr>\n",
        "      <th>2</th>\n",
        "      <td>       TED Talks</td>\n",
        "      <td>        TEDTalks</td>\n",
        "      <td>  78</td>\n",
        "      <td> The first 6 #TEDTalks ever posted online: http...</td>\n",
        "    </tr>\n",
        "    <tr>\n",
        "      <th>3</th>\n",
        "      <td>    GeekGirlCamp</td>\n",
        "      <td>    GeekGirlCamp</td>\n",
        "      <td>   0</td>\n",
        "      <td> Why should you be at #GeekGirlTechCon #Boston ...</td>\n",
        "    </tr>\n",
        "    <tr>\n",
        "      <th>4</th>\n",
        "      <td> GeekGirlTechCon</td>\n",
        "      <td> GeekGirlTechCon</td>\n",
        "      <td>   0</td>\n",
        "      <td> Why should you be at #GeekGirlTechCon #Boston ...</td>\n",
        "    </tr>\n",
        "    <tr>\n",
        "      <th>5</th>\n",
        "      <td>       TED Talks</td>\n",
        "      <td>        TEDTalks</td>\n",
        "      <td> 124</td>\n",
        "      <td> 3 rules to spark learning and get kids excited...</td>\n",
        "    </tr>\n",
        "    <tr>\n",
        "      <th>6</th>\n",
        "      <td> Pyladies London</td>\n",
        "      <td>  PyLadiesLondon</td>\n",
        "      <td>   5</td>\n",
        "      <td> RT @trans_code: Yes, #trans_code co-founder @N...</td>\n",
        "    </tr>\n",
        "    <tr>\n",
        "      <th>7</th>\n",
        "      <td> Pyladies London</td>\n",
        "      <td>  PyLadiesLondon</td>\n",
        "      <td>  16</td>\n",
        "      <td> RT @wonderchook: Apply by Mar 24 Free &amp;amp; Op...</td>\n",
        "    </tr>\n",
        "    <tr>\n",
        "      <th>8</th>\n",
        "      <td> Pyladies London</td>\n",
        "      <td>  PyLadiesLondon</td>\n",
        "      <td>  14</td>\n",
        "      <td> RT @oluoluoxenfree: Free tickets for @trans_co...</td>\n",
        "    </tr>\n",
        "    <tr>\n",
        "      <th>9</th>\n",
        "      <td> Pyladies London</td>\n",
        "      <td>  PyLadiesLondon</td>\n",
        "      <td>  32</td>\n",
        "      <td> RT @brianloveswords: Do you identify as part o...</td>\n",
        "    </tr>\n",
        "  </tbody>\n",
        "</table>\n",
        "</div>"
       ],
       "metadata": {},
       "output_type": "pyout",
       "prompt_number": 83,
       "text": [
        "              user      screen_name   rt  \\\n",
        "0        devscopia        devscopia    0   \n",
        "1        TED Talks         TEDTalks   81   \n",
        "2        TED Talks         TEDTalks   78   \n",
        "3     GeekGirlCamp     GeekGirlCamp    0   \n",
        "4  GeekGirlTechCon  GeekGirlTechCon    0   \n",
        "5        TED Talks         TEDTalks  124   \n",
        "6  Pyladies London   PyLadiesLondon    5   \n",
        "7  Pyladies London   PyLadiesLondon   16   \n",
        "8  Pyladies London   PyLadiesLondon   14   \n",
        "9  Pyladies London   PyLadiesLondon   32   \n",
        "\n",
        "                                                text  \n",
        "0     WordPress JSON REST API http://t.co/4G2YNTQJSH  \n",
        "1  10 research tips for finding answers online: h...  \n",
        "2  The first 6 #TEDTalks ever posted online: http...  \n",
        "3  Why should you be at #GeekGirlTechCon #Boston ...  \n",
        "4  Why should you be at #GeekGirlTechCon #Boston ...  \n",
        "5  3 rules to spark learning and get kids excited...  \n",
        "6  RT @trans_code: Yes, #trans_code co-founder @N...  \n",
        "7  RT @wonderchook: Apply by Mar 24 Free &amp; Op...  \n",
        "8  RT @oluoluoxenfree: Free tickets for @trans_co...  \n",
        "9  RT @brianloveswords: Do you identify as part o...  "
       ]
      }
     ],
     "prompt_number": 83
    },
    {
     "cell_type": "markdown",
     "metadata": {
      "slideshow": {
       "slide_type": "fragment"
      }
     },
     "source": [
      "**TODO** AQUEST NO EM FUNCIONA!!!"
     ]
    },
    {
     "cell_type": "code",
     "collapsed": false,
     "input": [
      "df1 = df.sort(df[\"rt\"], ascending=False)"
     ],
     "language": "python",
     "metadata": {
      "slideshow": {
       "slide_type": "fragment"
      }
     },
     "outputs": [
      {
       "ename": "IndexError",
       "evalue": "indices are out-of-bounds",
       "output_type": "pyerr",
       "traceback": [
        "\u001b[1;31m---------------------------------------------------------------------------\u001b[0m\n\u001b[1;31mIndexError\u001b[0m                                Traceback (most recent call last)",
        "\u001b[1;32m<ipython-input-85-85b5d82e1ba0>\u001b[0m in \u001b[0;36m<module>\u001b[1;34m()\u001b[0m\n\u001b[1;32m----> 1\u001b[1;33m \u001b[0mdf1\u001b[0m \u001b[1;33m=\u001b[0m \u001b[0mdf\u001b[0m\u001b[1;33m.\u001b[0m\u001b[0msort\u001b[0m\u001b[1;33m(\u001b[0m\u001b[0mdf\u001b[0m\u001b[1;33m[\u001b[0m\u001b[1;34m\"rt\"\u001b[0m\u001b[1;33m]\u001b[0m\u001b[1;33m,\u001b[0m \u001b[0mascending\u001b[0m\u001b[1;33m=\u001b[0m\u001b[0mFalse\u001b[0m\u001b[1;33m)\u001b[0m\u001b[1;33m\u001b[0m\u001b[0m\n\u001b[0m",
        "\u001b[1;32m/usr/local/lib/python2.7/dist-packages/pandas/core/frame.pyc\u001b[0m in \u001b[0;36msort\u001b[1;34m(self, columns, axis, ascending, inplace, kind, na_position)\u001b[0m\n\u001b[0;32m   2796\u001b[0m         \"\"\"\n\u001b[0;32m   2797\u001b[0m         return self.sort_index(by=columns, axis=axis, ascending=ascending,\n\u001b[1;32m-> 2798\u001b[1;33m                                inplace=inplace, kind=kind, na_position=na_position)\n\u001b[0m\u001b[0;32m   2799\u001b[0m \u001b[1;33m\u001b[0m\u001b[0m\n\u001b[0;32m   2800\u001b[0m     def sort_index(self, axis=0, by=None, ascending=True, inplace=False,\n",
        "\u001b[1;32m/usr/local/lib/python2.7/dist-packages/pandas/core/frame.pyc\u001b[0m in \u001b[0;36msort_index\u001b[1;34m(self, axis, by, ascending, inplace, kind, na_position)\u001b[0m\n\u001b[0;32m   2864\u001b[0m             \u001b[1;32melse\u001b[0m\u001b[1;33m:\u001b[0m\u001b[1;33m\u001b[0m\u001b[0m\n\u001b[0;32m   2865\u001b[0m                 \u001b[0mby\u001b[0m \u001b[1;33m=\u001b[0m \u001b[0mby\u001b[0m\u001b[1;33m[\u001b[0m\u001b[1;36m0\u001b[0m\u001b[1;33m]\u001b[0m\u001b[1;33m\u001b[0m\u001b[0m\n\u001b[1;32m-> 2866\u001b[1;33m                 \u001b[0mk\u001b[0m \u001b[1;33m=\u001b[0m \u001b[0mself\u001b[0m\u001b[1;33m[\u001b[0m\u001b[0mby\u001b[0m\u001b[1;33m]\u001b[0m\u001b[1;33m.\u001b[0m\u001b[0mvalues\u001b[0m\u001b[1;33m\u001b[0m\u001b[0m\n\u001b[0m\u001b[0;32m   2867\u001b[0m                 \u001b[1;32mif\u001b[0m \u001b[0mk\u001b[0m\u001b[1;33m.\u001b[0m\u001b[0mndim\u001b[0m \u001b[1;33m==\u001b[0m \u001b[1;36m2\u001b[0m\u001b[1;33m:\u001b[0m\u001b[1;33m\u001b[0m\u001b[0m\n\u001b[0;32m   2868\u001b[0m \u001b[1;33m\u001b[0m\u001b[0m\n",
        "\u001b[1;32m/usr/local/lib/python2.7/dist-packages/pandas/core/frame.pyc\u001b[0m in \u001b[0;36m__getitem__\u001b[1;34m(self, key)\u001b[0m\n\u001b[0;32m   1772\u001b[0m         \u001b[1;32mif\u001b[0m \u001b[0misinstance\u001b[0m\u001b[1;33m(\u001b[0m\u001b[0mkey\u001b[0m\u001b[1;33m,\u001b[0m \u001b[1;33m(\u001b[0m\u001b[0mSeries\u001b[0m\u001b[1;33m,\u001b[0m \u001b[0mnp\u001b[0m\u001b[1;33m.\u001b[0m\u001b[0mndarray\u001b[0m\u001b[1;33m,\u001b[0m \u001b[0mIndex\u001b[0m\u001b[1;33m,\u001b[0m \u001b[0mlist\u001b[0m\u001b[1;33m)\u001b[0m\u001b[1;33m)\u001b[0m\u001b[1;33m:\u001b[0m\u001b[1;33m\u001b[0m\u001b[0m\n\u001b[0;32m   1773\u001b[0m             \u001b[1;31m# either boolean or fancy integer index\u001b[0m\u001b[1;33m\u001b[0m\u001b[1;33m\u001b[0m\u001b[0m\n\u001b[1;32m-> 1774\u001b[1;33m             \u001b[1;32mreturn\u001b[0m \u001b[0mself\u001b[0m\u001b[1;33m.\u001b[0m\u001b[0m_getitem_array\u001b[0m\u001b[1;33m(\u001b[0m\u001b[0mkey\u001b[0m\u001b[1;33m)\u001b[0m\u001b[1;33m\u001b[0m\u001b[0m\n\u001b[0m\u001b[0;32m   1775\u001b[0m         \u001b[1;32melif\u001b[0m \u001b[0misinstance\u001b[0m\u001b[1;33m(\u001b[0m\u001b[0mkey\u001b[0m\u001b[1;33m,\u001b[0m \u001b[0mDataFrame\u001b[0m\u001b[1;33m)\u001b[0m\u001b[1;33m:\u001b[0m\u001b[1;33m\u001b[0m\u001b[0m\n\u001b[0;32m   1776\u001b[0m             \u001b[1;32mreturn\u001b[0m \u001b[0mself\u001b[0m\u001b[1;33m.\u001b[0m\u001b[0m_getitem_frame\u001b[0m\u001b[1;33m(\u001b[0m\u001b[0mkey\u001b[0m\u001b[1;33m)\u001b[0m\u001b[1;33m\u001b[0m\u001b[0m\n",
        "\u001b[1;32m/usr/local/lib/python2.7/dist-packages/pandas/core/frame.pyc\u001b[0m in \u001b[0;36m_getitem_array\u001b[1;34m(self, key)\u001b[0m\n\u001b[0;32m   1817\u001b[0m         \u001b[1;32melse\u001b[0m\u001b[1;33m:\u001b[0m\u001b[1;33m\u001b[0m\u001b[0m\n\u001b[0;32m   1818\u001b[0m             \u001b[0mindexer\u001b[0m \u001b[1;33m=\u001b[0m \u001b[0mself\u001b[0m\u001b[1;33m.\u001b[0m\u001b[0mix\u001b[0m\u001b[1;33m.\u001b[0m\u001b[0m_convert_to_indexer\u001b[0m\u001b[1;33m(\u001b[0m\u001b[0mkey\u001b[0m\u001b[1;33m,\u001b[0m \u001b[0maxis\u001b[0m\u001b[1;33m=\u001b[0m\u001b[1;36m1\u001b[0m\u001b[1;33m)\u001b[0m\u001b[1;33m\u001b[0m\u001b[0m\n\u001b[1;32m-> 1819\u001b[1;33m             \u001b[1;32mreturn\u001b[0m \u001b[0mself\u001b[0m\u001b[1;33m.\u001b[0m\u001b[0mtake\u001b[0m\u001b[1;33m(\u001b[0m\u001b[0mindexer\u001b[0m\u001b[1;33m,\u001b[0m \u001b[0maxis\u001b[0m\u001b[1;33m=\u001b[0m\u001b[1;36m1\u001b[0m\u001b[1;33m,\u001b[0m \u001b[0mconvert\u001b[0m\u001b[1;33m=\u001b[0m\u001b[0mTrue\u001b[0m\u001b[1;33m)\u001b[0m\u001b[1;33m\u001b[0m\u001b[0m\n\u001b[0m\u001b[0;32m   1820\u001b[0m \u001b[1;33m\u001b[0m\u001b[0m\n\u001b[0;32m   1821\u001b[0m     \u001b[1;32mdef\u001b[0m \u001b[0m_getitem_multilevel\u001b[0m\u001b[1;33m(\u001b[0m\u001b[0mself\u001b[0m\u001b[1;33m,\u001b[0m \u001b[0mkey\u001b[0m\u001b[1;33m)\u001b[0m\u001b[1;33m:\u001b[0m\u001b[1;33m\u001b[0m\u001b[0m\n",
        "\u001b[1;32m/usr/local/lib/python2.7/dist-packages/pandas/core/generic.pyc\u001b[0m in \u001b[0;36mtake\u001b[1;34m(self, indices, axis, convert, is_copy)\u001b[0m\n\u001b[0;32m   1330\u001b[0m         new_data = self._data.take(indices,\n\u001b[0;32m   1331\u001b[0m                                    \u001b[0maxis\u001b[0m\u001b[1;33m=\u001b[0m\u001b[0mself\u001b[0m\u001b[1;33m.\u001b[0m\u001b[0m_get_block_manager_axis\u001b[0m\u001b[1;33m(\u001b[0m\u001b[0maxis\u001b[0m\u001b[1;33m)\u001b[0m\u001b[1;33m,\u001b[0m\u001b[1;33m\u001b[0m\u001b[0m\n\u001b[1;32m-> 1332\u001b[1;33m                                    convert=True, verify=True)\n\u001b[0m\u001b[0;32m   1333\u001b[0m         \u001b[0mresult\u001b[0m \u001b[1;33m=\u001b[0m \u001b[0mself\u001b[0m\u001b[1;33m.\u001b[0m\u001b[0m_constructor\u001b[0m\u001b[1;33m(\u001b[0m\u001b[0mnew_data\u001b[0m\u001b[1;33m)\u001b[0m\u001b[1;33m.\u001b[0m\u001b[0m__finalize__\u001b[0m\u001b[1;33m(\u001b[0m\u001b[0mself\u001b[0m\u001b[1;33m)\u001b[0m\u001b[1;33m\u001b[0m\u001b[0m\n\u001b[0;32m   1334\u001b[0m \u001b[1;33m\u001b[0m\u001b[0m\n",
        "\u001b[1;32m/usr/local/lib/python2.7/dist-packages/pandas/core/internals.pyc\u001b[0m in \u001b[0;36mtake\u001b[1;34m(self, indexer, axis, verify, convert)\u001b[0m\n\u001b[0;32m   3264\u001b[0m         \u001b[0mn\u001b[0m \u001b[1;33m=\u001b[0m \u001b[0mself\u001b[0m\u001b[1;33m.\u001b[0m\u001b[0mshape\u001b[0m\u001b[1;33m[\u001b[0m\u001b[0maxis\u001b[0m\u001b[1;33m]\u001b[0m\u001b[1;33m\u001b[0m\u001b[0m\n\u001b[0;32m   3265\u001b[0m         \u001b[1;32mif\u001b[0m \u001b[0mconvert\u001b[0m\u001b[1;33m:\u001b[0m\u001b[1;33m\u001b[0m\u001b[0m\n\u001b[1;32m-> 3266\u001b[1;33m             \u001b[0mindexer\u001b[0m \u001b[1;33m=\u001b[0m \u001b[0m_maybe_convert_indices\u001b[0m\u001b[1;33m(\u001b[0m\u001b[0mindexer\u001b[0m\u001b[1;33m,\u001b[0m \u001b[0mn\u001b[0m\u001b[1;33m)\u001b[0m\u001b[1;33m\u001b[0m\u001b[0m\n\u001b[0m\u001b[0;32m   3267\u001b[0m \u001b[1;33m\u001b[0m\u001b[0m\n\u001b[0;32m   3268\u001b[0m         \u001b[1;32mif\u001b[0m \u001b[0mverify\u001b[0m\u001b[1;33m:\u001b[0m\u001b[1;33m\u001b[0m\u001b[0m\n",
        "\u001b[1;32m/usr/local/lib/python2.7/dist-packages/pandas/core/indexing.pyc\u001b[0m in \u001b[0;36m_maybe_convert_indices\u001b[1;34m(indices, n)\u001b[0m\n\u001b[0;32m   1702\u001b[0m     \u001b[0mmask\u001b[0m \u001b[1;33m=\u001b[0m \u001b[1;33m(\u001b[0m\u001b[0mindices\u001b[0m \u001b[1;33m>=\u001b[0m \u001b[0mn\u001b[0m\u001b[1;33m)\u001b[0m \u001b[1;33m|\u001b[0m \u001b[1;33m(\u001b[0m\u001b[0mindices\u001b[0m \u001b[1;33m<\u001b[0m \u001b[1;36m0\u001b[0m\u001b[1;33m)\u001b[0m\u001b[1;33m\u001b[0m\u001b[0m\n\u001b[0;32m   1703\u001b[0m     \u001b[1;32mif\u001b[0m \u001b[0mmask\u001b[0m\u001b[1;33m.\u001b[0m\u001b[0many\u001b[0m\u001b[1;33m(\u001b[0m\u001b[1;33m)\u001b[0m\u001b[1;33m:\u001b[0m\u001b[1;33m\u001b[0m\u001b[0m\n\u001b[1;32m-> 1704\u001b[1;33m         \u001b[1;32mraise\u001b[0m \u001b[0mIndexError\u001b[0m\u001b[1;33m(\u001b[0m\u001b[1;34m\"indices are out-of-bounds\"\u001b[0m\u001b[1;33m)\u001b[0m\u001b[1;33m\u001b[0m\u001b[0m\n\u001b[0m\u001b[0;32m   1705\u001b[0m     \u001b[1;32mreturn\u001b[0m \u001b[0mindices\u001b[0m\u001b[1;33m\u001b[0m\u001b[0m\n\u001b[0;32m   1706\u001b[0m \u001b[1;33m\u001b[0m\u001b[0m\n",
        "\u001b[1;31mIndexError\u001b[0m: indices are out-of-bounds"
       ]
      }
     ],
     "prompt_number": 85
    },
    {
     "cell_type": "code",
     "collapsed": false,
     "input": [
      "file = open(\"mi_timeline.csv\", \"w\")\n",
      "df.to_csv(file, sep=\",\", encoding = \"utf-8\")\n",
      "#df1.to_csv(file, sep=\",\", encoding = \"utf-8\")\n",
      "file.close()"
     ],
     "language": "python",
     "metadata": {
      "slideshow": {
       "slide_type": "fragment"
      }
     },
     "outputs": [],
     "prompt_number": 131
    },
    {
     "cell_type": "markdown",
     "metadata": {
      "slideshow": {
       "slide_type": "subslide"
      }
     },
     "source": [
      "###3.2 Search on twitter and save results in a dataframe"
     ]
    },
    {
     "cell_type": "code",
     "collapsed": false,
     "input": [
      "busqueda_usuario=[]\n",
      "busqueda_texto=[]\n",
      "busqueda_created_at = []"
     ],
     "language": "python",
     "metadata": {
      "slideshow": {
       "slide_type": "fragment"
      }
     },
     "outputs": [],
     "prompt_number": 89
    },
    {
     "cell_type": "code",
     "collapsed": false,
     "input": [
      "for tweet in tweepy.Cursor(api.search,\n",
      "                           q=\"Obama\",\n",
      "                           rpp=100,\n",
      "                           result_type=\"recent\",\n",
      "                           include_entities=True,\n",
      "                           lang= \"en\",\n",
      "                           since='2015-01-01',\n",
      "                           until='2015-03-20').items(100):\n",
      "    busqueda_created_at.append(tweet.created_at)\n",
      "    busqueda_usuario.append(tweet.user.name)    \n",
      "    busqueda_texto.append(tweet.text)"
     ],
     "language": "python",
     "metadata": {
      "slideshow": {
       "slide_type": "fragment"
      }
     },
     "outputs": [],
     "prompt_number": 90
    },
    {
     "cell_type": "code",
     "collapsed": false,
     "input": [
      "len(busqueda_usuario)"
     ],
     "language": "python",
     "metadata": {
      "slideshow": {
       "slide_type": "fragment"
      }
     },
     "outputs": [
      {
       "metadata": {},
       "output_type": "pyout",
       "prompt_number": 91,
       "text": [
        "100"
       ]
      }
     ],
     "prompt_number": 91
    },
    {
     "cell_type": "code",
     "collapsed": false,
     "input": [
      "df2 = pd.DataFrame(busqueda_created_at)\n",
      "df2[\"fecha\"] = busqueda_created_at\n",
      "df2[\"usuario\"] = busqueda_usuario\n",
      "df2[\"texto\"] = busqueda_texto\n",
      "del df2[0]"
     ],
     "language": "python",
     "metadata": {
      "slideshow": {
       "slide_type": "subslide"
      }
     },
     "outputs": [],
     "prompt_number": 92
    },
    {
     "cell_type": "code",
     "collapsed": false,
     "input": [
      "df2"
     ],
     "language": "python",
     "metadata": {
      "slideshow": {
       "slide_type": "fragment"
      }
     },
     "outputs": [
      {
       "html": [
        "<div style=\"max-height:1000px;max-width:1500px;overflow:auto;\">\n",
        "<table border=\"1\" class=\"dataframe\">\n",
        "  <thead>\n",
        "    <tr style=\"text-align: right;\">\n",
        "      <th></th>\n",
        "      <th>fecha</th>\n",
        "      <th>usuario</th>\n",
        "      <th>texto</th>\n",
        "    </tr>\n",
        "  </thead>\n",
        "  <tbody>\n",
        "    <tr>\n",
        "      <th>0 </th>\n",
        "      <td>2015-03-15 20:56:02</td>\n",
        "      <td>   patricia erlandson</td>\n",
        "      <td> RT @chp3120: Obama To Senate: Back Off On Iran...</td>\n",
        "    </tr>\n",
        "    <tr>\n",
        "      <th>1 </th>\n",
        "      <td>2015-03-15 20:56:02</td>\n",
        "      <td>                 Mike</td>\n",
        "      <td> RT @mikandynothem: Bam! @SenRandPaul SLAMS dow...</td>\n",
        "    </tr>\n",
        "    <tr>\n",
        "      <th>2 </th>\n",
        "      <td>2015-03-15 20:56:01</td>\n",
        "      <td>    WhatsBest4Spencer</td>\n",
        "      <td> #grierlawoffice Key Player Photos &amp;amp; Timeli...</td>\n",
        "    </tr>\n",
        "    <tr>\n",
        "      <th>3 </th>\n",
        "      <td>2015-03-15 20:56:01</td>\n",
        "      <td>        Harry Styles.</td>\n",
        "      <td>   @dms_solo @ziallsvanilla \ud83d\ude39 I have Obama too lol</td>\n",
        "    </tr>\n",
        "    <tr>\n",
        "      <th>4 </th>\n",
        "      <td>2015-03-15 20:56:01</td>\n",
        "      <td>        DoraUnderhill</td>\n",
        "      <td> Message of Leader of the Islamic Republic of I...</td>\n",
        "    </tr>\n",
        "    <tr>\n",
        "      <th>5 </th>\n",
        "      <td>2015-03-15 20:56:00</td>\n",
        "      <td>           WB4Spencer</td>\n",
        "      <td> #grossdm Key Player Photos &amp;amp; Timeline http...</td>\n",
        "    </tr>\n",
        "    <tr>\n",
        "      <th>6 </th>\n",
        "      <td>2015-03-15 20:56:00</td>\n",
        "      <td>          Tony Parker</td>\n",
        "      <td> RT @PresidentRaps: Barack Obama singing shake ...</td>\n",
        "    </tr>\n",
        "    <tr>\n",
        "      <th>7 </th>\n",
        "      <td>2015-03-15 20:55:58</td>\n",
        "      <td>               debra </td>\n",
        "      <td> WAKEUP @oreillyfactor @megynkelly TREASON: Oba...</td>\n",
        "    </tr>\n",
        "    <tr>\n",
        "      <th>8 </th>\n",
        "      <td>2015-03-15 20:55:58</td>\n",
        "      <td>         Michael Heit</td>\n",
        "      <td> RT @SheriffClarke: Liberals and race hustling ...</td>\n",
        "    </tr>\n",
        "    <tr>\n",
        "      <th>9 </th>\n",
        "      <td>2015-03-15 20:55:58</td>\n",
        "      <td>           susan scot</td>\n",
        "      <td> RT @loudobbsnews: My Commentary on the #Obama ...</td>\n",
        "    </tr>\n",
        "    <tr>\n",
        "      <th>10</th>\n",
        "      <td>2015-03-15 20:55:58</td>\n",
        "      <td>           Yahoo News</td>\n",
        "      <td> RT @YahooFinance: Obama's worst economic promi...</td>\n",
        "    </tr>\n",
        "    <tr>\n",
        "      <th>11</th>\n",
        "      <td>2015-03-15 20:55:58</td>\n",
        "      <td>          tobydavis85</td>\n",
        "      <td> @barbls23 @Slate funny that Obama uses bibi ta...</td>\n",
        "    </tr>\n",
        "    <tr>\n",
        "      <th>12</th>\n",
        "      <td>2015-03-15 20:55:58</td>\n",
        "      <td>         Truth Seeker</td>\n",
        "      <td> RT @GodLovingTexan: Obama backed scheme to DEF...</td>\n",
        "    </tr>\n",
        "    <tr>\n",
        "      <th>13</th>\n",
        "      <td>2015-03-15 20:55:58</td>\n",
        "      <td>          ronal jesus</td>\n",
        "      <td> hello president obama like this you (bad very ...</td>\n",
        "    </tr>\n",
        "    <tr>\n",
        "      <th>14</th>\n",
        "      <td>2015-03-15 20:55:57</td>\n",
        "      <td>   Have a GREEN YEAR!</td>\n",
        "      <td> RT @sadieweiner: Editorial in PA says Toomey \"...</td>\n",
        "    </tr>\n",
        "    <tr>\n",
        "      <th>15</th>\n",
        "      <td>2015-03-15 20:55:48</td>\n",
        "      <td>        Laurinda Cole</td>\n",
        "      <td> choice is jb/obama or Ronald Reagan in Scott -...</td>\n",
        "    </tr>\n",
        "    <tr>\n",
        "      <th>16</th>\n",
        "      <td>2015-03-15 20:55:47</td>\n",
        "      <td>               RHYTHM</td>\n",
        "      <td> RT @WhiteHouse: \"Two years of higher education...</td>\n",
        "    </tr>\n",
        "    <tr>\n",
        "      <th>17</th>\n",
        "      <td>2015-03-15 20:55:47</td>\n",
        "      <td>         Aaron Takaza</td>\n",
        "      <td> Pro-Likud campaign call warns voters of 'Husse...</td>\n",
        "    </tr>\n",
        "    <tr>\n",
        "      <th>18</th>\n",
        "      <td>2015-03-15 20:55:46</td>\n",
        "      <td>         Efran Arvizu</td>\n",
        "      <td> RT @SenSanders: President Barack Obama: http:/...</td>\n",
        "    </tr>\n",
        "    <tr>\n",
        "      <th>19</th>\n",
        "      <td>2015-03-15 20:55:46</td>\n",
        "      <td>                Paper</td>\n",
        "      <td> Message of Leader of the Islamic Republic of I...</td>\n",
        "    </tr>\n",
        "    <tr>\n",
        "      <th>20</th>\n",
        "      <td>2015-03-15 20:55:46</td>\n",
        "      <td>   Urban Conservative</td>\n",
        "      <td> RT @GretchenInOK: Image of hypocritical Michel...</td>\n",
        "    </tr>\n",
        "    <tr>\n",
        "      <th>21</th>\n",
        "      <td>2015-03-15 20:55:46</td>\n",
        "      <td>        Lady Patriot </td>\n",
        "      <td> @FsujacksonJohn @ArnettProject @JackA2245 \\n\\n...</td>\n",
        "    </tr>\n",
        "    <tr>\n",
        "      <th>22</th>\n",
        "      <td>2015-03-15 20:55:45</td>\n",
        "      <td>            Tony Paul</td>\n",
        "      <td> RT @ConservativeBro: Obama adviser behind leak...</td>\n",
        "    </tr>\n",
        "    <tr>\n",
        "      <th>23</th>\n",
        "      <td>2015-03-15 20:55:45</td>\n",
        "      <td>             mayah w.</td>\n",
        "      <td> RT @recognize_j: \u201c@iWizOnYaKhalifa: \u201c@bniceloc...</td>\n",
        "    </tr>\n",
        "    <tr>\n",
        "      <th>24</th>\n",
        "      <td>2015-03-15 20:55:44</td>\n",
        "      <td>        Scott Wickman</td>\n",
        "      <td> RT @NileGardiner: Is Obama Sidestepping Congre...</td>\n",
        "    </tr>\n",
        "    <tr>\n",
        "      <th>25</th>\n",
        "      <td>2015-03-15 20:55:44</td>\n",
        "      <td>             T Gordon</td>\n",
        "      <td> RT @AdamMilstein: As Executions in #Iran hit 1...</td>\n",
        "    </tr>\n",
        "    <tr>\n",
        "      <th>26</th>\n",
        "      <td>2015-03-15 20:55:44</td>\n",
        "      <td>        Summer Morgan</td>\n",
        "      <td> RT @sierraamorgan: \u201c@PresidentRaps: Barack Oba...</td>\n",
        "    </tr>\n",
        "    <tr>\n",
        "      <th>27</th>\n",
        "      <td>2015-03-15 20:55:44</td>\n",
        "      <td>       Edmon Yarovich</td>\n",
        "      <td> Message of Leader of the Islamic Republic of I...</td>\n",
        "    </tr>\n",
        "    <tr>\n",
        "      <th>28</th>\n",
        "      <td>2015-03-15 20:55:42</td>\n",
        "      <td>         George Reeve</td>\n",
        "      <td> Obama jokes about Clinton email, knocks Republ...</td>\n",
        "    </tr>\n",
        "    <tr>\n",
        "      <th>29</th>\n",
        "      <td>2015-03-15 20:55:42</td>\n",
        "      <td>        liam williams</td>\n",
        "      <td> Message of Leader of the Islamic Republic of I...</td>\n",
        "    </tr>\n",
        "    <tr>\n",
        "      <th>...</th>\n",
        "      <td>...</td>\n",
        "      <td>...</td>\n",
        "      <td>...</td>\n",
        "    </tr>\n",
        "    <tr>\n",
        "      <th>70</th>\n",
        "      <td>2015-03-15 20:54:55</td>\n",
        "      <td>       Vince Iuliano </td>\n",
        "      <td> RT @Barry_O44: Suspect who shot two Ferguson c...</td>\n",
        "    </tr>\n",
        "    <tr>\n",
        "      <th>71</th>\n",
        "      <td>2015-03-15 20:54:54</td>\n",
        "      <td>                M3VOY</td>\n",
        "      <td> Top story: Jon Voight supports Netanyahu in ne...</td>\n",
        "    </tr>\n",
        "    <tr>\n",
        "      <th>72</th>\n",
        "      <td>2015-03-15 20:54:54</td>\n",
        "      <td>          Dave Frost </td>\n",
        "      <td> RT @Pen_Bird: in a few days, Jehovah willing, ...</td>\n",
        "    </tr>\n",
        "    <tr>\n",
        "      <th>73</th>\n",
        "      <td>2015-03-15 20:54:53</td>\n",
        "      <td>               alissa</td>\n",
        "      <td> Obama using tax money against Netanyahu. Anyon...</td>\n",
        "    </tr>\n",
        "    <tr>\n",
        "      <th>74</th>\n",
        "      <td>2015-03-15 20:54:53</td>\n",
        "      <td>        Gary Wm Myers</td>\n",
        "      <td> RT @PeterTownsend7: #muslim #islam Pres Barack...</td>\n",
        "    </tr>\n",
        "    <tr>\n",
        "      <th>75</th>\n",
        "      <td>2015-03-15 20:54:43</td>\n",
        "      <td>    All American Girl</td>\n",
        "      <td> U R using old statistics, prior to Obama liber...</td>\n",
        "    </tr>\n",
        "    <tr>\n",
        "      <th>76</th>\n",
        "      <td>2015-03-15 20:54:41</td>\n",
        "      <td>     Neva Grandinetti</td>\n",
        "      <td> RT @Stips620: BREAKING: Inspector General Anno...</td>\n",
        "    </tr>\n",
        "    <tr>\n",
        "      <th>77</th>\n",
        "      <td>2015-03-15 20:54:41</td>\n",
        "      <td>        Jackson Smith</td>\n",
        "      <td> Message of Leader of the Islamic Republic of I...</td>\n",
        "    </tr>\n",
        "    <tr>\n",
        "      <th>78</th>\n",
        "      <td>2015-03-15 20:54:40</td>\n",
        "      <td>         Alex Mescudi</td>\n",
        "      <td> Is it really flurrying right now...?! \ud83d\ude24 Thanks...</td>\n",
        "    </tr>\n",
        "    <tr>\n",
        "      <th>79</th>\n",
        "      <td>2015-03-15 20:54:40</td>\n",
        "      <td>       Thomas Scheidt</td>\n",
        "      <td> RT @BIZPACReview: This is what appeasement loo...</td>\n",
        "    </tr>\n",
        "    <tr>\n",
        "      <th>80</th>\n",
        "      <td>2015-03-15 20:54:40</td>\n",
        "      <td>        Candace Lewis</td>\n",
        "      <td> RT @SheriffClarke: https://t.co/GjlsNgckJb Who...</td>\n",
        "    </tr>\n",
        "    <tr>\n",
        "      <th>81</th>\n",
        "      <td>2015-03-15 20:54:39</td>\n",
        "      <td> Little Smokeys Books</td>\n",
        "      <td> Law of Association: Bill Ayers, a Domestic Ter...</td>\n",
        "    </tr>\n",
        "    <tr>\n",
        "      <th>82</th>\n",
        "      <td>2015-03-15 20:54:39</td>\n",
        "      <td>                Sunny</td>\n",
        "      <td>       I can bet $20 you didn't even get that joke</td>\n",
        "    </tr>\n",
        "    <tr>\n",
        "      <th>83</th>\n",
        "      <td>2015-03-15 20:54:39</td>\n",
        "      <td>      A Nave Fantasma</td>\n",
        "      <td> Palazzo pants are back for Michelle Obama: Wha...</td>\n",
        "    </tr>\n",
        "    <tr>\n",
        "      <th>84</th>\n",
        "      <td>2015-03-15 20:54:38</td>\n",
        "      <td>   EndRevelationTimes</td>\n",
        "      <td> Sa Prize Russian Nuclear Attack when Obama and...</td>\n",
        "    </tr>\n",
        "    <tr>\n",
        "      <th>85</th>\n",
        "      <td>2015-03-15 20:54:37</td>\n",
        "      <td>           Starburied</td>\n",
        "      <td> The only bracket Obama should worry about is t...</td>\n",
        "    </tr>\n",
        "    <tr>\n",
        "      <th>86</th>\n",
        "      <td>2015-03-15 20:54:37</td>\n",
        "      <td>           Obama News</td>\n",
        "      <td> Chicago land feud over Obama presidential libr...</td>\n",
        "    </tr>\n",
        "    <tr>\n",
        "      <th>87</th>\n",
        "      <td>2015-03-15 20:54:37</td>\n",
        "      <td>   Dr. Pavel Slavenko</td>\n",
        "      <td> Obama relieved that the world is looking for P...</td>\n",
        "    </tr>\n",
        "    <tr>\n",
        "      <th>88</th>\n",
        "      <td>2015-03-15 20:54:37</td>\n",
        "      <td>         My Two Cents</td>\n",
        "      <td> Bush/Cheney, dragged us into war for their pro...</td>\n",
        "    </tr>\n",
        "    <tr>\n",
        "      <th>89</th>\n",
        "      <td>2015-03-15 20:54:37</td>\n",
        "      <td>        H. Eric Loewe</td>\n",
        "      <td> RT @vicenews: Watch a sneak peek of our interv...</td>\n",
        "    </tr>\n",
        "    <tr>\n",
        "      <th>90</th>\n",
        "      <td>2015-03-15 20:54:26</td>\n",
        "      <td>               Miriam</td>\n",
        "      <td>  RT @FactsAboutPigs: RT for pigs.\\nFav for Obama.</td>\n",
        "    </tr>\n",
        "    <tr>\n",
        "      <th>91</th>\n",
        "      <td>2015-03-15 20:54:26</td>\n",
        "      <td>               A SFWW</td>\n",
        "      <td> RT @MonicaCrowley: #HELP  RT \"CIA director ech...</td>\n",
        "    </tr>\n",
        "    <tr>\n",
        "      <th>92</th>\n",
        "      <td>2015-03-15 20:54:25</td>\n",
        "      <td>       L.H. Shupe Jr.</td>\n",
        "      <td> RT @usfreedomarmyx: The soap opera continues. ...</td>\n",
        "    </tr>\n",
        "    <tr>\n",
        "      <th>93</th>\n",
        "      <td>2015-03-15 20:54:25</td>\n",
        "      <td>                 Leah</td>\n",
        "      <td> RT @DrMartyFox: Hands Up Don't Shoot: A Lie Th...</td>\n",
        "    </tr>\n",
        "    <tr>\n",
        "      <th>94</th>\n",
        "      <td>2015-03-15 20:54:24</td>\n",
        "      <td>       Jackie Miranda</td>\n",
        "      <td> Photoset: heeeeeeeeeeeres-johnny: Is Obama eve...</td>\n",
        "    </tr>\n",
        "    <tr>\n",
        "      <th>95</th>\n",
        "      <td>2015-03-15 20:54:24</td>\n",
        "      <td>  Shirley J. Marcello</td>\n",
        "      <td> Seeking The Truth\\n#Seekingthetruth\\n#PressTV\\...</td>\n",
        "    </tr>\n",
        "    <tr>\n",
        "      <th>96</th>\n",
        "      <td>2015-03-15 20:54:23</td>\n",
        "      <td>               Swiggy</td>\n",
        "      <td> @MadSusieComix It's our version of \"Thanks, Ob...</td>\n",
        "    </tr>\n",
        "    <tr>\n",
        "      <th>97</th>\n",
        "      <td>2015-03-15 20:54:23</td>\n",
        "      <td>        Brent Buckley</td>\n",
        "      <td> @JoshKaplan93 well I'd think about it if the e...</td>\n",
        "    </tr>\n",
        "    <tr>\n",
        "      <th>98</th>\n",
        "      <td>2015-03-15 20:54:22</td>\n",
        "      <td>               Tina Q</td>\n",
        "      <td> RT @WSCP2: Americans dont fund terrorism @Bara...</td>\n",
        "    </tr>\n",
        "    <tr>\n",
        "      <th>99</th>\n",
        "      <td>2015-03-15 20:54:21</td>\n",
        "      <td>             Mavrie12</td>\n",
        "      <td> @Callisto1947 @jstines3 @Stonewall_77 @Bravehe...</td>\n",
        "    </tr>\n",
        "  </tbody>\n",
        "</table>\n",
        "<p>100 rows \u00d7 3 columns</p>\n",
        "</div>"
       ],
       "metadata": {},
       "output_type": "pyout",
       "prompt_number": 93,
       "text": [
        "                 fecha               usuario  \\\n",
        "0  2015-03-15 20:56:02    patricia erlandson   \n",
        "1  2015-03-15 20:56:02                  Mike   \n",
        "2  2015-03-15 20:56:01     WhatsBest4Spencer   \n",
        "3  2015-03-15 20:56:01         Harry Styles.   \n",
        "4  2015-03-15 20:56:01         DoraUnderhill   \n",
        "5  2015-03-15 20:56:00            WB4Spencer   \n",
        "6  2015-03-15 20:56:00           Tony Parker   \n",
        "7  2015-03-15 20:55:58                debra    \n",
        "8  2015-03-15 20:55:58          Michael Heit   \n",
        "9  2015-03-15 20:55:58            susan scot   \n",
        "10 2015-03-15 20:55:58            Yahoo News   \n",
        "11 2015-03-15 20:55:58           tobydavis85   \n",
        "12 2015-03-15 20:55:58          Truth Seeker   \n",
        "13 2015-03-15 20:55:58           ronal jesus   \n",
        "14 2015-03-15 20:55:57    Have a GREEN YEAR!   \n",
        "15 2015-03-15 20:55:48         Laurinda Cole   \n",
        "16 2015-03-15 20:55:47                RHYTHM   \n",
        "17 2015-03-15 20:55:47          Aaron Takaza   \n",
        "18 2015-03-15 20:55:46          Efran Arvizu   \n",
        "19 2015-03-15 20:55:46                 Paper   \n",
        "20 2015-03-15 20:55:46    Urban Conservative   \n",
        "21 2015-03-15 20:55:46         Lady Patriot    \n",
        "22 2015-03-15 20:55:45             Tony Paul   \n",
        "23 2015-03-15 20:55:45              mayah w.   \n",
        "24 2015-03-15 20:55:44         Scott Wickman   \n",
        "25 2015-03-15 20:55:44              T Gordon   \n",
        "26 2015-03-15 20:55:44         Summer Morgan   \n",
        "27 2015-03-15 20:55:44        Edmon Yarovich   \n",
        "28 2015-03-15 20:55:42          George Reeve   \n",
        "29 2015-03-15 20:55:42         liam williams   \n",
        "..                 ...                   ...   \n",
        "70 2015-03-15 20:54:55        Vince Iuliano    \n",
        "71 2015-03-15 20:54:54                 M3VOY   \n",
        "72 2015-03-15 20:54:54           Dave Frost    \n",
        "73 2015-03-15 20:54:53                alissa   \n",
        "74 2015-03-15 20:54:53         Gary Wm Myers   \n",
        "75 2015-03-15 20:54:43     All American Girl   \n",
        "76 2015-03-15 20:54:41      Neva Grandinetti   \n",
        "77 2015-03-15 20:54:41         Jackson Smith   \n",
        "78 2015-03-15 20:54:40          Alex Mescudi   \n",
        "79 2015-03-15 20:54:40        Thomas Scheidt   \n",
        "80 2015-03-15 20:54:40         Candace Lewis   \n",
        "81 2015-03-15 20:54:39  Little Smokeys Books   \n",
        "82 2015-03-15 20:54:39                 Sunny   \n",
        "83 2015-03-15 20:54:39       A Nave Fantasma   \n",
        "84 2015-03-15 20:54:38    EndRevelationTimes   \n",
        "85 2015-03-15 20:54:37            Starburied   \n",
        "86 2015-03-15 20:54:37            Obama News   \n",
        "87 2015-03-15 20:54:37    Dr. Pavel Slavenko   \n",
        "88 2015-03-15 20:54:37          My Two Cents   \n",
        "89 2015-03-15 20:54:37         H. Eric Loewe   \n",
        "90 2015-03-15 20:54:26                Miriam   \n",
        "91 2015-03-15 20:54:26                A SFWW   \n",
        "92 2015-03-15 20:54:25        L.H. Shupe Jr.   \n",
        "93 2015-03-15 20:54:25                  Leah   \n",
        "94 2015-03-15 20:54:24        Jackie Miranda   \n",
        "95 2015-03-15 20:54:24   Shirley J. Marcello   \n",
        "96 2015-03-15 20:54:23                Swiggy   \n",
        "97 2015-03-15 20:54:23         Brent Buckley   \n",
        "98 2015-03-15 20:54:22                Tina Q   \n",
        "99 2015-03-15 20:54:21              Mavrie12   \n",
        "\n",
        "                                                texto  \n",
        "0   RT @chp3120: Obama To Senate: Back Off On Iran...  \n",
        "1   RT @mikandynothem: Bam! @SenRandPaul SLAMS dow...  \n",
        "2   #grierlawoffice Key Player Photos &amp; Timeli...  \n",
        "3     @dms_solo @ziallsvanilla \ud83d\ude39 I have Obama too lol  \n",
        "4   Message of Leader of the Islamic Republic of I...  \n",
        "5   #grossdm Key Player Photos &amp; Timeline http...  \n",
        "6   RT @PresidentRaps: Barack Obama singing shake ...  \n",
        "7   WAKEUP @oreillyfactor @megynkelly TREASON: Oba...  \n",
        "8   RT @SheriffClarke: Liberals and race hustling ...  \n",
        "9   RT @loudobbsnews: My Commentary on the #Obama ...  \n",
        "10  RT @YahooFinance: Obama's worst economic promi...  \n",
        "11  @barbls23 @Slate funny that Obama uses bibi ta...  \n",
        "12  RT @GodLovingTexan: Obama backed scheme to DEF...  \n",
        "13  hello president obama like this you (bad very ...  \n",
        "14  RT @sadieweiner: Editorial in PA says Toomey \"...  \n",
        "15  choice is jb/obama or Ronald Reagan in Scott -...  \n",
        "16  RT @WhiteHouse: \"Two years of higher education...  \n",
        "17  Pro-Likud campaign call warns voters of 'Husse...  \n",
        "18  RT @SenSanders: President Barack Obama: http:/...  \n",
        "19  Message of Leader of the Islamic Republic of I...  \n",
        "20  RT @GretchenInOK: Image of hypocritical Michel...  \n",
        "21  @FsujacksonJohn @ArnettProject @JackA2245 \\n\\n...  \n",
        "22  RT @ConservativeBro: Obama adviser behind leak...  \n",
        "23  RT @recognize_j: \u201c@iWizOnYaKhalifa: \u201c@bniceloc...  \n",
        "24  RT @NileGardiner: Is Obama Sidestepping Congre...  \n",
        "25  RT @AdamMilstein: As Executions in #Iran hit 1...  \n",
        "26  RT @sierraamorgan: \u201c@PresidentRaps: Barack Oba...  \n",
        "27  Message of Leader of the Islamic Republic of I...  \n",
        "28  Obama jokes about Clinton email, knocks Republ...  \n",
        "29  Message of Leader of the Islamic Republic of I...  \n",
        "..                                                ...  \n",
        "70  RT @Barry_O44: Suspect who shot two Ferguson c...  \n",
        "71  Top story: Jon Voight supports Netanyahu in ne...  \n",
        "72  RT @Pen_Bird: in a few days, Jehovah willing, ...  \n",
        "73  Obama using tax money against Netanyahu. Anyon...  \n",
        "74  RT @PeterTownsend7: #muslim #islam Pres Barack...  \n",
        "75  U R using old statistics, prior to Obama liber...  \n",
        "76  RT @Stips620: BREAKING: Inspector General Anno...  \n",
        "77  Message of Leader of the Islamic Republic of I...  \n",
        "78  Is it really flurrying right now...?! \ud83d\ude24 Thanks...  \n",
        "79  RT @BIZPACReview: This is what appeasement loo...  \n",
        "80  RT @SheriffClarke: https://t.co/GjlsNgckJb Who...  \n",
        "81  Law of Association: Bill Ayers, a Domestic Ter...  \n",
        "82        I can bet $20 you didn't even get that joke  \n",
        "83  Palazzo pants are back for Michelle Obama: Wha...  \n",
        "84  Sa Prize Russian Nuclear Attack when Obama and...  \n",
        "85  The only bracket Obama should worry about is t...  \n",
        "86  Chicago land feud over Obama presidential libr...  \n",
        "87  Obama relieved that the world is looking for P...  \n",
        "88  Bush/Cheney, dragged us into war for their pro...  \n",
        "89  RT @vicenews: Watch a sneak peek of our interv...  \n",
        "90   RT @FactsAboutPigs: RT for pigs.\\nFav for Obama.  \n",
        "91  RT @MonicaCrowley: #HELP  RT \"CIA director ech...  \n",
        "92  RT @usfreedomarmyx: The soap opera continues. ...  \n",
        "93  RT @DrMartyFox: Hands Up Don't Shoot: A Lie Th...  \n",
        "94  Photoset: heeeeeeeeeeeres-johnny: Is Obama eve...  \n",
        "95  Seeking The Truth\\n#Seekingthetruth\\n#PressTV\\...  \n",
        "96  @MadSusieComix It's our version of \"Thanks, Ob...  \n",
        "97  @JoshKaplan93 well I'd think about it if the e...  \n",
        "98  RT @WSCP2: Americans dont fund terrorism @Bara...  \n",
        "99  @Callisto1947 @jstines3 @Stonewall_77 @Bravehe...  \n",
        "\n",
        "[100 rows x 3 columns]"
       ]
      }
     ],
     "prompt_number": 93
    },
    {
     "cell_type": "code",
     "collapsed": false,
     "input": [
      "file = open(\"mi_busqueda.csv\", \"w\")\n",
      "df2.to_csv(file, sep=\",\", encoding = \"utf-8\")\n",
      "file.close()"
     ],
     "language": "python",
     "metadata": {
      "slideshow": {
       "slide_type": "fragment"
      }
     },
     "outputs": [],
     "prompt_number": 94
    },
    {
     "cell_type": "code",
     "collapsed": false,
     "input": [
      "!ipython nbconvert --to slides Python_Periodistes.ipynb --post serve"
     ],
     "language": "python",
     "metadata": {
      "slideshow": {
       "slide_type": "skip"
      }
     },
     "outputs": [
      {
       "output_type": "stream",
       "stream": "stdout",
       "text": [
        "[NbConvertApp] Using existing profile dir: u'/home/nuria/.ipython/profile_default'\r\n"
       ]
      },
      {
       "output_type": "stream",
       "stream": "stdout",
       "text": [
        "[NbConvertApp] Converting notebook Python_Periodistes.ipynb to slides\r\n",
        "[NbConvertApp] Support files will be in Python_Periodistes_files/\r\n"
       ]
      },
      {
       "output_type": "stream",
       "stream": "stdout",
       "text": [
        "[NbConvertApp] Loaded template slides_reveal.tpl\r\n"
       ]
      },
      {
       "output_type": "stream",
       "stream": "stdout",
       "text": [
        "/usr/local/lib/python2.7/dist-packages/IPython/nbconvert/filters/markdown.py:78: UserWarning: Node.js 0.9.12 or later wasn't found.\r\n",
        "Nbconvert will try to use Pandoc instead.\r\n",
        "  \"Nbconvert will try to use Pandoc instead.\")\r\n"
       ]
      },
      {
       "output_type": "stream",
       "stream": "stdout",
       "text": [
        "[NbConvertApp] Writing 366398 bytes to Python_Periodistes.slides.html\r\n",
        "[NbConvertApp] Redirecting reveal.js requests to https://cdn.jsdelivr.net/reveal.js/2.5.0\r\n",
        "Serving your slides at http://127.0.0.1:8000/Python_Periodistes.slides.html\r\n",
        "Use Control-C to stop this server\r\n"
       ]
      },
      {
       "output_type": "stream",
       "stream": "stdout",
       "text": [
        "\r\n",
        "(process:4278): GLib-CRITICAL **: g_slice_set_config: assertion 'sys_page_size == 0' failed\r\n"
       ]
      },
      {
       "output_type": "stream",
       "stream": "stdout",
       "text": [
        "WARNING:tornado.access:404 GET /custom.css (127.0.0.1) 0.81ms\r\n"
       ]
      },
      {
       "output_type": "stream",
       "stream": "stdout",
       "text": [
        "WARNING:tornado.access:404 GET /custom.css (127.0.0.1) 0.77ms\r\n"
       ]
      }
     ]
    }
   ],
   "metadata": {}
  }
 ]
}